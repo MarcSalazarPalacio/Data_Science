{
 "cells": [
  {
   "cell_type": "markdown",
   "id": "a7d3bd49-06a0-4f39-bffc-cd38384bcb4b",
   "metadata": {},
   "source": [
    "# 20: VALIDAR EL MODELO (CONJUNTO ENTRENAMIENTO Y TESTING)"
   ]
  },
  {
   "cell_type": "markdown",
   "id": "5234c587-ccf1-47ad-8c71-090329a63fc8",
   "metadata": {},
   "source": [
    "Es posible que el modelo que diseñamos actue muy bien con los datos que se han usado para crearlo pero muy mal con otros datosque están fuera del conjunto de entrenamineto. Este fenómeno se conoce como OVERFITTING. Para evitar esto, se dividen los datos en conjunto de entrenamiento y conjunto de testing."
   ]
  },
  {
   "cell_type": "code",
   "execution_count": 2,
   "id": "7c97016e-c966-4f85-80d8-5f001df2b174",
   "metadata": {},
   "outputs": [],
   "source": [
    "import pandas as pd\n",
    "import numpy as np\n",
    "import matplotlib.pyplot as plt\n",
    "import statsmodels.formula.api as smf"
   ]
  },
  {
   "cell_type": "code",
   "execution_count": 3,
   "id": "b71efa61-45f1-4959-8823-67307517bf23",
   "metadata": {},
   "outputs": [],
   "source": [
    "# Cargamos los datos (en este caso lo haremos de otro modo)\n",
    "\n",
    "datos = pd.read_csv('../../Recursos_curso/datasets/ads/Advertising.csv') # cada ../ significa ir un nivel atras en directorio"
   ]
  },
  {
   "cell_type": "code",
   "execution_count": 4,
   "id": "f9cf6360-5e4c-4944-8877-a8d243520d3b",
   "metadata": {},
   "outputs": [
    {
     "data": {
      "text/html": [
       "<div>\n",
       "<style scoped>\n",
       "    .dataframe tbody tr th:only-of-type {\n",
       "        vertical-align: middle;\n",
       "    }\n",
       "\n",
       "    .dataframe tbody tr th {\n",
       "        vertical-align: top;\n",
       "    }\n",
       "\n",
       "    .dataframe thead th {\n",
       "        text-align: right;\n",
       "    }\n",
       "</style>\n",
       "<table border=\"1\" class=\"dataframe\">\n",
       "  <thead>\n",
       "    <tr style=\"text-align: right;\">\n",
       "      <th></th>\n",
       "      <th>TV</th>\n",
       "      <th>Radio</th>\n",
       "      <th>Newspaper</th>\n",
       "      <th>Sales</th>\n",
       "    </tr>\n",
       "  </thead>\n",
       "  <tbody>\n",
       "    <tr>\n",
       "      <th>0</th>\n",
       "      <td>230.1</td>\n",
       "      <td>37.8</td>\n",
       "      <td>69.2</td>\n",
       "      <td>22.1</td>\n",
       "    </tr>\n",
       "    <tr>\n",
       "      <th>1</th>\n",
       "      <td>44.5</td>\n",
       "      <td>39.3</td>\n",
       "      <td>45.1</td>\n",
       "      <td>10.4</td>\n",
       "    </tr>\n",
       "    <tr>\n",
       "      <th>2</th>\n",
       "      <td>17.2</td>\n",
       "      <td>45.9</td>\n",
       "      <td>69.3</td>\n",
       "      <td>9.3</td>\n",
       "    </tr>\n",
       "    <tr>\n",
       "      <th>3</th>\n",
       "      <td>151.5</td>\n",
       "      <td>41.3</td>\n",
       "      <td>58.5</td>\n",
       "      <td>18.5</td>\n",
       "    </tr>\n",
       "    <tr>\n",
       "      <th>4</th>\n",
       "      <td>180.8</td>\n",
       "      <td>10.8</td>\n",
       "      <td>58.4</td>\n",
       "      <td>12.9</td>\n",
       "    </tr>\n",
       "  </tbody>\n",
       "</table>\n",
       "</div>"
      ],
      "text/plain": [
       "      TV  Radio  Newspaper  Sales\n",
       "0  230.1   37.8       69.2   22.1\n",
       "1   44.5   39.3       45.1   10.4\n",
       "2   17.2   45.9       69.3    9.3\n",
       "3  151.5   41.3       58.5   18.5\n",
       "4  180.8   10.8       58.4   12.9"
      ]
     },
     "execution_count": 4,
     "metadata": {},
     "output_type": "execute_result"
    }
   ],
   "source": [
    "datos.head()"
   ]
  },
  {
   "cell_type": "markdown",
   "id": "0f8eb682-24ed-4199-bdb9-aa5ce8269659",
   "metadata": {},
   "source": [
    "### Generar el conjunto de entrenamiento - testing (uno de los métodos que hemos estudiado antes)"
   ]
  },
  {
   "cell_type": "code",
   "execution_count": 10,
   "id": "45e90a5b-5d0c-4e39-8e57-fa412b2e4a1d",
   "metadata": {},
   "outputs": [
    {
     "data": {
      "image/png": "[encoded data removed]",
      "text/plain": [
       "<Figure size 640x480 with 1 Axes>"
      ]
     },
     "metadata": {},
     "output_type": "display_data"
    }
   ],
   "source": [
    "# Generar números aleatorio con distribución aleatoria con media 0 y desviación estándar 1\n",
    "\n",
    "np.random.seed(39441890)\n",
    "aleatorios = np.random.randn(len(datos))\n",
    "\n",
    "plt.hist(aleatorios)\n",
    "%matplotlib inline"
   ]
  },
  {
   "cell_type": "code",
   "execution_count": 12,
   "id": "d5225383-a89f-439f-8025-69b5cd38b30e",
   "metadata": {},
   "outputs": [
    {
     "data": {
      "text/plain": [
       "array([ True,  True, False, False,  True,  True,  True,  True,  True,\n",
       "        True,  True,  True,  True,  True,  True,  True,  True,  True,\n",
       "        True,  True,  True,  True, False,  True,  True, False, False,\n",
       "        True, False,  True,  True,  True,  True,  True,  True,  True,\n",
       "        True,  True, False,  True,  True,  True,  True, False,  True,\n",
       "       False, False,  True, False,  True,  True,  True, False,  True,\n",
       "        True,  True,  True,  True,  True,  True,  True,  True,  True,\n",
       "        True,  True,  True,  True,  True,  True, False,  True, False,\n",
       "        True, False, False,  True,  True, False,  True,  True,  True,\n",
       "        True,  True,  True,  True, False,  True, False,  True,  True,\n",
       "        True, False, False,  True,  True,  True,  True,  True,  True,\n",
       "       False,  True,  True, False,  True,  True,  True,  True,  True,\n",
       "       False,  True,  True, False,  True,  True,  True, False,  True,\n",
       "        True,  True,  True, False,  True,  True,  True,  True,  True,\n",
       "        True,  True, False,  True, False,  True,  True, False,  True,\n",
       "        True,  True,  True, False,  True,  True, False, False, False,\n",
       "       False, False,  True, False,  True,  True,  True,  True, False,\n",
       "        True,  True,  True,  True,  True,  True,  True,  True,  True,\n",
       "        True,  True,  True,  True,  True,  True,  True,  True,  True,\n",
       "        True,  True,  True, False,  True,  True,  True,  True, False,\n",
       "        True,  True, False,  True,  True,  True,  True,  True,  True,\n",
       "        True,  True,  True,  True,  True,  True,  True,  True, False,\n",
       "       False,  True])"
      ]
     },
     "execution_count": 12,
     "metadata": {},
     "output_type": "execute_result"
    }
   ],
   "source": [
    "# Generar una matriz de True o False para discriminar las posiciones\n",
    "\n",
    "apoyo = (aleatorios < 0.8) # deja como True aquellas posiciones que tengan un número menor a 0.8 (aprox el 80%)\n",
    "apoyo"
   ]
  },
  {
   "cell_type": "code",
   "execution_count": 13,
   "id": "4daae6e2-1cfd-494a-9354-f6760bd41255",
   "metadata": {},
   "outputs": [],
   "source": [
    "# Generar el conjunto de testing y el de entrenamiento a partir de estos valores aleatorios\n",
    "\n",
    "entrenamiento = datos[apoyo]\n",
    "testing = datos[~apoyo] # Hace la inversa de la línea anterior"
   ]
  },
  {
   "cell_type": "code",
   "execution_count": 14,
   "id": "149e231e-287e-4549-ae09-6eb0a074a9e6",
   "metadata": {},
   "outputs": [
    {
     "data": {
      "text/html": [
       "<div>\n",
       "<style scoped>\n",
       "    .dataframe tbody tr th:only-of-type {\n",
       "        vertical-align: middle;\n",
       "    }\n",
       "\n",
       "    .dataframe tbody tr th {\n",
       "        vertical-align: top;\n",
       "    }\n",
       "\n",
       "    .dataframe thead th {\n",
       "        text-align: right;\n",
       "    }\n",
       "</style>\n",
       "<table border=\"1\" class=\"dataframe\">\n",
       "  <thead>\n",
       "    <tr style=\"text-align: right;\">\n",
       "      <th></th>\n",
       "      <th>TV</th>\n",
       "      <th>Radio</th>\n",
       "      <th>Newspaper</th>\n",
       "      <th>Sales</th>\n",
       "    </tr>\n",
       "  </thead>\n",
       "  <tbody>\n",
       "    <tr>\n",
       "      <th>0</th>\n",
       "      <td>230.1</td>\n",
       "      <td>37.8</td>\n",
       "      <td>69.2</td>\n",
       "      <td>22.1</td>\n",
       "    </tr>\n",
       "    <tr>\n",
       "      <th>1</th>\n",
       "      <td>44.5</td>\n",
       "      <td>39.3</td>\n",
       "      <td>45.1</td>\n",
       "      <td>10.4</td>\n",
       "    </tr>\n",
       "    <tr>\n",
       "      <th>4</th>\n",
       "      <td>180.8</td>\n",
       "      <td>10.8</td>\n",
       "      <td>58.4</td>\n",
       "      <td>12.9</td>\n",
       "    </tr>\n",
       "    <tr>\n",
       "      <th>5</th>\n",
       "      <td>8.7</td>\n",
       "      <td>48.9</td>\n",
       "      <td>75.0</td>\n",
       "      <td>7.2</td>\n",
       "    </tr>\n",
       "    <tr>\n",
       "      <th>6</th>\n",
       "      <td>57.5</td>\n",
       "      <td>32.8</td>\n",
       "      <td>23.5</td>\n",
       "      <td>11.8</td>\n",
       "    </tr>\n",
       "  </tbody>\n",
       "</table>\n",
       "</div>"
      ],
      "text/plain": [
       "      TV  Radio  Newspaper  Sales\n",
       "0  230.1   37.8       69.2   22.1\n",
       "1   44.5   39.3       45.1   10.4\n",
       "4  180.8   10.8       58.4   12.9\n",
       "5    8.7   48.9       75.0    7.2\n",
       "6   57.5   32.8       23.5   11.8"
      ]
     },
     "execution_count": 14,
     "metadata": {},
     "output_type": "execute_result"
    }
   ],
   "source": [
    "entrenamiento.head()"
   ]
  },
  {
   "cell_type": "code",
   "execution_count": 15,
   "id": "3be76a92-c226-4a73-b7d3-db5a33adcc42",
   "metadata": {},
   "outputs": [
    {
     "data": {
      "text/html": [
       "<div>\n",
       "<style scoped>\n",
       "    .dataframe tbody tr th:only-of-type {\n",
       "        vertical-align: middle;\n",
       "    }\n",
       "\n",
       "    .dataframe tbody tr th {\n",
       "        vertical-align: top;\n",
       "    }\n",
       "\n",
       "    .dataframe thead th {\n",
       "        text-align: right;\n",
       "    }\n",
       "</style>\n",
       "<table border=\"1\" class=\"dataframe\">\n",
       "  <thead>\n",
       "    <tr style=\"text-align: right;\">\n",
       "      <th></th>\n",
       "      <th>TV</th>\n",
       "      <th>Radio</th>\n",
       "      <th>Newspaper</th>\n",
       "      <th>Sales</th>\n",
       "    </tr>\n",
       "  </thead>\n",
       "  <tbody>\n",
       "    <tr>\n",
       "      <th>2</th>\n",
       "      <td>17.2</td>\n",
       "      <td>45.9</td>\n",
       "      <td>69.3</td>\n",
       "      <td>9.3</td>\n",
       "    </tr>\n",
       "    <tr>\n",
       "      <th>3</th>\n",
       "      <td>151.5</td>\n",
       "      <td>41.3</td>\n",
       "      <td>58.5</td>\n",
       "      <td>18.5</td>\n",
       "    </tr>\n",
       "    <tr>\n",
       "      <th>22</th>\n",
       "      <td>13.2</td>\n",
       "      <td>15.9</td>\n",
       "      <td>49.6</td>\n",
       "      <td>5.6</td>\n",
       "    </tr>\n",
       "    <tr>\n",
       "      <th>25</th>\n",
       "      <td>262.9</td>\n",
       "      <td>3.5</td>\n",
       "      <td>19.5</td>\n",
       "      <td>12.0</td>\n",
       "    </tr>\n",
       "    <tr>\n",
       "      <th>26</th>\n",
       "      <td>142.9</td>\n",
       "      <td>29.3</td>\n",
       "      <td>12.6</td>\n",
       "      <td>15.0</td>\n",
       "    </tr>\n",
       "  </tbody>\n",
       "</table>\n",
       "</div>"
      ],
      "text/plain": [
       "       TV  Radio  Newspaper  Sales\n",
       "2    17.2   45.9       69.3    9.3\n",
       "3   151.5   41.3       58.5   18.5\n",
       "22   13.2   15.9       49.6    5.6\n",
       "25  262.9    3.5       19.5   12.0\n",
       "26  142.9   29.3       12.6   15.0"
      ]
     },
     "execution_count": 15,
     "metadata": {},
     "output_type": "execute_result"
    }
   ],
   "source": [
    "testing.head()"
   ]
  },
  {
   "cell_type": "code",
   "execution_count": 17,
   "id": "ccb1d88c-c254-40d0-9dcc-b43b8d59c8f0",
   "metadata": {},
   "outputs": [
    {
     "name": "stdout",
     "output_type": "stream",
     "text": [
      "El conjunto de entrenamiento tiene el 78.5% de los datos\n",
      "El conjunto de testing tiene el 21.5% de los datos\n"
     ]
    }
   ],
   "source": [
    "print(f'El conjunto de entrenamiento tiene el {100 * len(entrenamiento) / len(datos)}% de los datos')\n",
    "print(f'El conjunto de testing tiene el {100 * len(testing) / len(datos)}% de los datos')"
   ]
  },
  {
   "cell_type": "markdown",
   "id": "304779b5-5c7a-4721-9397-45863a531baf",
   "metadata": {},
   "source": [
    "### Crear el modelo a partir del conjunto de entrenamiento"
   ]
  },
  {
   "cell_type": "code",
   "execution_count": 18,
   "id": "4e96ae6b-2c54-4b61-9c33-b5ad8e746233",
   "metadata": {},
   "outputs": [],
   "source": [
    "regresion_lineal = smf.ols(formula = 'Sales ~ TV + Radio', data = entrenamiento).fit()"
   ]
  },
  {
   "cell_type": "code",
   "execution_count": 19,
   "id": "c8c12459-b047-411f-934f-8cf5fb48a740",
   "metadata": {},
   "outputs": [
    {
     "data": {
      "text/plain": [
       "Intercept    2.953261\n",
       "TV           0.045284\n",
       "Radio        0.188135\n",
       "dtype: float64"
      ]
     },
     "execution_count": 19,
     "metadata": {},
     "output_type": "execute_result"
    }
   ],
   "source": [
    "regresion_lineal.params"
   ]
  },
  {
   "cell_type": "markdown",
   "id": "61dac98a-d921-4642-ade2-3065cedcdc26",
   "metadata": {},
   "source": [
    "MODELO\n",
    "\n",
    "Sales = 2.953261 + (0.045284 * TV) + (0.188135 * Radio)"
   ]
  },
  {
   "cell_type": "markdown",
   "id": "ea48f460-87e8-4d99-842e-8a133222e9b1",
   "metadata": {},
   "source": [
    "### Validar el modelo con el conjunto de Testing"
   ]
  },
  {
   "cell_type": "code",
   "execution_count": 23,
   "id": "bda6475f-3637-4bbd-8c57-2bb26c871650",
   "metadata": {},
   "outputs": [
    {
     "name": "stderr",
     "output_type": "stream",
     "text": [
      "C:\\Users\\Usuario\\AppData\\Local\\Temp\\ipykernel_19568\\4260810458.py:3: SettingWithCopyWarning: \n",
      "A value is trying to be set on a copy of a slice from a DataFrame.\n",
      "Try using .loc[row_indexer,col_indexer] = value instead\n",
      "\n",
      "See the caveats in the documentation: https://pandas.pydata.org/pandas-docs/stable/user_guide/indexing.html#returning-a-view-versus-a-copy\n",
      "  testing['Predicción'] = regresion_lineal.predict(testing[['TV', 'Radio']])\n"
     ]
    },
    {
     "data": {
      "text/html": [
       "<div>\n",
       "<style scoped>\n",
       "    .dataframe tbody tr th:only-of-type {\n",
       "        vertical-align: middle;\n",
       "    }\n",
       "\n",
       "    .dataframe tbody tr th {\n",
       "        vertical-align: top;\n",
       "    }\n",
       "\n",
       "    .dataframe thead th {\n",
       "        text-align: right;\n",
       "    }\n",
       "</style>\n",
       "<table border=\"1\" class=\"dataframe\">\n",
       "  <thead>\n",
       "    <tr style=\"text-align: right;\">\n",
       "      <th></th>\n",
       "      <th>TV</th>\n",
       "      <th>Radio</th>\n",
       "      <th>Newspaper</th>\n",
       "      <th>Sales</th>\n",
       "      <th>Predicción</th>\n",
       "    </tr>\n",
       "  </thead>\n",
       "  <tbody>\n",
       "    <tr>\n",
       "      <th>2</th>\n",
       "      <td>17.2</td>\n",
       "      <td>45.9</td>\n",
       "      <td>69.3</td>\n",
       "      <td>9.3</td>\n",
       "      <td>12.367522</td>\n",
       "    </tr>\n",
       "    <tr>\n",
       "      <th>3</th>\n",
       "      <td>151.5</td>\n",
       "      <td>41.3</td>\n",
       "      <td>58.5</td>\n",
       "      <td>18.5</td>\n",
       "      <td>17.583727</td>\n",
       "    </tr>\n",
       "    <tr>\n",
       "      <th>22</th>\n",
       "      <td>13.2</td>\n",
       "      <td>15.9</td>\n",
       "      <td>49.6</td>\n",
       "      <td>5.6</td>\n",
       "      <td>6.542348</td>\n",
       "    </tr>\n",
       "    <tr>\n",
       "      <th>25</th>\n",
       "      <td>262.9</td>\n",
       "      <td>3.5</td>\n",
       "      <td>19.5</td>\n",
       "      <td>12.0</td>\n",
       "      <td>15.516862</td>\n",
       "    </tr>\n",
       "    <tr>\n",
       "      <th>26</th>\n",
       "      <td>142.9</td>\n",
       "      <td>29.3</td>\n",
       "      <td>12.6</td>\n",
       "      <td>15.0</td>\n",
       "      <td>14.936670</td>\n",
       "    </tr>\n",
       "  </tbody>\n",
       "</table>\n",
       "</div>"
      ],
      "text/plain": [
       "       TV  Radio  Newspaper  Sales  Predicción\n",
       "2    17.2   45.9       69.3    9.3   12.367522\n",
       "3   151.5   41.3       58.5   18.5   17.583727\n",
       "22   13.2   15.9       49.6    5.6    6.542348\n",
       "25  262.9    3.5       19.5   12.0   15.516862\n",
       "26  142.9   29.3       12.6   15.0   14.936670"
      ]
     },
     "execution_count": 23,
     "metadata": {},
     "output_type": "execute_result"
    }
   ],
   "source": [
    "# Predecir el valor de Sales en el conjunto de testing\n",
    "\n",
    "testing['Predicción'] = regresion_lineal.predict(testing[['TV', 'Radio']])\n",
    "testing.head()"
   ]
  },
  {
   "cell_type": "code",
   "execution_count": 24,
   "id": "b894c84c-ed83-4773-863f-5e3bfc6f7ada",
   "metadata": {},
   "outputs": [],
   "source": [
    "# Comprobar los estadísticos del modelo\n",
    "\n",
    "r2 = regresion_lineal.rsquared\n",
    "ssd = sum((testing['Sales'] - testing['Predicción']) ** 2)\n",
    "rse = np.sqrt(ssd / (len(testing) - 2 - 1)) # el 2 es porque el modelo utiliza dos variables\n",
    "error = 100 * rse / np.mean(testing['Sales'])"
   ]
  },
  {
   "cell_type": "code",
   "execution_count": 25,
   "id": "9ed3a661-15e8-4ece-b329-2dc6460feff5",
   "metadata": {},
   "outputs": [
    {
     "name": "stdout",
     "output_type": "stream",
     "text": [
      "El parametro R2 del modelo es: 0.9057962957982458\n",
      "El parametro SSD del modelo es: 168.85037823580652\n",
      "El parametro RSE del modelo es: 2.0545703823172285\n",
      "El parametro Error del modelo es: 14.085861996116202%\n"
     ]
    }
   ],
   "source": [
    "print(f'El parametro R2 del modelo es: {r2}')\n",
    "print(f'El parametro SSD del modelo es: {ssd}')\n",
    "print(f'El parametro RSE del modelo es: {rse}')\n",
    "print(f'El parametro Error del modelo es: {error}%')"
   ]
  },
  {
   "cell_type": "code",
   "execution_count": 36,
   "id": "5301db6d-2fca-4d6b-a455-b253837956a0",
   "metadata": {},
   "outputs": [
    {
     "data": {
      "image/png": "[encoded data removed]",
      "text/plain": [
       "<Figure size 640x480 with 1 Axes>"
      ]
     },
     "metadata": {},
     "output_type": "display_data"
    }
   ],
   "source": [
    "# Visualizar el modelo mediante un plot\n",
    "\n",
    "plt.plot(testing['Radio'], testing['Sales'], 'yo')\n",
    "plt.plot(testing['Radio'], testing['Predicción'], 'bo')\n",
    "%matplotlib inline"
   ]
  }
 ],
 "metadata": {
  "kernelspec": {
   "display_name": "Python 3 (ipykernel)",
   "language": "python",
   "name": "python3"
  },
  "language_info": {
   "codemirror_mode": {
    "name": "ipython",
    "version": 3
   },
   "file_extension": ".py",
   "mimetype": "text/x-python",
   "name": "python",
   "nbconvert_exporter": "python",
   "pygments_lexer": "ipython3",
   "version": "3.12.2"
  }
 },
 "nbformat": 4,
 "nbformat_minor": 5
}
