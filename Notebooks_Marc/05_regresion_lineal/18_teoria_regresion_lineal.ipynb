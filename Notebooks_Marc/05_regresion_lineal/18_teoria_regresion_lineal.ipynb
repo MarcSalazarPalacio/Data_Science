{
 "cells": [
  {
   "cell_type": "markdown",
   "id": "70d6175a-5c42-4f44-9a40-aabbc3bae171",
   "metadata": {},
   "source": [
    "# 18: REGRESION LINEAL CON DATOS SIMULADOS"
   ]
  },
  {
   "cell_type": "code",
   "execution_count": 12,
   "id": "ab55066d-dfd5-46ff-a633-444c1eacc357",
   "metadata": {},
   "outputs": [],
   "source": [
    "import pandas as pd\n",
    "import numpy as np\n",
    "import matplotlib.pyplot as plt"
   ]
  },
  {
   "cell_type": "markdown",
   "id": "9d7e70e5-3d35-4e06-ab66-c387297b26a2",
   "metadata": {},
   "source": [
    "### Construcción de un dataframe ficticio con relación lineal"
   ]
  },
  {
   "cell_type": "markdown",
   "id": "1ba6a620-7cc4-41f2-baca-9d00d7cd3fd3",
   "metadata": {},
   "source": [
    "Un modelo de regresión lineal sigue la siguiente ecuación:\n",
    "\n",
    "- Y = a + (b * X)\n"
   ]
  },
  {
   "cell_type": "code",
   "execution_count": 3,
   "id": "770a71d1-145e-4169-af56-90bfa2b51901",
   "metadata": {},
   "outputs": [],
   "source": [
    "# Construcción de las variables de entrada con distribución normal, media 33 y desviación 5.5\n",
    "\n",
    "x = np.random.normal(33, 5.5, 100)"
   ]
  },
  {
   "cell_type": "code",
   "execution_count": 4,
   "id": "878d3cbe-1193-445f-b9d5-2608d9a9f809",
   "metadata": {},
   "outputs": [],
   "source": [
    "# Construcción de un error que aplicaremos a la respuesta con distribución normal, media 0 y desviación 1\n",
    "\n",
    "error = np.random.normal(0, 1, 100)"
   ]
  },
  {
   "cell_type": "code",
   "execution_count": 5,
   "id": "db560e07-303a-4213-a65c-9b8f1050b34d",
   "metadata": {},
   "outputs": [],
   "source": [
    "# Construcción de la respuesta del modelo para que estudiemos la regresión lineal\n",
    "\n",
    "a = 23 \n",
    "\n",
    "b = 1.2 # pendiente de la recta\n",
    "\n",
    "y_respuesta = a + (b * x) + error"
   ]
  },
  {
   "cell_type": "code",
   "execution_count": 10,
   "id": "d90bf53e-1194-4219-8f3a-a8196e434048",
   "metadata": {},
   "outputs": [],
   "source": [
    "# Construcción del dataframe ficticio\n",
    "\n",
    "data = pd.DataFrame({'x' : x.tolist(),\n",
    "                     'y_respuesta' : y_respuesta.tolist()})"
   ]
  },
  {
   "cell_type": "code",
   "execution_count": 11,
   "id": "e8407f97-e83e-4674-8bb1-48f81d557fc8",
   "metadata": {},
   "outputs": [
    {
     "data": {
      "text/html": [
       "<div>\n",
       "<style scoped>\n",
       "    .dataframe tbody tr th:only-of-type {\n",
       "        vertical-align: middle;\n",
       "    }\n",
       "\n",
       "    .dataframe tbody tr th {\n",
       "        vertical-align: top;\n",
       "    }\n",
       "\n",
       "    .dataframe thead th {\n",
       "        text-align: right;\n",
       "    }\n",
       "</style>\n",
       "<table border=\"1\" class=\"dataframe\">\n",
       "  <thead>\n",
       "    <tr style=\"text-align: right;\">\n",
       "      <th></th>\n",
       "      <th>x</th>\n",
       "      <th>y_respuesta</th>\n",
       "    </tr>\n",
       "  </thead>\n",
       "  <tbody>\n",
       "    <tr>\n",
       "      <th>0</th>\n",
       "      <td>35.010559</td>\n",
       "      <td>65.227561</td>\n",
       "    </tr>\n",
       "    <tr>\n",
       "      <th>1</th>\n",
       "      <td>38.750405</td>\n",
       "      <td>69.846612</td>\n",
       "    </tr>\n",
       "    <tr>\n",
       "      <th>2</th>\n",
       "      <td>32.225511</td>\n",
       "      <td>63.088375</td>\n",
       "    </tr>\n",
       "    <tr>\n",
       "      <th>3</th>\n",
       "      <td>36.886044</td>\n",
       "      <td>66.239313</td>\n",
       "    </tr>\n",
       "    <tr>\n",
       "      <th>4</th>\n",
       "      <td>41.743359</td>\n",
       "      <td>71.401203</td>\n",
       "    </tr>\n",
       "  </tbody>\n",
       "</table>\n",
       "</div>"
      ],
      "text/plain": [
       "           x  y_respuesta\n",
       "0  35.010559    65.227561\n",
       "1  38.750405    69.846612\n",
       "2  32.225511    63.088375\n",
       "3  36.886044    66.239313\n",
       "4  41.743359    71.401203"
      ]
     },
     "execution_count": 11,
     "metadata": {},
     "output_type": "execute_result"
    }
   ],
   "source": [
    "data.head()"
   ]
  },
  {
   "cell_type": "code",
   "execution_count": 17,
   "id": "366f966b-2244-479c-8e41-8c3de5910c8e",
   "metadata": {},
   "outputs": [
    {
     "data": {
      "image/png": "[encoded data removed]",
      "text/plain": [
       "<Figure size 640x480 with 1 Axes>"
      ]
     },
     "metadata": {},
     "output_type": "display_data"
    }
   ],
   "source": [
    "# Visualizar el dataframe ficticio\n",
    "\n",
    "plt.plot(data['x'], data['y_respuesta'], 'ro')\n",
    "plt.title('Visualizarción de la x VS y_respuesta')\n",
    "\n",
    "%matplotlib inline"
   ]
  },
  {
   "cell_type": "markdown",
   "id": "2f95fe84-37bf-484f-a3bd-7d2fac2fd026",
   "metadata": {},
   "source": [
    "### Modelar la recta de regresión"
   ]
  },
  {
   "cell_type": "markdown",
   "id": "5fe7177e-8f09-4d76-a8e2-706b1c9f22b4",
   "metadata": {},
   "source": [
    "Para modelar la recta de regresión, hay que calcular los valores de a y de b. Para ello, lo que hay que hacer es aplicar la siguiente fórmula:\n",
    "\n",
    "- Y = a + (b * X)\n",
    "  \n",
    "- b = sumatorio((x_i - x_promedio) * (y_i - y_promedio)) / sumatorio((x_i - x_promedio) ^ 2)\n",
    "\n",
    "- a = y_promedio - (b * x_promedio)"
   ]
  },
  {
   "cell_type": "code",
   "execution_count": 18,
   "id": "c06b4e6c-7bb1-492a-8f09-88a8c00b9991",
   "metadata": {},
   "outputs": [
    {
     "name": "stdout",
     "output_type": "stream",
     "text": [
      "La media de x es 34.05863013418148 y la media de y es 63.82615804689899\n"
     ]
    }
   ],
   "source": [
    "# Primero calculamos las medias de x y de la y_respuesta\n",
    "\n",
    "x_media = np.mean(data['x'])\n",
    "y_media = sum(data['y_respuesta']) / len(data) # otra forma de calcular la media\n",
    "\n",
    "print(f'La media de x es {x_media} y la media de y es {y_media}')"
   ]
  },
  {
   "cell_type": "code",
   "execution_count": 21,
   "id": "fdb1357e-4ce2-47ed-86c9-c289d875ffe9",
   "metadata": {},
   "outputs": [
    {
     "data": {
      "text/plain": [
       "1.1785006072692426"
      ]
     },
     "execution_count": 21,
     "metadata": {},
     "output_type": "execute_result"
    }
   ],
   "source": [
    "# Calculamos el valor de b a partir del numerador y el denominador de la fórmula\n",
    "\n",
    "numerador = sum((data['x'] - x_media) * (data['y_respuesta'] - y_media))\n",
    "denominador = sum((data['x'] - x_media) ** 2 )\n",
    "\n",
    "b_pred = numerador / denominador\n",
    "b_pred"
   ]
  },
  {
   "cell_type": "code",
   "execution_count": 22,
   "id": "2b085433-5a1a-4a7a-bfd0-72862f436291",
   "metadata": {},
   "outputs": [
    {
     "data": {
      "text/plain": [
       "23.688041751007596"
      ]
     },
     "execution_count": 22,
     "metadata": {},
     "output_type": "execute_result"
    }
   ],
   "source": [
    "# Calculamos el valor de a a partir del valor b\n",
    "\n",
    "a_pred = y_media - (b_pred * x_media)\n",
    "a_pred"
   ]
  },
  {
   "cell_type": "code",
   "execution_count": 24,
   "id": "3b3cda54-8d14-4139-b9e5-a5c7beb580b6",
   "metadata": {},
   "outputs": [
    {
     "name": "stdout",
     "output_type": "stream",
     "text": [
      "El modelo lineal modelado es: Y = 23.69 + 1.18 * x\n",
      "El data frame que hemos creado realmente es: Y = 23 + 1.2 * x\n"
     ]
    }
   ],
   "source": [
    "print(f'El modelo lineal modelado es: Y = {round(a_pred, 2)} + {round(b_pred, 2)} * x')\n",
    "print(f'El data frame que hemos creado realmente es: Y = 23 + 1.2 * x')"
   ]
  },
  {
   "cell_type": "code",
   "execution_count": 25,
   "id": "b5992c2a-8aef-44bc-bd40-6107963ff9be",
   "metadata": {},
   "outputs": [],
   "source": [
    "# Predecir la respuesta del sistema a partir del modelo de regresión lineal\n",
    "\n",
    "data['y_prediccion'] = a_pred + b_pred * data['x']"
   ]
  },
  {
   "cell_type": "code",
   "execution_count": 26,
   "id": "f8f8d90c-e57b-4cb7-9cc6-91a2020066b6",
   "metadata": {},
   "outputs": [
    {
     "data": {
      "text/html": [
       "<div>\n",
       "<style scoped>\n",
       "    .dataframe tbody tr th:only-of-type {\n",
       "        vertical-align: middle;\n",
       "    }\n",
       "\n",
       "    .dataframe tbody tr th {\n",
       "        vertical-align: top;\n",
       "    }\n",
       "\n",
       "    .dataframe thead th {\n",
       "        text-align: right;\n",
       "    }\n",
       "</style>\n",
       "<table border=\"1\" class=\"dataframe\">\n",
       "  <thead>\n",
       "    <tr style=\"text-align: right;\">\n",
       "      <th></th>\n",
       "      <th>x</th>\n",
       "      <th>y_respuesta</th>\n",
       "      <th>y_prediccion</th>\n",
       "    </tr>\n",
       "  </thead>\n",
       "  <tbody>\n",
       "    <tr>\n",
       "      <th>0</th>\n",
       "      <td>35.010559</td>\n",
       "      <td>65.227561</td>\n",
       "      <td>64.948006</td>\n",
       "    </tr>\n",
       "    <tr>\n",
       "      <th>1</th>\n",
       "      <td>38.750405</td>\n",
       "      <td>69.846612</td>\n",
       "      <td>69.355418</td>\n",
       "    </tr>\n",
       "    <tr>\n",
       "      <th>2</th>\n",
       "      <td>32.225511</td>\n",
       "      <td>63.088375</td>\n",
       "      <td>61.665826</td>\n",
       "    </tr>\n",
       "    <tr>\n",
       "      <th>3</th>\n",
       "      <td>36.886044</td>\n",
       "      <td>66.239313</td>\n",
       "      <td>67.158267</td>\n",
       "    </tr>\n",
       "    <tr>\n",
       "      <th>4</th>\n",
       "      <td>41.743359</td>\n",
       "      <td>71.401203</td>\n",
       "      <td>72.882615</td>\n",
       "    </tr>\n",
       "  </tbody>\n",
       "</table>\n",
       "</div>"
      ],
      "text/plain": [
       "           x  y_respuesta  y_prediccion\n",
       "0  35.010559    65.227561     64.948006\n",
       "1  38.750405    69.846612     69.355418\n",
       "2  32.225511    63.088375     61.665826\n",
       "3  36.886044    66.239313     67.158267\n",
       "4  41.743359    71.401203     72.882615"
      ]
     },
     "execution_count": 26,
     "metadata": {},
     "output_type": "execute_result"
    }
   ],
   "source": [
    "data.head()"
   ]
  },
  {
   "cell_type": "code",
   "execution_count": 28,
   "id": "59d7cee5-5b55-419c-beb6-32895322aeca",
   "metadata": {},
   "outputs": [
    {
     "data": {
      "image/png": "[encoded data removed]",
      "text/plain": [
       "<Figure size 640x480 with 1 Axes>"
      ]
     },
     "metadata": {},
     "output_type": "display_data"
    }
   ],
   "source": [
    "# Visualizar el modelo superpuesto a la respuesta\n",
    "\n",
    "plt.plot(data['x'], data['y_respuesta'], 'ro')\n",
    "plt.plot(data['x'], data['y_prediccion'])\n",
    "plt.title('Respuesta VS Predicción')\n",
    "\n",
    "%matplotlib inline"
   ]
  },
  {
   "cell_type": "markdown",
   "id": "b681b31b-cb0f-4a36-8298-70da2512a928",
   "metadata": {},
   "source": [
    "### Parametros para determinar la bondad del modelo"
   ]
  },
  {
   "cell_type": "markdown",
   "id": "a4465148-2f85-4a78-9211-e8c629fe7e66",
   "metadata": {},
   "source": [
    "- SSD: Diferencia entre la y_respuesta y la y_prediccion. Debería seguir una distribución normal\n",
    "- SSD = sumatorio(y_respuesta_i - y_prediccion_i) ^ 2\n",
    "\n",
    "- SSR: Diferencia entre la y_prediccion y la y_media\n",
    "- SSR = sumatorio(y_prediccion_i - y_media) ^ 2\n",
    "\n",
    "- SST: Diferencia entre la y_respuesta y la y_media\n",
    "- SST = sumatorio(y_respuesta_i - y_media) ^ 2 ------ o ------ SST = SSD + SSR\n",
    "\n",
    "- R2: Coeficiente de determinación (entre 0 y 1) --> Cuanto mayor, mejor es el modelo\n",
    "- R2 = SSR / SST\n"
   ]
  },
  {
   "cell_type": "code",
   "execution_count": 33,
   "id": "63ebaaf5-7f97-4ba9-b3b6-8a85dd2c7d4d",
   "metadata": {},
   "outputs": [],
   "source": [
    "# Calcular SSD\n",
    "\n",
    "ssd = sum((data['y_prediccion'] - data['y_respuesta']) ** 2)"
   ]
  },
  {
   "cell_type": "code",
   "execution_count": 35,
   "id": "7ee75e40-1e5d-4f26-98cd-6ac1cf9c326f",
   "metadata": {},
   "outputs": [],
   "source": [
    "# Calcular SSR\n",
    "\n",
    "ssr = sum((data['y_prediccion'] - y_media) ** 2)"
   ]
  },
  {
   "cell_type": "code",
   "execution_count": 37,
   "id": "b34b674e-a72e-4de8-aed5-ef29dc45cc09",
   "metadata": {},
   "outputs": [],
   "source": [
    "# Calcular SST\n",
    "\n",
    "sst = ssd + ssr"
   ]
  },
  {
   "cell_type": "code",
   "execution_count": 38,
   "id": "431219b3-0998-48f7-a613-0d66489800ef",
   "metadata": {},
   "outputs": [],
   "source": [
    "# Calcular R2\n",
    "\n",
    "R2 = ssr / sst"
   ]
  },
  {
   "cell_type": "code",
   "execution_count": 39,
   "id": "deea3a38-344d-42a9-bb54-953fb410f208",
   "metadata": {},
   "outputs": [
    {
     "name": "stdout",
     "output_type": "stream",
     "text": [
      "SSD es 98.47\n",
      "SSR es 3851.68\n",
      "SST es 3950.14\n",
      "R2 es 0.98\n"
     ]
    }
   ],
   "source": [
    "print(f'SSD es {round(ssd, 2)}')\n",
    "print(f'SSR es {round(ssr, 2)}')\n",
    "print(f'SST es {round(sst, 2)}')\n",
    "print(f'R2 es {round(R2, 2)}')"
   ]
  },
  {
   "cell_type": "markdown",
   "id": "00cd7fed-d1e0-45ac-9ec8-d35fcb566158",
   "metadata": {},
   "source": [
    "### Error Estándar de los residuos (RSE)"
   ]
  },
  {
   "cell_type": "markdown",
   "id": "6fa91ac8-ea25-44ca-843d-059ec7da9509",
   "metadata": {},
   "source": [
    "Se trata de la desviación estándar del término del error, es decir, aquello que le modelo no es capaz de explicar. La fórmula es:\n",
    "\n",
    "- RSE = raiz(SSD / n - 2) donde n es el número de muestras (len(data))"
   ]
  },
  {
   "cell_type": "code",
   "execution_count": 40,
   "id": "3ff7191d-5366-4adf-bc8f-9986f90f6a6f",
   "metadata": {},
   "outputs": [
    {
     "data": {
      "text/plain": [
       "1.0023727422734376"
      ]
     },
     "execution_count": 40,
     "metadata": {},
     "output_type": "execute_result"
    }
   ],
   "source": [
    "rse = np.sqrt(ssd / (len(data) - 2))\n",
    "rse"
   ]
  },
  {
   "cell_type": "code",
   "execution_count": null,
   "id": "96d5db5f-15aa-47c0-94c2-77779cc4fb8b",
   "metadata": {},
   "outputs": [],
   "source": []
  }
 ],
 "metadata": {
  "kernelspec": {
   "display_name": "Python 3 (ipykernel)",
   "language": "python",
   "name": "python3"
  },
  "language_info": {
   "codemirror_mode": {
    "name": "ipython",
    "version": 3
   },
   "file_extension": ".py",
   "mimetype": "text/x-python",
   "name": "python",
   "nbconvert_exporter": "python",
   "pygments_lexer": "ipython3",
   "version": "3.12.2"
  }
 },
 "nbformat": 4,
 "nbformat_minor": 5
}
