{
 "cells": [
  {
   "cell_type": "markdown",
   "id": "a9e6e265-71d2-4f2c-a1d5-805d1f52efb4",
   "metadata": {},
   "source": [
    "# 19: REGRESION LINEAL - STATSMODEL"
   ]
  },
  {
   "cell_type": "code",
   "execution_count": 1,
   "id": "b0993d56-e71e-4676-90da-8c276a7b902e",
   "metadata": {},
   "outputs": [],
   "source": [
    "import pandas as pd\n",
    "import numpy as np\n",
    "import os\n",
    "import matplotlib.pyplot as plt"
   ]
  },
  {
   "cell_type": "code",
   "execution_count": 2,
   "id": "c8c78250-32b2-47b3-805b-7a5a3364ac7f",
   "metadata": {},
   "outputs": [],
   "source": [
    "# Librería exclusiva para hacer regresión lineal\n",
    "\n",
    "import statsmodels.formula.api as smf # he tenido que instalar la libreria de statsmodels"
   ]
  },
  {
   "cell_type": "code",
   "execution_count": 4,
   "id": "d0ca65be-bb50-461a-acca-cacc6eb5400c",
   "metadata": {},
   "outputs": [],
   "source": [
    "raiz = r\"C:\\Users\\Usuario\\Documents\\05_Formación_Académica\\Marc\\Data_Science\\machine_learning\\Recursos_curso\\datasets\"\n",
    "fichero = r\"ads\\Advertising.csv\"\n",
    "ruta = os.path.join(raiz, fichero) \n",
    "dataframe = pd.read_csv(ruta)"
   ]
  },
  {
   "cell_type": "code",
   "execution_count": 5,
   "id": "e38e163e-1d76-409d-a593-f5d2d7a5cbdf",
   "metadata": {},
   "outputs": [
    {
     "data": {
      "text/html": [
       "<div>\n",
       "<style scoped>\n",
       "    .dataframe tbody tr th:only-of-type {\n",
       "        vertical-align: middle;\n",
       "    }\n",
       "\n",
       "    .dataframe tbody tr th {\n",
       "        vertical-align: top;\n",
       "    }\n",
       "\n",
       "    .dataframe thead th {\n",
       "        text-align: right;\n",
       "    }\n",
       "</style>\n",
       "<table border=\"1\" class=\"dataframe\">\n",
       "  <thead>\n",
       "    <tr style=\"text-align: right;\">\n",
       "      <th></th>\n",
       "      <th>TV</th>\n",
       "      <th>Radio</th>\n",
       "      <th>Newspaper</th>\n",
       "      <th>Sales</th>\n",
       "    </tr>\n",
       "  </thead>\n",
       "  <tbody>\n",
       "    <tr>\n",
       "      <th>0</th>\n",
       "      <td>230.1</td>\n",
       "      <td>37.8</td>\n",
       "      <td>69.2</td>\n",
       "      <td>22.1</td>\n",
       "    </tr>\n",
       "    <tr>\n",
       "      <th>1</th>\n",
       "      <td>44.5</td>\n",
       "      <td>39.3</td>\n",
       "      <td>45.1</td>\n",
       "      <td>10.4</td>\n",
       "    </tr>\n",
       "    <tr>\n",
       "      <th>2</th>\n",
       "      <td>17.2</td>\n",
       "      <td>45.9</td>\n",
       "      <td>69.3</td>\n",
       "      <td>9.3</td>\n",
       "    </tr>\n",
       "    <tr>\n",
       "      <th>3</th>\n",
       "      <td>151.5</td>\n",
       "      <td>41.3</td>\n",
       "      <td>58.5</td>\n",
       "      <td>18.5</td>\n",
       "    </tr>\n",
       "    <tr>\n",
       "      <th>4</th>\n",
       "      <td>180.8</td>\n",
       "      <td>10.8</td>\n",
       "      <td>58.4</td>\n",
       "      <td>12.9</td>\n",
       "    </tr>\n",
       "  </tbody>\n",
       "</table>\n",
       "</div>"
      ],
      "text/plain": [
       "      TV  Radio  Newspaper  Sales\n",
       "0  230.1   37.8       69.2   22.1\n",
       "1   44.5   39.3       45.1   10.4\n",
       "2   17.2   45.9       69.3    9.3\n",
       "3  151.5   41.3       58.5   18.5\n",
       "4  180.8   10.8       58.4   12.9"
      ]
     },
     "execution_count": 5,
     "metadata": {},
     "output_type": "execute_result"
    }
   ],
   "source": [
    "dataframe.head()"
   ]
  },
  {
   "cell_type": "markdown",
   "id": "4421448f-2f28-4f90-a9ca-4fe496a0c9a4",
   "metadata": {},
   "source": [
    "### Regresión lineal SIMPLE"
   ]
  },
  {
   "cell_type": "markdown",
   "id": "a6e201c6-be96-42b7-9d54-feb56a51a231",
   "metadata": {},
   "source": [
    "La regresión lineal SIMPLE se da cuando SOLO tenemos en cuenta un UNICO parametro para construir el modelo. En otras palabras, es un modelo que asume que la respuesta solo depende de una variable."
   ]
  },
  {
   "cell_type": "code",
   "execution_count": 6,
   "id": "14e62357-8afc-4e97-b2f7-5197f9cf7385",
   "metadata": {},
   "outputs": [],
   "source": [
    "# Generación del modelo de regresión simple\n",
    "\n",
    "regresion_simple = smf.ols(formula = 'Sales ~ TV', # en formula se especifica primero la respuesta 'Sales' y luego la variable 'TV'\n",
    "                           data = dataframe).fit() # en data se especifica los datos que usamos y acabamos con un '.fit()'"
   ]
  },
  {
   "cell_type": "code",
   "execution_count": 7,
   "id": "08be00e0-b251-40cb-a128-c784a64e4ea4",
   "metadata": {},
   "outputs": [
    {
     "data": {
      "text/plain": [
       "Intercept    7.032594\n",
       "TV           0.047537\n",
       "dtype: float64"
      ]
     },
     "execution_count": 7,
     "metadata": {},
     "output_type": "execute_result"
    }
   ],
   "source": [
    "# Visualizar los parametros de la regresion\n",
    "\n",
    "regresion_simple.params"
   ]
  },
  {
   "cell_type": "markdown",
   "id": "751c7e6a-a251-4ef0-9597-a6ce659aff0e",
   "metadata": {},
   "source": [
    "En este caso, el parametro 'Intercept' hace referencia al parametro 'a' mientras que 'TV' equivale al parametro 'b'. De este modo, el modelo de regresión lineal simple de 'Sales' en función de 'TV', sería:\n",
    "\n",
    "- 'Sales' = 7.032594 + 0.047537 * 'TV'"
   ]
  },
  {
   "cell_type": "code",
   "execution_count": 8,
   "id": "0e94d95a-bf93-4ec9-be30-66fdacdc086a",
   "metadata": {},
   "outputs": [
    {
     "data": {
      "text/plain": [
       "0.611875050850071"
      ]
     },
     "execution_count": 8,
     "metadata": {},
     "output_type": "execute_result"
    }
   ],
   "source": [
    "# Visualizar el valor R2\n",
    "\n",
    "R2_simple = regresion_simple.rsquared\n",
    "R2_simple"
   ]
  },
  {
   "cell_type": "code",
   "execution_count": 9,
   "id": "0427d66a-71ae-4b03-a439-48c5b70e44d3",
   "metadata": {},
   "outputs": [
    {
     "data": {
      "text/plain": [
       "0.6099148238341623"
      ]
     },
     "execution_count": 9,
     "metadata": {},
     "output_type": "execute_result"
    }
   ],
   "source": [
    "# Visualizar el valor R2 ajustado (este valor es mejor que el R2 normal)\n",
    "\n",
    "R2_ajustado_simple = regresion_simple.rsquared_adj\n",
    "R2_ajustado_simple"
   ]
  },
  {
   "cell_type": "code",
   "execution_count": 10,
   "id": "387efe70-f23b-4892-9f64-3b0e45f327c3",
   "metadata": {},
   "outputs": [
    {
     "data": {
      "text/html": [
       "<table class=\"simpletable\">\n",
       "<caption>OLS Regression Results</caption>\n",
       "<tr>\n",
       "  <th>Dep. Variable:</th>          <td>Sales</td>      <th>  R-squared:         </th> <td>   0.612</td>\n",
       "</tr>\n",
       "<tr>\n",
       "  <th>Model:</th>                   <td>OLS</td>       <th>  Adj. R-squared:    </th> <td>   0.610</td>\n",
       "</tr>\n",
       "<tr>\n",
       "  <th>Method:</th>             <td>Least Squares</td>  <th>  F-statistic:       </th> <td>   312.1</td>\n",
       "</tr>\n",
       "<tr>\n",
       "  <th>Date:</th>             <td>Wed, 29 May 2024</td> <th>  Prob (F-statistic):</th> <td>1.47e-42</td>\n",
       "</tr>\n",
       "<tr>\n",
       "  <th>Time:</th>                 <td>22:21:10</td>     <th>  Log-Likelihood:    </th> <td> -519.05</td>\n",
       "</tr>\n",
       "<tr>\n",
       "  <th>No. Observations:</th>      <td>   200</td>      <th>  AIC:               </th> <td>   1042.</td>\n",
       "</tr>\n",
       "<tr>\n",
       "  <th>Df Residuals:</th>          <td>   198</td>      <th>  BIC:               </th> <td>   1049.</td>\n",
       "</tr>\n",
       "<tr>\n",
       "  <th>Df Model:</th>              <td>     1</td>      <th>                     </th>     <td> </td>   \n",
       "</tr>\n",
       "<tr>\n",
       "  <th>Covariance Type:</th>      <td>nonrobust</td>    <th>                     </th>     <td> </td>   \n",
       "</tr>\n",
       "</table>\n",
       "<table class=\"simpletable\">\n",
       "<tr>\n",
       "      <td></td>         <th>coef</th>     <th>std err</th>      <th>t</th>      <th>P>|t|</th>  <th>[0.025</th>    <th>0.975]</th>  \n",
       "</tr>\n",
       "<tr>\n",
       "  <th>Intercept</th> <td>    7.0326</td> <td>    0.458</td> <td>   15.360</td> <td> 0.000</td> <td>    6.130</td> <td>    7.935</td>\n",
       "</tr>\n",
       "<tr>\n",
       "  <th>TV</th>        <td>    0.0475</td> <td>    0.003</td> <td>   17.668</td> <td> 0.000</td> <td>    0.042</td> <td>    0.053</td>\n",
       "</tr>\n",
       "</table>\n",
       "<table class=\"simpletable\">\n",
       "<tr>\n",
       "  <th>Omnibus:</th>       <td> 0.531</td> <th>  Durbin-Watson:     </th> <td>   1.935</td>\n",
       "</tr>\n",
       "<tr>\n",
       "  <th>Prob(Omnibus):</th> <td> 0.767</td> <th>  Jarque-Bera (JB):  </th> <td>   0.669</td>\n",
       "</tr>\n",
       "<tr>\n",
       "  <th>Skew:</th>          <td>-0.089</td> <th>  Prob(JB):          </th> <td>   0.716</td>\n",
       "</tr>\n",
       "<tr>\n",
       "  <th>Kurtosis:</th>      <td> 2.779</td> <th>  Cond. No.          </th> <td>    338.</td>\n",
       "</tr>\n",
       "</table><br/><br/>Notes:<br/>[1] Standard Errors assume that the covariance matrix of the errors is correctly specified."
      ],
      "text/latex": [
       "\\begin{center}\n",
       "\\begin{tabular}{lclc}\n",
       "\\toprule\n",
       "\\textbf{Dep. Variable:}    &      Sales       & \\textbf{  R-squared:         } &     0.612   \\\\\n",
       "\\textbf{Model:}            &       OLS        & \\textbf{  Adj. R-squared:    } &     0.610   \\\\\n",
       "\\textbf{Method:}           &  Least Squares   & \\textbf{  F-statistic:       } &     312.1   \\\\\n",
       "\\textbf{Date:}             & Wed, 29 May 2024 & \\textbf{  Prob (F-statistic):} &  1.47e-42   \\\\\n",
       "\\textbf{Time:}             &     22:21:10     & \\textbf{  Log-Likelihood:    } &   -519.05   \\\\\n",
       "\\textbf{No. Observations:} &         200      & \\textbf{  AIC:               } &     1042.   \\\\\n",
       "\\textbf{Df Residuals:}     &         198      & \\textbf{  BIC:               } &     1049.   \\\\\n",
       "\\textbf{Df Model:}         &           1      & \\textbf{                     } &             \\\\\n",
       "\\textbf{Covariance Type:}  &    nonrobust     & \\textbf{                     } &             \\\\\n",
       "\\bottomrule\n",
       "\\end{tabular}\n",
       "\\begin{tabular}{lcccccc}\n",
       "                   & \\textbf{coef} & \\textbf{std err} & \\textbf{t} & \\textbf{P$> |$t$|$} & \\textbf{[0.025} & \\textbf{0.975]}  \\\\\n",
       "\\midrule\n",
       "\\textbf{Intercept} &       7.0326  &        0.458     &    15.360  &         0.000        &        6.130    &        7.935     \\\\\n",
       "\\textbf{TV}        &       0.0475  &        0.003     &    17.668  &         0.000        &        0.042    &        0.053     \\\\\n",
       "\\bottomrule\n",
       "\\end{tabular}\n",
       "\\begin{tabular}{lclc}\n",
       "\\textbf{Omnibus:}       &  0.531 & \\textbf{  Durbin-Watson:     } &    1.935  \\\\\n",
       "\\textbf{Prob(Omnibus):} &  0.767 & \\textbf{  Jarque-Bera (JB):  } &    0.669  \\\\\n",
       "\\textbf{Skew:}          & -0.089 & \\textbf{  Prob(JB):          } &    0.716  \\\\\n",
       "\\textbf{Kurtosis:}      &  2.779 & \\textbf{  Cond. No.          } &     338.  \\\\\n",
       "\\bottomrule\n",
       "\\end{tabular}\n",
       "%\\caption{OLS Regression Results}\n",
       "\\end{center}\n",
       "\n",
       "Notes: \\newline\n",
       " [1] Standard Errors assume that the covariance matrix of the errors is correctly specified."
      ],
      "text/plain": [
       "<class 'statsmodels.iolib.summary.Summary'>\n",
       "\"\"\"\n",
       "                            OLS Regression Results                            \n",
       "==============================================================================\n",
       "Dep. Variable:                  Sales   R-squared:                       0.612\n",
       "Model:                            OLS   Adj. R-squared:                  0.610\n",
       "Method:                 Least Squares   F-statistic:                     312.1\n",
       "Date:                Wed, 29 May 2024   Prob (F-statistic):           1.47e-42\n",
       "Time:                        22:21:10   Log-Likelihood:                -519.05\n",
       "No. Observations:                 200   AIC:                             1042.\n",
       "Df Residuals:                     198   BIC:                             1049.\n",
       "Df Model:                           1                                         \n",
       "Covariance Type:            nonrobust                                         \n",
       "==============================================================================\n",
       "                 coef    std err          t      P>|t|      [0.025      0.975]\n",
       "------------------------------------------------------------------------------\n",
       "Intercept      7.0326      0.458     15.360      0.000       6.130       7.935\n",
       "TV             0.0475      0.003     17.668      0.000       0.042       0.053\n",
       "==============================================================================\n",
       "Omnibus:                        0.531   Durbin-Watson:                   1.935\n",
       "Prob(Omnibus):                  0.767   Jarque-Bera (JB):                0.669\n",
       "Skew:                          -0.089   Prob(JB):                        0.716\n",
       "Kurtosis:                       2.779   Cond. No.                         338.\n",
       "==============================================================================\n",
       "\n",
       "Notes:\n",
       "[1] Standard Errors assume that the covariance matrix of the errors is correctly specified.\n",
       "\"\"\""
      ]
     },
     "execution_count": 10,
     "metadata": {},
     "output_type": "execute_result"
    }
   ],
   "source": [
    "# Visualizar un resumen de la regresión lineal obtenida\n",
    "\n",
    "regresion_simple.summary()"
   ]
  },
  {
   "cell_type": "markdown",
   "id": "e2bb0032-ff50-497b-89d6-96bd48f1b720",
   "metadata": {},
   "source": [
    "Los parametros AIC y BIC, cuanto más altos sean MEJOR!"
   ]
  },
  {
   "cell_type": "code",
   "execution_count": 11,
   "id": "e14f9a58-00fc-4da6-9172-24ed07a2e7be",
   "metadata": {},
   "outputs": [],
   "source": [
    "# Utilizar el modelo de regresión para predecir la respuesta\n",
    "\n",
    "dataframe['Sales - TV Predicción'] = regresion_simple.predict(dataframe['TV']) # especificamos que es la variable 'TV' la de entrada"
   ]
  },
  {
   "cell_type": "code",
   "execution_count": 12,
   "id": "d64e7278-08e4-4923-bf83-f58a290ca6bf",
   "metadata": {},
   "outputs": [
    {
     "data": {
      "text/html": [
       "<div>\n",
       "<style scoped>\n",
       "    .dataframe tbody tr th:only-of-type {\n",
       "        vertical-align: middle;\n",
       "    }\n",
       "\n",
       "    .dataframe tbody tr th {\n",
       "        vertical-align: top;\n",
       "    }\n",
       "\n",
       "    .dataframe thead th {\n",
       "        text-align: right;\n",
       "    }\n",
       "</style>\n",
       "<table border=\"1\" class=\"dataframe\">\n",
       "  <thead>\n",
       "    <tr style=\"text-align: right;\">\n",
       "      <th></th>\n",
       "      <th>TV</th>\n",
       "      <th>Radio</th>\n",
       "      <th>Newspaper</th>\n",
       "      <th>Sales</th>\n",
       "      <th>Sales - TV Predicción</th>\n",
       "    </tr>\n",
       "  </thead>\n",
       "  <tbody>\n",
       "    <tr>\n",
       "      <th>0</th>\n",
       "      <td>230.1</td>\n",
       "      <td>37.8</td>\n",
       "      <td>69.2</td>\n",
       "      <td>22.1</td>\n",
       "      <td>17.970775</td>\n",
       "    </tr>\n",
       "    <tr>\n",
       "      <th>1</th>\n",
       "      <td>44.5</td>\n",
       "      <td>39.3</td>\n",
       "      <td>45.1</td>\n",
       "      <td>10.4</td>\n",
       "      <td>9.147974</td>\n",
       "    </tr>\n",
       "    <tr>\n",
       "      <th>2</th>\n",
       "      <td>17.2</td>\n",
       "      <td>45.9</td>\n",
       "      <td>69.3</td>\n",
       "      <td>9.3</td>\n",
       "      <td>7.850224</td>\n",
       "    </tr>\n",
       "    <tr>\n",
       "      <th>3</th>\n",
       "      <td>151.5</td>\n",
       "      <td>41.3</td>\n",
       "      <td>58.5</td>\n",
       "      <td>18.5</td>\n",
       "      <td>14.234395</td>\n",
       "    </tr>\n",
       "    <tr>\n",
       "      <th>4</th>\n",
       "      <td>180.8</td>\n",
       "      <td>10.8</td>\n",
       "      <td>58.4</td>\n",
       "      <td>12.9</td>\n",
       "      <td>15.627218</td>\n",
       "    </tr>\n",
       "  </tbody>\n",
       "</table>\n",
       "</div>"
      ],
      "text/plain": [
       "      TV  Radio  Newspaper  Sales  Sales - TV Predicción\n",
       "0  230.1   37.8       69.2   22.1              17.970775\n",
       "1   44.5   39.3       45.1   10.4               9.147974\n",
       "2   17.2   45.9       69.3    9.3               7.850224\n",
       "3  151.5   41.3       58.5   18.5              14.234395\n",
       "4  180.8   10.8       58.4   12.9              15.627218"
      ]
     },
     "execution_count": 12,
     "metadata": {},
     "output_type": "execute_result"
    }
   ],
   "source": [
    "dataframe.head()"
   ]
  },
  {
   "cell_type": "code",
   "execution_count": 13,
   "id": "bf936413-f423-4c4b-902b-ce058143dde1",
   "metadata": {},
   "outputs": [
    {
     "data": {
      "image/png": "[encoded data removed]",
      "text/plain": [
       "<Figure size 640x480 with 1 Axes>"
      ]
     },
     "metadata": {},
     "output_type": "display_data"
    }
   ],
   "source": [
    "# Visualizar en un plot los resultados\n",
    "\n",
    "plt.plot(dataframe['TV'], dataframe['Sales'], 'bo') # en puntos verdes las 'sales'\n",
    "plt.plot(dataframe['TV'], dataframe['Sales - TV Predicción'], 'r') \n",
    "plt.title('\"Sales\" VS \"TV\"')\n",
    "\n",
    "%matplotlib inline"
   ]
  },
  {
   "cell_type": "markdown",
   "id": "af16d05a-598a-4b19-839e-f983b7b3eb7e",
   "metadata": {},
   "source": [
    "El error que cometemos al predecir la respuesta y que el modelo no puede explicar se calcula con la siguiente fórmula:\n",
    "\n",
    "- error = RSE / respuesta_Y_promedio"
   ]
  },
  {
   "cell_type": "code",
   "execution_count": 14,
   "id": "9425a5f5-b053-4f7a-8fae-bb862b408054",
   "metadata": {},
   "outputs": [],
   "source": [
    "# Calcular el error\n",
    "\n",
    "ssd = sum((dataframe['Sales'] - dataframe['Sales - TV Predicción']) ** 2)\n",
    "y_promedio = np.mean(dataframe['Sales'])\n",
    "rse = np.sqrt(ssd / (len(dataframe) - 2))\n",
    "\n",
    "error = rse / y_promedio"
   ]
  },
  {
   "cell_type": "code",
   "execution_count": 15,
   "id": "81eb9181-3eff-4743-97de-66b2d4bdbac0",
   "metadata": {},
   "outputs": [
    {
     "name": "stdout",
     "output_type": "stream",
     "text": [
      "EL error que el modelo no puede explicar es del 23.24%\n"
     ]
    }
   ],
   "source": [
    "print(f'EL error que el modelo no puede explicar es del {round(error * 100, 2)}%')"
   ]
  },
  {
   "cell_type": "code",
   "execution_count": 16,
   "id": "e0176ea3-dbe6-423a-8222-8f3ddc0df157",
   "metadata": {},
   "outputs": [
    {
     "data": {
      "image/png": "[encoded data removed]",
      "text/plain": [
       "<Figure size 640x480 with 1 Axes>"
      ]
     },
     "metadata": {},
     "output_type": "display_data"
    }
   ],
   "source": [
    "# Comprobar que el error que se comete (ssd) sigue una distribición NORMAL mediante un plot\n",
    "\n",
    "plt.hist(dataframe['Sales'] - dataframe['Sales - TV Predicción'])\n",
    "plt.title('Distribución del error cometido')\n",
    "\n",
    "%matplotlib inline"
   ]
  },
  {
   "cell_type": "markdown",
   "id": "cb9c36e6-462e-49be-a68c-039e25a2071f",
   "metadata": {},
   "source": [
    "### Regresión lineal MULTIPLE"
   ]
  },
  {
   "cell_type": "markdown",
   "id": "4a3274ec-74d8-43bb-9c9f-be4ba369e988",
   "metadata": {},
   "source": [
    "La regresión lineal múltiple se utiliza cuando tenemos más de una variable que puede ser relevante para construir el modelo. De este modo, la regresión lineal múltiple consiste en realizar diferentes simulaciones incluyendo combinaciones entre los diferentes paramentros candidatos para decidir que parametros usar y cuales no. De este modo, el modelo tendrá un valor a, y tantos valores b_i como parametros relevantes para el modelo:\n",
    "\n",
    "Respuesta = a + b_1 * parametro_1 + b_2 * parametro_2 + b_3 * paramentro_3 .....\n",
    "\n",
    "Para este caso, teniendo 3 variables tenemos los siguientes posibles modelos:\n",
    "\n",
    "- Sales ~ TV\n",
    "- Sales ~ Newspaper\n",
    "- Sales ~ Radio\n",
    "- Sales ~ TV + Newspaper\n",
    "- Sales ~ TV + Radio\n",
    "- Sales ~ Newspaper + Radio\n",
    "- Sales ~ TV + Newspaper + Radio\n",
    "\n",
    "Nota: Hay que tener en cuenta que NO siempre por tener más parametros el sistema es mejor, ya que se puede dar el fenomeno de MULTICOLINEALIDAD. De hecho, cuantos menos parametros tenga un modelo mejor siempre y cuando la predicción sea solida+Radio"
   ]
  },
  {
   "cell_type": "code",
   "execution_count": 17,
   "id": "b6879d26-9227-4a99-893b-de7e8688f361",
   "metadata": {},
   "outputs": [
    {
     "data": {
      "text/plain": [
       "Intercept    5.774948\n",
       "TV           0.046901\n",
       "Newspaper    0.044219\n",
       "dtype: float64"
      ]
     },
     "execution_count": 17,
     "metadata": {},
     "output_type": "execute_result"
    }
   ],
   "source": [
    "# Regresión lineal con los parametros 'TV' + 'Newspaper'\n",
    "\n",
    "regresion_multiple = smf.ols(formula = 'Sales ~ TV + Newspaper', data = dataframe).fit()\n",
    "regresion_multiple.params"
   ]
  },
  {
   "cell_type": "markdown",
   "id": "099ee6b3-2d00-465a-9d3e-5a23a9aa37a3",
   "metadata": {},
   "source": [
    "De este modo, el modelo quedaría tal que así:\n",
    "\n",
    "Respuesta = 5.774948 + (0.046901 * 'TV') + (0.044219 * 'Newspaper')"
   ]
  },
  {
   "cell_type": "code",
   "execution_count": 18,
   "id": "3f3c4ace-6931-4f75-a2cd-64d781c6fa01",
   "metadata": {},
   "outputs": [
    {
     "data": {
      "text/plain": [
       "Intercept    3.145860e-22\n",
       "TV           5.507584e-44\n",
       "Newspaper    2.217084e-05\n",
       "dtype: float64"
      ]
     },
     "execution_count": 18,
     "metadata": {},
     "output_type": "execute_result"
    }
   ],
   "source": [
    "# Visualizar los pvalues de cada uno de los parametros\n",
    "\n",
    "regresion_multiple.pvalues"
   ]
  },
  {
   "cell_type": "code",
   "execution_count": 19,
   "id": "81773337-2c4b-4d9b-9d48-331b904a8902",
   "metadata": {},
   "outputs": [
    {
     "data": {
      "text/plain": [
       "0.6422399150864777"
      ]
     },
     "execution_count": 19,
     "metadata": {},
     "output_type": "execute_result"
    }
   ],
   "source": [
    "# Visualizar el R2 ajustado\n",
    "\n",
    "R2_ajustado_multiple = regresion_multiple.rsquared_adj\n",
    "R2_ajustado_multiple"
   ]
  },
  {
   "cell_type": "code",
   "execution_count": 20,
   "id": "bf58e640-a56f-4163-866f-5939d4fac0bd",
   "metadata": {},
   "outputs": [
    {
     "name": "stdout",
     "output_type": "stream",
     "text": [
      "El R2 ajustado de TV + Newspaper es 0.6422399150864777, el cual es mayor al de TV que es 0.6099148238341623. De este modo, es mejor el modelo con estos dos parametros\n"
     ]
    }
   ],
   "source": [
    "print(f'El R2 ajustado de TV + Newspaper es {R2_ajustado_multiple}, el cual es mayor al de TV que es {R2_ajustado_simple}. De este modo, es mejor el modelo con estos dos parametros')"
   ]
  },
  {
   "cell_type": "code",
   "execution_count": 21,
   "id": "16cf6ee0-c342-42e0-beb8-fb809ddd6d4e",
   "metadata": {},
   "outputs": [],
   "source": [
    "# Utilizar el modelo de regresión para predecir la respuesta\n",
    "\n",
    "dataframe['Sales - TV + Newspaper Predicción'] = regresion_multiple.predict(dataframe[['TV', 'Newspaper']]) # se pasan los paramentros en lista"
   ]
  },
  {
   "cell_type": "code",
   "execution_count": 22,
   "id": "b4fc97d1-2ad0-44c8-8710-bac8899e9f90",
   "metadata": {},
   "outputs": [
    {
     "data": {
      "text/html": [
       "<div>\n",
       "<style scoped>\n",
       "    .dataframe tbody tr th:only-of-type {\n",
       "        vertical-align: middle;\n",
       "    }\n",
       "\n",
       "    .dataframe tbody tr th {\n",
       "        vertical-align: top;\n",
       "    }\n",
       "\n",
       "    .dataframe thead th {\n",
       "        text-align: right;\n",
       "    }\n",
       "</style>\n",
       "<table border=\"1\" class=\"dataframe\">\n",
       "  <thead>\n",
       "    <tr style=\"text-align: right;\">\n",
       "      <th></th>\n",
       "      <th>TV</th>\n",
       "      <th>Radio</th>\n",
       "      <th>Newspaper</th>\n",
       "      <th>Sales</th>\n",
       "      <th>Sales - TV Predicción</th>\n",
       "      <th>Sales - TV + Newspaper Predicción</th>\n",
       "    </tr>\n",
       "  </thead>\n",
       "  <tbody>\n",
       "    <tr>\n",
       "      <th>0</th>\n",
       "      <td>230.1</td>\n",
       "      <td>37.8</td>\n",
       "      <td>69.2</td>\n",
       "      <td>22.1</td>\n",
       "      <td>17.970775</td>\n",
       "      <td>19.626901</td>\n",
       "    </tr>\n",
       "    <tr>\n",
       "      <th>1</th>\n",
       "      <td>44.5</td>\n",
       "      <td>39.3</td>\n",
       "      <td>45.1</td>\n",
       "      <td>10.4</td>\n",
       "      <td>9.147974</td>\n",
       "      <td>9.856348</td>\n",
       "    </tr>\n",
       "    <tr>\n",
       "      <th>2</th>\n",
       "      <td>17.2</td>\n",
       "      <td>45.9</td>\n",
       "      <td>69.3</td>\n",
       "      <td>9.3</td>\n",
       "      <td>7.850224</td>\n",
       "      <td>9.646055</td>\n",
       "    </tr>\n",
       "    <tr>\n",
       "      <th>3</th>\n",
       "      <td>151.5</td>\n",
       "      <td>41.3</td>\n",
       "      <td>58.5</td>\n",
       "      <td>18.5</td>\n",
       "      <td>14.234395</td>\n",
       "      <td>15.467318</td>\n",
       "    </tr>\n",
       "    <tr>\n",
       "      <th>4</th>\n",
       "      <td>180.8</td>\n",
       "      <td>10.8</td>\n",
       "      <td>58.4</td>\n",
       "      <td>12.9</td>\n",
       "      <td>15.627218</td>\n",
       "      <td>16.837102</td>\n",
       "    </tr>\n",
       "  </tbody>\n",
       "</table>\n",
       "</div>"
      ],
      "text/plain": [
       "      TV  Radio  Newspaper  Sales  Sales - TV Predicción  \\\n",
       "0  230.1   37.8       69.2   22.1              17.970775   \n",
       "1   44.5   39.3       45.1   10.4               9.147974   \n",
       "2   17.2   45.9       69.3    9.3               7.850224   \n",
       "3  151.5   41.3       58.5   18.5              14.234395   \n",
       "4  180.8   10.8       58.4   12.9              15.627218   \n",
       "\n",
       "   Sales - TV + Newspaper Predicción  \n",
       "0                          19.626901  \n",
       "1                           9.856348  \n",
       "2                           9.646055  \n",
       "3                          15.467318  \n",
       "4                          16.837102  "
      ]
     },
     "execution_count": 22,
     "metadata": {},
     "output_type": "execute_result"
    }
   ],
   "source": [
    "dataframe.head()"
   ]
  },
  {
   "cell_type": "code",
   "execution_count": 23,
   "id": "29738b0a-d933-47f1-971b-27d73e3e28f9",
   "metadata": {},
   "outputs": [
    {
     "data": {
      "image/png": "[encoded data removed]",
      "text/plain": [
       "<Figure size 640x480 with 1 Axes>"
      ]
     },
     "metadata": {},
     "output_type": "display_data"
    }
   ],
   "source": [
    "# Visualizar en un plot los resultados\n",
    "\n",
    "plt.plot(dataframe['TV'], dataframe['Sales'], 'bo') # en puntos verdes las 'sales'\n",
    "plt.plot(dataframe['TV'], dataframe['Sales - TV Predicción'], 'r') \n",
    "plt.plot(dataframe['TV'], dataframe['Sales - TV + Newspaper Predicción'], 'go') \n",
    "plt.title('\"Sales\" VS \"TV + Newspaper\"')\n",
    "\n",
    "%matplotlib inline"
   ]
  },
  {
   "cell_type": "code",
   "execution_count": 24,
   "id": "03f9bfdf-24d6-4625-b11c-0c70ea65e827",
   "metadata": {},
   "outputs": [],
   "source": [
    "# Calcular el error\n",
    "\n",
    "ssd_2 = sum((dataframe['Sales'] - dataframe['Sales - TV + Newspaper Predicción']) ** 2)\n",
    "rse_2 = np.sqrt(ssd_2 / (len(dataframe) - 2))\n",
    "\n",
    "error_2 = rse_2 / y_promedio"
   ]
  },
  {
   "cell_type": "code",
   "execution_count": 25,
   "id": "dcd9dd3b-ed29-4305-b75a-bb2e03611576",
   "metadata": {},
   "outputs": [
    {
     "name": "stdout",
     "output_type": "stream",
     "text": [
      "EL error con TV y Newspaper es 22% el cual es menor que el 23.24% de la regresión simple\n"
     ]
    }
   ],
   "source": [
    "print(f'EL error con TV y Newspaper es {round(error_2 * 100, 2)}% el cual es menor que el {round(error * 100, 2)}% de la regresión simple')"
   ]
  },
  {
   "cell_type": "code",
   "execution_count": 26,
   "id": "e25d64c4-5167-4e7f-8ba5-e049d9d65afb",
   "metadata": {},
   "outputs": [],
   "source": [
    "# Añadimos el parametro de 'radio' para ver si el modelo mejora o no\n",
    "\n",
    "regresion_triple = smf.ols(formula = 'Sales ~ TV + Newspaper + Radio', data = dataframe).fit()"
   ]
  },
  {
   "cell_type": "code",
   "execution_count": 31,
   "id": "ea1eef1e-b8ca-4325-a331-1971c734c629",
   "metadata": {},
   "outputs": [],
   "source": [
    "# Calculamos los diferentes parametros\n",
    "\n",
    "dataframe['Sales - TV + Newspaper + Radio'] = regresion_triple.predict(dataframe[['TV', 'Newspaper', 'Radio']])\n",
    "ssd_3 = sum((dataframe['Sales'] - dataframe['Sales - TV + Newspaper + Radio']) ** 2)\n",
    "rse_3 = np.sqrt(ssd_3 / (len(dataframe) - 2))\n",
    "\n",
    "error_3 = rse_3 / y_promedio"
   ]
  },
  {
   "cell_type": "code",
   "execution_count": 32,
   "id": "b22e1943-0b77-4430-82dd-f4114a9e17b4",
   "metadata": {},
   "outputs": [
    {
     "name": "stdout",
     "output_type": "stream",
     "text": [
      "EL error con TV y Newspaper y Radio es 12% el cual es mayor que el 22.2% de la regresión múltiple\n"
     ]
    }
   ],
   "source": [
    "print(f'EL error con TV y Newspaper y Radio es {round(error_3 * 100)}% el cual es menor que el {round(error_2 * 100, 2)}% de la regresión múltiple')"
   ]
  },
  {
   "cell_type": "markdown",
   "id": "5a7eed93-5a77-4ad7-9fbb-8b707dcd2062",
   "metadata": {},
   "source": [
    "### Multicolinealidad"
   ]
  },
  {
   "cell_type": "markdown",
   "id": "98e4e621-2986-4a05-b51a-05944f0cfad2",
   "metadata": {},
   "source": [
    "El fenomeno de colinealidad se da cuando la adición de un parametro más al modelo no solo no mejora la predicción si no que la empeora. Esto sucede cuando dos variables estan altamente correlacionadas. Para determinar si dos variables estar correlacionadas se utiliza el FACTOR  DE INFLACIÓN DE LA VARIANCIA (VIF\n",
    "\n",
    "* VIF = 1 : Las variables no están correlacionadas\n",
    "* VIF < 5 : Las variables tienen una correlación moderada y se pueden quedar en el modelo\n",
    "* VIF >5 : Las variables están altamente correlacionadas y deben desaparecer del modelo.\n",
    "\n",
    "VIF = 1 / (1 - R2)\n",
    "\n",
    "De este modo, el calculo del VIF se hace construyendo un modelo de regresión lineal de un parametro en función del resto para obtener un valor R2 del modelo. Una vez calculado el R2, si el valor VIF es suficientemente grande, se puede afirmar que hay suficiente evidencia para no incluir ese parametro en el modelo final."
   ]
  },
  {
   "cell_type": "code",
   "execution_count": 34,
   "id": "bea49280-fc29-4876-a3df-9b18dce8924f",
   "metadata": {},
   "outputs": [
    {
     "data": {
      "text/plain": [
       "1.1449519171055353"
      ]
     },
     "execution_count": 34,
     "metadata": {},
     "output_type": "execute_result"
    }
   ],
   "source": [
    "# Ejemplo para ver si 'Radio' es un parametro a incluir\n",
    "\n",
    "regresion_radio = smf.ols(formula = 'Radio ~ TV + Newspaper', data = dataframe).fit()\n",
    "r2_radio = regresion_radio.rsquared\n",
    "\n",
    "VIF_radio = 1 / (1 - r2_radio)\n",
    "VIF_radio"
   ]
  },
  {
   "cell_type": "code",
   "execution_count": 39,
   "id": "fe58d0e5-6b45-41e1-b9d4-f821ed8a5ff4",
   "metadata": {},
   "outputs": [
    {
     "name": "stderr",
     "output_type": "stream",
     "text": [
      "C:\\Users\\Usuario\\AppData\\Local\\Temp\\ipykernel_19128\\1807509124.py:6: RuntimeWarning: divide by zero encountered in scalar divide\n",
      "  VIF_respuesta = 1 / (1 - r2_respuesta)\n"
     ]
    },
    {
     "data": {
      "text/plain": [
       "inf"
      ]
     },
     "execution_count": 39,
     "metadata": {},
     "output_type": "execute_result"
    }
   ],
   "source": [
    "# Ejemplo para ver si cualquiera de las predicciones se correlaciona con la respuesta\n",
    "\n",
    "regresion_respuesta = smf.ols(formula = 'Sales ~ Sales - TV Predicción', data = dataframe).fit()\n",
    "r2_respuesta = regresion_respuesta.rsquared\n",
    "\n",
    "VIF_respuesta = 1 / (1 - r2_respuesta)\n",
    "VIF_respuesta"
   ]
  },
  {
   "cell_type": "code",
   "execution_count": null,
   "id": "ecafe9e1-6354-4404-b6f9-ec0e837042dc",
   "metadata": {},
   "outputs": [],
   "source": []
  }
 ],
 "metadata": {
  "kernelspec": {
   "display_name": "Python 3 (ipykernel)",
   "language": "python",
   "name": "python3"
  },
  "language_info": {
   "codemirror_mode": {
    "name": "ipython",
    "version": 3
   },
   "file_extension": ".py",
   "mimetype": "text/x-python",
   "name": "python",
   "nbconvert_exporter": "python",
   "pygments_lexer": "ipython3",
   "version": "3.12.2"
  }
 },
 "nbformat": 4,
 "nbformat_minor": 5
}
