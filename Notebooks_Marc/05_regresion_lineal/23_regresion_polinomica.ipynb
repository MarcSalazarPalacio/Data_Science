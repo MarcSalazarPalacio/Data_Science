{
 "cells": [
  {
   "cell_type": "markdown",
   "id": "93506d6b-43ee-4bc6-bec5-7fb30c7cf519",
   "metadata": {},
   "source": [
    "# 23: REGRESIÓN POLINÓMICA"
   ]
  },
  {
   "cell_type": "code",
   "execution_count": 1,
   "id": "4290a9ba-eaf3-483b-b144-fa379e0977f0",
   "metadata": {},
   "outputs": [],
   "source": [
    "import pandas as pd\n",
    "import numpy as np\n",
    "import matplotlib.pyplot as plt\n",
    "from sklearn.linear_model import LinearRegression"
   ]
  },
  {
   "cell_type": "code",
   "execution_count": 2,
   "id": "a9f3e367-bcf1-4229-8f22-67561afb1632",
   "metadata": {},
   "outputs": [
    {
     "data": {
      "text/html": [
       "<div>\n",
       "<style scoped>\n",
       "    .dataframe tbody tr th:only-of-type {\n",
       "        vertical-align: middle;\n",
       "    }\n",
       "\n",
       "    .dataframe tbody tr th {\n",
       "        vertical-align: top;\n",
       "    }\n",
       "\n",
       "    .dataframe thead th {\n",
       "        text-align: right;\n",
       "    }\n",
       "</style>\n",
       "<table border=\"1\" class=\"dataframe\">\n",
       "  <thead>\n",
       "    <tr style=\"text-align: right;\">\n",
       "      <th></th>\n",
       "      <th>mpg</th>\n",
       "      <th>cylinders</th>\n",
       "      <th>displacement</th>\n",
       "      <th>horsepower</th>\n",
       "      <th>weight</th>\n",
       "      <th>acceleration</th>\n",
       "      <th>model year</th>\n",
       "      <th>origin</th>\n",
       "      <th>car name</th>\n",
       "    </tr>\n",
       "  </thead>\n",
       "  <tbody>\n",
       "    <tr>\n",
       "      <th>0</th>\n",
       "      <td>18.0</td>\n",
       "      <td>8</td>\n",
       "      <td>307.0</td>\n",
       "      <td>130.0</td>\n",
       "      <td>3504</td>\n",
       "      <td>12.0</td>\n",
       "      <td>70</td>\n",
       "      <td>1</td>\n",
       "      <td>chevrolet chevelle malibu</td>\n",
       "    </tr>\n",
       "    <tr>\n",
       "      <th>1</th>\n",
       "      <td>15.0</td>\n",
       "      <td>8</td>\n",
       "      <td>350.0</td>\n",
       "      <td>165.0</td>\n",
       "      <td>3693</td>\n",
       "      <td>11.5</td>\n",
       "      <td>70</td>\n",
       "      <td>1</td>\n",
       "      <td>buick skylark 320</td>\n",
       "    </tr>\n",
       "    <tr>\n",
       "      <th>2</th>\n",
       "      <td>18.0</td>\n",
       "      <td>8</td>\n",
       "      <td>318.0</td>\n",
       "      <td>150.0</td>\n",
       "      <td>3436</td>\n",
       "      <td>11.0</td>\n",
       "      <td>70</td>\n",
       "      <td>1</td>\n",
       "      <td>plymouth satellite</td>\n",
       "    </tr>\n",
       "    <tr>\n",
       "      <th>3</th>\n",
       "      <td>16.0</td>\n",
       "      <td>8</td>\n",
       "      <td>304.0</td>\n",
       "      <td>150.0</td>\n",
       "      <td>3433</td>\n",
       "      <td>12.0</td>\n",
       "      <td>70</td>\n",
       "      <td>1</td>\n",
       "      <td>amc rebel sst</td>\n",
       "    </tr>\n",
       "    <tr>\n",
       "      <th>4</th>\n",
       "      <td>17.0</td>\n",
       "      <td>8</td>\n",
       "      <td>302.0</td>\n",
       "      <td>140.0</td>\n",
       "      <td>3449</td>\n",
       "      <td>10.5</td>\n",
       "      <td>70</td>\n",
       "      <td>1</td>\n",
       "      <td>ford torino</td>\n",
       "    </tr>\n",
       "  </tbody>\n",
       "</table>\n",
       "</div>"
      ],
      "text/plain": [
       "    mpg  cylinders  displacement  horsepower  weight  acceleration  \\\n",
       "0  18.0          8         307.0       130.0    3504          12.0   \n",
       "1  15.0          8         350.0       165.0    3693          11.5   \n",
       "2  18.0          8         318.0       150.0    3436          11.0   \n",
       "3  16.0          8         304.0       150.0    3433          12.0   \n",
       "4  17.0          8         302.0       140.0    3449          10.5   \n",
       "\n",
       "   model year  origin                   car name  \n",
       "0          70       1  chevrolet chevelle malibu  \n",
       "1          70       1          buick skylark 320  \n",
       "2          70       1         plymouth satellite  \n",
       "3          70       1              amc rebel sst  \n",
       "4          70       1                ford torino  "
      ]
     },
     "execution_count": 2,
     "metadata": {},
     "output_type": "execute_result"
    }
   ],
   "source": [
    "data = pd.read_csv('../../Recursos_curso/datasets/auto/auto-mpg.csv')\n",
    "data.head()"
   ]
  },
  {
   "cell_type": "code",
   "execution_count": 3,
   "id": "bdaf9741-964c-4c3f-a4b5-f448b90eac99",
   "metadata": {},
   "outputs": [
    {
     "data": {
      "text/plain": [
       "14"
      ]
     },
     "execution_count": 3,
     "metadata": {},
     "output_type": "execute_result"
    }
   ],
   "source": [
    "# Comprobar cuantos datos N/A tenemos\n",
    "\n",
    "pd.isnull(data).values.ravel().sum()"
   ]
  },
  {
   "cell_type": "code",
   "execution_count": 4,
   "id": "a1ea1b99-d028-4594-b05c-aee9f57a7b9e",
   "metadata": {},
   "outputs": [],
   "source": [
    "# Eliminar filas que tengan cualquier valor N/A\n",
    "\n",
    "data = data.dropna(axis = 0, how = 'any') # axis = 0 eliminará las filas y el how = 'any' hace referencia a cualquier N/A"
   ]
  },
  {
   "cell_type": "code",
   "execution_count": 5,
   "id": "ab440f93-f435-43a2-baa0-e95b5dafc894",
   "metadata": {},
   "outputs": [
    {
     "data": {
      "image/png": "[encoded data removed]",
      "text/plain": [
       "<Figure size 640x480 with 1 Axes>"
      ]
     },
     "metadata": {},
     "output_type": "display_data"
    }
   ],
   "source": [
    "# Visualizar los datos que tenemos respecto a los caballos de potencia (Horsepower) y millas por galeon (MPG)\n",
    "\n",
    "plt.plot(data['mpg'], data['horsepower'], 'bo')\n",
    "%matplotlib inline"
   ]
  },
  {
   "cell_type": "markdown",
   "id": "68b2d07b-2f5d-470e-9469-bfc366b46583",
   "metadata": {},
   "source": [
    "### Regresión Lineal Cuadrática"
   ]
  },
  {
   "cell_type": "markdown",
   "id": "3ad08893-546e-49fb-8d89-6574c7129aa2",
   "metadata": {},
   "source": [
    "Lo primero que vamos a hacer es convertir el modelo en cuadratrico elevando al cuadrado todos los parametros estimadores para posteriormente realizar el modelo cuadrático.\n",
    "\n",
    "Un modelo cuadrático tendría una pinta tal que así:\n",
    "\n",
    "MPG = a + (b * Horsepower ^ 2)"
   ]
  },
  {
   "cell_type": "code",
   "execution_count": 12,
   "id": "b328ac6f-f329-4999-8670-dfa40d6f1c57",
   "metadata": {},
   "outputs": [
    {
     "data": {
      "text/html": [
       "<div>\n",
       "<style scoped>\n",
       "    .dataframe tbody tr th:only-of-type {\n",
       "        vertical-align: middle;\n",
       "    }\n",
       "\n",
       "    .dataframe tbody tr th {\n",
       "        vertical-align: top;\n",
       "    }\n",
       "\n",
       "    .dataframe thead th {\n",
       "        text-align: right;\n",
       "    }\n",
       "</style>\n",
       "<table border=\"1\" class=\"dataframe\">\n",
       "  <thead>\n",
       "    <tr style=\"text-align: right;\">\n",
       "      <th></th>\n",
       "      <th>mpg</th>\n",
       "      <th>cylinders</th>\n",
       "      <th>displacement</th>\n",
       "      <th>horsepower</th>\n",
       "      <th>weight</th>\n",
       "      <th>acceleration</th>\n",
       "      <th>model year</th>\n",
       "      <th>origin</th>\n",
       "      <th>car name</th>\n",
       "    </tr>\n",
       "  </thead>\n",
       "  <tbody>\n",
       "    <tr>\n",
       "      <th>0</th>\n",
       "      <td>18.0</td>\n",
       "      <td>8</td>\n",
       "      <td>307.0</td>\n",
       "      <td>16900.0</td>\n",
       "      <td>3504</td>\n",
       "      <td>12.0</td>\n",
       "      <td>70</td>\n",
       "      <td>1</td>\n",
       "      <td>chevrolet chevelle malibu</td>\n",
       "    </tr>\n",
       "    <tr>\n",
       "      <th>1</th>\n",
       "      <td>15.0</td>\n",
       "      <td>8</td>\n",
       "      <td>350.0</td>\n",
       "      <td>27225.0</td>\n",
       "      <td>3693</td>\n",
       "      <td>11.5</td>\n",
       "      <td>70</td>\n",
       "      <td>1</td>\n",
       "      <td>buick skylark 320</td>\n",
       "    </tr>\n",
       "    <tr>\n",
       "      <th>2</th>\n",
       "      <td>18.0</td>\n",
       "      <td>8</td>\n",
       "      <td>318.0</td>\n",
       "      <td>22500.0</td>\n",
       "      <td>3436</td>\n",
       "      <td>11.0</td>\n",
       "      <td>70</td>\n",
       "      <td>1</td>\n",
       "      <td>plymouth satellite</td>\n",
       "    </tr>\n",
       "    <tr>\n",
       "      <th>3</th>\n",
       "      <td>16.0</td>\n",
       "      <td>8</td>\n",
       "      <td>304.0</td>\n",
       "      <td>22500.0</td>\n",
       "      <td>3433</td>\n",
       "      <td>12.0</td>\n",
       "      <td>70</td>\n",
       "      <td>1</td>\n",
       "      <td>amc rebel sst</td>\n",
       "    </tr>\n",
       "    <tr>\n",
       "      <th>4</th>\n",
       "      <td>17.0</td>\n",
       "      <td>8</td>\n",
       "      <td>302.0</td>\n",
       "      <td>19600.0</td>\n",
       "      <td>3449</td>\n",
       "      <td>10.5</td>\n",
       "      <td>70</td>\n",
       "      <td>1</td>\n",
       "      <td>ford torino</td>\n",
       "    </tr>\n",
       "  </tbody>\n",
       "</table>\n",
       "</div>"
      ],
      "text/plain": [
       "    mpg  cylinders  displacement  horsepower  weight  acceleration  \\\n",
       "0  18.0          8         307.0     16900.0    3504          12.0   \n",
       "1  15.0          8         350.0     27225.0    3693          11.5   \n",
       "2  18.0          8         318.0     22500.0    3436          11.0   \n",
       "3  16.0          8         304.0     22500.0    3433          12.0   \n",
       "4  17.0          8         302.0     19600.0    3449          10.5   \n",
       "\n",
       "   model year  origin                   car name  \n",
       "0          70       1  chevrolet chevelle malibu  \n",
       "1          70       1          buick skylark 320  \n",
       "2          70       1         plymouth satellite  \n",
       "3          70       1              amc rebel sst  \n",
       "4          70       1                ford torino  "
      ]
     },
     "execution_count": 12,
     "metadata": {},
     "output_type": "execute_result"
    }
   ],
   "source": [
    "# Elevamos al cuadrado los datos de Horsepower\n",
    "\n",
    "data['horsepower'] = data['horsepower'] ** 2\n",
    "data.head()"
   ]
  },
  {
   "cell_type": "code",
   "execution_count": 14,
   "id": "c57fa46c-d35e-4632-a8d6-b9c38bb5d654",
   "metadata": {},
   "outputs": [],
   "source": [
    "# Construimos el modelo de regresión lineal\n",
    "\n",
    "regresion_cuadratica = LinearRegression().fit(data['horsepower'].values.reshape(-1, 1), data['mpg'])"
   ]
  },
  {
   "cell_type": "code",
   "execution_count": 16,
   "id": "754ba3bf-81e9-40a4-9a8a-56ab1ae7a78d",
   "metadata": {},
   "outputs": [],
   "source": [
    "# Predicción\n",
    "\n",
    "prediccion = regresion_cuadratica.predict(data['horsepower'].values.reshape(-1, 1))"
   ]
  },
  {
   "cell_type": "code",
   "execution_count": 18,
   "id": "3258d672-3d37-49a6-9591-8ea15c14de36",
   "metadata": {},
   "outputs": [
    {
     "name": "stdout",
     "output_type": "stream",
     "text": [
      "0.5073670089832611 11734.021995832662 5.485183304753854 23.4\n"
     ]
    }
   ],
   "source": [
    "# Parametros de la predicción\n",
    "\n",
    "r2 = regresion_cuadratica.score(data['horsepower'].values.reshape(-1, 1), data['mpg'])\n",
    "ssd = sum((data['mpg'] - prediccion) ** 2)\n",
    "rse = np.sqrt(ssd / (len(data) - 1 -1))\n",
    "error = round(100 * rse / np.mean(data['mpg']), 2)\n",
    "\n",
    "print(r2, ssd, rse, error)"
   ]
  },
  {
   "cell_type": "markdown",
   "id": "0e3486bb-6aa1-4d83-9ae7-a74310489036",
   "metadata": {},
   "source": [
    "Como podemos ver, el modelo no es muy bueno, ya que tiene un R2 de 0.5 y un error del 23%"
   ]
  },
  {
   "cell_type": "markdown",
   "id": "6dbfb193-0e7d-46a1-a2b6-daee3b123322",
   "metadata": {},
   "source": [
    "### Regresión polinomial"
   ]
  },
  {
   "cell_type": "markdown",
   "id": "71403d17-55a6-46ec-8f76-04920c413729",
   "metadata": {},
   "source": [
    "La regresión polinomial es aquella que tiene un forma como la siguiente:\n",
    "\n",
    "MPG = a + (b1 * Horsepower) + (b2 * Horsepower ^ 2) + ... + (bn * Horsepower ^ n) "
   ]
  },
  {
   "cell_type": "code",
   "execution_count": 20,
   "id": "2485b5b0-235e-4a35-9809-ceaa39b2a822",
   "metadata": {},
   "outputs": [],
   "source": [
    "# Importamos las librerias para hacer regresión polinomial\n",
    "\n",
    "from sklearn.preprocessing import PolynomialFeatures\n",
    "from sklearn import linear_model"
   ]
  },
  {
   "cell_type": "code",
   "execution_count": 30,
   "id": "6a1b06e6-d765-4689-b7cf-682d33a93fa3",
   "metadata": {},
   "outputs": [],
   "source": [
    "# Definimos el rango máximo del polinomia que deseamos\n",
    "\n",
    "polinomio = PolynomialFeatures(degree = 3) # queremos llegar por ejemplo a x^3"
   ]
  },
  {
   "cell_type": "code",
   "execution_count": 31,
   "id": "00eacff5-d422-49e7-b150-299efe1d1347",
   "metadata": {},
   "outputs": [],
   "source": [
    "# Definimos los datos que podrá coger el modelo\n",
    "\n",
    "estimadores = polinomio.fit_transform(data['horsepower'].values.reshape(-1, 1)) # lo del reshape se ha de hacer en este caso"
   ]
  },
  {
   "cell_type": "code",
   "execution_count": 32,
   "id": "42c8d7a5-6d21-4024-8dcd-07d2b5b8e881",
   "metadata": {},
   "outputs": [],
   "source": [
    "# Construir el modelo de regresion\n",
    "\n",
    "regresion_polinomial = LinearRegression().fit(estimadores, data['mpg'])"
   ]
  },
  {
   "cell_type": "code",
   "execution_count": 33,
   "id": "85dd6704-7ab8-4b50-bcaa-e8f6e98759fd",
   "metadata": {},
   "outputs": [
    {
     "name": "stdout",
     "output_type": "stream",
     "text": [
      "41.276195734904576 [ 0.00000000e+00 -2.57479674e-03  7.85848867e-08 -7.72850043e-13]\n"
     ]
    }
   ],
   "source": [
    "# Visualizar los valores del modelo\n",
    "\n",
    "print(regresion_polinomial.intercept_, regresion_polinomial.coef_)"
   ]
  },
  {
   "cell_type": "markdown",
   "id": "94926447-60b6-4dc8-9177-7255c1bade14",
   "metadata": {},
   "source": [
    "### Eliminar outliers"
   ]
  },
  {
   "cell_type": "code",
   "execution_count": null,
   "id": "f297439c-a969-48da-8736-831eaa5e3b3d",
   "metadata": {},
   "outputs": [],
   "source": []
  }
 ],
 "metadata": {
  "kernelspec": {
   "display_name": "Python 3 (ipykernel)",
   "language": "python",
   "name": "python3"
  },
  "language_info": {
   "codemirror_mode": {
    "name": "ipython",
    "version": 3
   },
   "file_extension": ".py",
   "mimetype": "text/x-python",
   "name": "python",
   "nbconvert_exporter": "python",
   "pygments_lexer": "ipython3",
   "version": "3.12.2"
  }
 },
 "nbformat": 4,
 "nbformat_minor": 5
}
