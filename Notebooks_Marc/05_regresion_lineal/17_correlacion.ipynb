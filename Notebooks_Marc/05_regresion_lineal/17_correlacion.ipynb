{
 "cells": [
  {
   "cell_type": "markdown",
   "id": "ff9dbfc5-f4a4-4ddf-aabf-fe5292899275",
   "metadata": {},
   "source": [
    "# 17: CORRELACIÓN ENTRE VARIABLES"
   ]
  },
  {
   "cell_type": "markdown",
   "id": "71bd2389-17c3-4785-b6d7-524a89546c5d",
   "metadata": {},
   "source": [
    "La correlación entre variables se da cuando dos variables estan relacionadas directa o inversamente proporcional. De este modo, recurriremos a la ecuación de la correlación de Pearson. Este resultado va a marcar cuanta correlación hay entre dos variables:\n",
    "\n",
    "- Pearson = 0 --> NO CORRELACION (Cuanto más cercano a 0, mneos correlación entre las variables)\n",
    "- Pearson = 1 --> CORRELACION DIRECTAMENTE PROPORCIONAL\n",
    "- Pearson = -1 --> CORRELACION INVERSAMENTE PROPORCIONAL"
   ]
  },
  {
   "cell_type": "code",
   "execution_count": 1,
   "id": "016c43e2-7248-4f38-86c7-0ed5dfa9feaa",
   "metadata": {},
   "outputs": [],
   "source": [
    "import pandas as pd\n",
    "import numpy as np\n",
    "import os"
   ]
  },
  {
   "cell_type": "code",
   "execution_count": 10,
   "id": "74891d1d-96a4-497b-a7ea-8882290d2fb6",
   "metadata": {},
   "outputs": [],
   "source": [
    "raiz = r\"C:\\Users\\Usuario\\Documents\\05_Formación_Académica\\Marc\\Data_Science\\machine_learning\\Recursos_curso\\datasets\"\n",
    "fichero = r\"ads\\Advertising.csv\"\n",
    "ruta = os.path.join(raiz, fichero) \n",
    "data = pd.read_csv(ruta)"
   ]
  },
  {
   "cell_type": "code",
   "execution_count": 11,
   "id": "51039a07-baca-4ef8-8cc2-37e5e46693f1",
   "metadata": {},
   "outputs": [
    {
     "data": {
      "text/html": [
       "<div>\n",
       "<style scoped>\n",
       "    .dataframe tbody tr th:only-of-type {\n",
       "        vertical-align: middle;\n",
       "    }\n",
       "\n",
       "    .dataframe tbody tr th {\n",
       "        vertical-align: top;\n",
       "    }\n",
       "\n",
       "    .dataframe thead th {\n",
       "        text-align: right;\n",
       "    }\n",
       "</style>\n",
       "<table border=\"1\" class=\"dataframe\">\n",
       "  <thead>\n",
       "    <tr style=\"text-align: right;\">\n",
       "      <th></th>\n",
       "      <th>TV</th>\n",
       "      <th>Radio</th>\n",
       "      <th>Newspaper</th>\n",
       "      <th>Sales</th>\n",
       "    </tr>\n",
       "  </thead>\n",
       "  <tbody>\n",
       "    <tr>\n",
       "      <th>0</th>\n",
       "      <td>230.1</td>\n",
       "      <td>37.8</td>\n",
       "      <td>69.2</td>\n",
       "      <td>22.1</td>\n",
       "    </tr>\n",
       "    <tr>\n",
       "      <th>1</th>\n",
       "      <td>44.5</td>\n",
       "      <td>39.3</td>\n",
       "      <td>45.1</td>\n",
       "      <td>10.4</td>\n",
       "    </tr>\n",
       "    <tr>\n",
       "      <th>2</th>\n",
       "      <td>17.2</td>\n",
       "      <td>45.9</td>\n",
       "      <td>69.3</td>\n",
       "      <td>9.3</td>\n",
       "    </tr>\n",
       "    <tr>\n",
       "      <th>3</th>\n",
       "      <td>151.5</td>\n",
       "      <td>41.3</td>\n",
       "      <td>58.5</td>\n",
       "      <td>18.5</td>\n",
       "    </tr>\n",
       "    <tr>\n",
       "      <th>4</th>\n",
       "      <td>180.8</td>\n",
       "      <td>10.8</td>\n",
       "      <td>58.4</td>\n",
       "      <td>12.9</td>\n",
       "    </tr>\n",
       "  </tbody>\n",
       "</table>\n",
       "</div>"
      ],
      "text/plain": [
       "      TV  Radio  Newspaper  Sales\n",
       "0  230.1   37.8       69.2   22.1\n",
       "1   44.5   39.3       45.1   10.4\n",
       "2   17.2   45.9       69.3    9.3\n",
       "3  151.5   41.3       58.5   18.5\n",
       "4  180.8   10.8       58.4   12.9"
      ]
     },
     "execution_count": 11,
     "metadata": {},
     "output_type": "execute_result"
    }
   ],
   "source": [
    "data.head()"
   ]
  },
  {
   "cell_type": "code",
   "execution_count": 12,
   "id": "963ffd4d-578d-4051-a6cd-7a38008d39bc",
   "metadata": {},
   "outputs": [
    {
     "data": {
      "text/plain": [
       "array(['TV', 'Radio', 'Newspaper', 'Sales'], dtype=object)"
      ]
     },
     "execution_count": 12,
     "metadata": {},
     "output_type": "execute_result"
    }
   ],
   "source": [
    "columnas = data.columns.values\n",
    "columnas"
   ]
  },
  {
   "cell_type": "markdown",
   "id": "58c6a8ad-c4b7-4e79-9a95-ecc4a1e6ca2d",
   "metadata": {},
   "source": [
    "### Demostración de la fórmula de Pearson paso a paso"
   ]
  },
  {
   "cell_type": "code",
   "execution_count": 13,
   "id": "683fa606-fab4-486a-be72-a79ddb7d7c9f",
   "metadata": {},
   "outputs": [],
   "source": [
    "# Crear una columna del dataframe con el primer numerador de la fórmula. En este caso vamos a ver la correlación entre 'sales' y 'TV'\n",
    "\n",
    "data['numerador_1'] = (data['TV'] - np.mean(data['TV'])) * (data['Sales'] - np.mean(data['Sales']))"
   ]
  },
  {
   "cell_type": "code",
   "execution_count": 14,
   "id": "74724f13-ca8b-462c-b83a-263269945f8a",
   "metadata": {},
   "outputs": [],
   "source": [
    "# Crear una columna con el primer denominador de la fórmula\n",
    "\n",
    "data['denominador_1'] = (data['TV'] - np.mean(data['TV'])) ** 2 # esto siginifca que se pone al cuadrado"
   ]
  },
  {
   "cell_type": "code",
   "execution_count": 15,
   "id": "3549c658-db65-4ede-940e-55f7b68ea2c4",
   "metadata": {},
   "outputs": [],
   "source": [
    "# Crear una columna con el segundo denominador de la fórmula\n",
    "\n",
    "data['denominador_2'] = (data['Sales'] - np.mean(data['Sales'])) ** 2"
   ]
  },
  {
   "cell_type": "code",
   "execution_count": 16,
   "id": "5c8c6727-9338-4469-8e7a-df63efd639e9",
   "metadata": {},
   "outputs": [
    {
     "data": {
      "text/html": [
       "<div>\n",
       "<style scoped>\n",
       "    .dataframe tbody tr th:only-of-type {\n",
       "        vertical-align: middle;\n",
       "    }\n",
       "\n",
       "    .dataframe tbody tr th {\n",
       "        vertical-align: top;\n",
       "    }\n",
       "\n",
       "    .dataframe thead th {\n",
       "        text-align: right;\n",
       "    }\n",
       "</style>\n",
       "<table border=\"1\" class=\"dataframe\">\n",
       "  <thead>\n",
       "    <tr style=\"text-align: right;\">\n",
       "      <th></th>\n",
       "      <th>TV</th>\n",
       "      <th>Radio</th>\n",
       "      <th>Newspaper</th>\n",
       "      <th>Sales</th>\n",
       "      <th>numerador_1</th>\n",
       "      <th>denominador_1</th>\n",
       "      <th>denominador_2</th>\n",
       "    </tr>\n",
       "  </thead>\n",
       "  <tbody>\n",
       "    <tr>\n",
       "      <th>0</th>\n",
       "      <td>230.1</td>\n",
       "      <td>37.8</td>\n",
       "      <td>69.2</td>\n",
       "      <td>22.1</td>\n",
       "      <td>670.896956</td>\n",
       "      <td>6898.548306</td>\n",
       "      <td>65.246006</td>\n",
       "    </tr>\n",
       "    <tr>\n",
       "      <th>1</th>\n",
       "      <td>44.5</td>\n",
       "      <td>39.3</td>\n",
       "      <td>45.1</td>\n",
       "      <td>10.4</td>\n",
       "      <td>371.460206</td>\n",
       "      <td>10514.964306</td>\n",
       "      <td>13.122506</td>\n",
       "    </tr>\n",
       "    <tr>\n",
       "      <th>2</th>\n",
       "      <td>17.2</td>\n",
       "      <td>45.9</td>\n",
       "      <td>69.3</td>\n",
       "      <td>9.3</td>\n",
       "      <td>613.181206</td>\n",
       "      <td>16859.074806</td>\n",
       "      <td>22.302006</td>\n",
       "    </tr>\n",
       "    <tr>\n",
       "      <th>3</th>\n",
       "      <td>151.5</td>\n",
       "      <td>41.3</td>\n",
       "      <td>58.5</td>\n",
       "      <td>18.5</td>\n",
       "      <td>19.958456</td>\n",
       "      <td>19.869306</td>\n",
       "      <td>20.048006</td>\n",
       "    </tr>\n",
       "    <tr>\n",
       "      <th>4</th>\n",
       "      <td>180.8</td>\n",
       "      <td>10.8</td>\n",
       "      <td>58.4</td>\n",
       "      <td>12.9</td>\n",
       "      <td>-37.892794</td>\n",
       "      <td>1139.568806</td>\n",
       "      <td>1.260006</td>\n",
       "    </tr>\n",
       "  </tbody>\n",
       "</table>\n",
       "</div>"
      ],
      "text/plain": [
       "      TV  Radio  Newspaper  Sales  numerador_1  denominador_1  denominador_2\n",
       "0  230.1   37.8       69.2   22.1   670.896956    6898.548306      65.246006\n",
       "1   44.5   39.3       45.1   10.4   371.460206   10514.964306      13.122506\n",
       "2   17.2   45.9       69.3    9.3   613.181206   16859.074806      22.302006\n",
       "3  151.5   41.3       58.5   18.5    19.958456      19.869306      20.048006\n",
       "4  180.8   10.8       58.4   12.9   -37.892794    1139.568806       1.260006"
      ]
     },
     "execution_count": 16,
     "metadata": {},
     "output_type": "execute_result"
    }
   ],
   "source": [
    "data.head()"
   ]
  },
  {
   "cell_type": "code",
   "execution_count": 17,
   "id": "be515154-68cc-4683-8946-ab2e89040c0a",
   "metadata": {},
   "outputs": [
    {
     "data": {
      "text/plain": [
       "0.7822244248616064"
      ]
     },
     "execution_count": 17,
     "metadata": {},
     "output_type": "execute_result"
    }
   ],
   "source": [
    "# Calcular el estadísitco de Pearson\n",
    "\n",
    "pearson = (sum(data['numerador_1'])) / (np.sqrt(sum(data['denominador_1']) * sum(data['denominador_2'])))\n",
    "pearson"
   ]
  },
  {
   "cell_type": "markdown",
   "id": "d88ebc29-4a25-47f5-b06d-21fbcd1c1627",
   "metadata": {},
   "source": [
    "Este resultado es cercano a 1 por lo que se puede afirmar que hay cierta correlacióin directamente proporcional entre la variable TV y Sales"
   ]
  },
  {
   "cell_type": "markdown",
   "id": "eec65223-ea27-46f9-8c5d-d9a3c5824064",
   "metadata": {},
   "source": [
    "### Crear una función para calcular la correlación entre dos variables "
   ]
  },
  {
   "cell_type": "code",
   "execution_count": 18,
   "id": "60a1612d-4ad7-4c63-980f-e21e2a82f6d4",
   "metadata": {},
   "outputs": [],
   "source": [
    "def correlacion(df, variable_1, variable_2):\n",
    "    numerador = sum((df[variable_1] - np.mean(df[variable_1])) * (df[variable_2] - np.mean(df[variable_2])))\n",
    "    denominador_1 = sum((df[variable_1] - np.mean(df[variable_1])) ** 2)\n",
    "    denominador_2 = sum((df[variable_2] - np.mean(df[variable_2])) ** 2)\n",
    "    pearson = numerador / (np.sqrt(denominador_1 * denominador_2))\n",
    "    return pearson"
   ]
  },
  {
   "cell_type": "code",
   "execution_count": 19,
   "id": "f976d872-91dc-4d58-ad8c-71c4c6b75c39",
   "metadata": {},
   "outputs": [
    {
     "data": {
      "text/plain": [
       "0.7822244248616064"
      ]
     },
     "execution_count": 19,
     "metadata": {},
     "output_type": "execute_result"
    }
   ],
   "source": [
    "correlacion(data, 'TV', 'Sales')"
   ]
  },
  {
   "cell_type": "markdown",
   "id": "d4b9bdd2-7268-487f-92eb-925bfe363315",
   "metadata": {},
   "source": [
    "### Calcular la correlación entre las variables 'TV', 'Radio' y 'Newspaper', y la variable 'Sales'"
   ]
  },
  {
   "cell_type": "code",
   "execution_count": 23,
   "id": "31591827-08f7-4239-88b2-70255acbd5c7",
   "metadata": {},
   "outputs": [
    {
     "name": "stdout",
     "output_type": "stream",
     "text": [
      "La correlación entre 'TV' y 'Sales' es 0.7822244248616064\n",
      "La correlación entre 'Radio' y 'Sales' es 0.5762225745710553\n",
      "La correlación entre 'Newspaper' y 'Sales' es 0.22829902637616536\n"
     ]
    }
   ],
   "source": [
    "for i in columnas:\n",
    "    if not i == 'Sales':\n",
    "        print(f'La correlación entre \\'{i}\\' y \\'Sales\\' es {correlacion(data, i, 'Sales')}')"
   ]
  },
  {
   "cell_type": "markdown",
   "id": "3ea55aad-975e-4eb3-a330-40bba73d9318",
   "metadata": {},
   "source": [
    "Así pues, podemos ver que solo tenemos una correlación entre 'TV' y 'Sales'"
   ]
  },
  {
   "cell_type": "markdown",
   "id": "adb08d4d-21d5-44dc-9bef-3a01a1affcd6",
   "metadata": {},
   "source": [
    "### Comprobar la posible correlación mediante un plot"
   ]
  },
  {
   "cell_type": "code",
   "execution_count": 24,
   "id": "8b0d8ef8-cd1e-4697-820b-d158ba620036",
   "metadata": {},
   "outputs": [],
   "source": [
    "import matplotlib.pyplot as plt"
   ]
  },
  {
   "cell_type": "code",
   "execution_count": 29,
   "id": "9526914f-e78a-47da-84da-35fe53f90f9e",
   "metadata": {},
   "outputs": [
    {
     "data": {
      "text/plain": [
       "Text(0.5, 1.0, \"'TV' VS 'Sales'\")"
      ]
     },
     "execution_count": 29,
     "metadata": {},
     "output_type": "execute_result"
    },
    {
     "data": {
      "image/png": "[encoded data removed]",
      "text/plain": [
       "<Figure size 640x480 with 1 Axes>"
      ]
     },
     "metadata": {},
     "output_type": "display_data"
    }
   ],
   "source": [
    "# TV VS Sales\n",
    "\n",
    "plt.plot(data['TV'], data['Sales'], 'ro') # 'ro' es para que el plot sea de puntos rojos\n",
    "plt.title(\"\\'TV\\' VS \\'Sales\\'\")"
   ]
  },
  {
   "cell_type": "code",
   "execution_count": 30,
   "id": "5c743066-08da-40c5-a4e1-2a82692ad3eb",
   "metadata": {},
   "outputs": [
    {
     "data": {
      "text/plain": [
       "Text(0.5, 1.0, \"'Radio' VS 'Sales'\")"
      ]
     },
     "execution_count": 30,
     "metadata": {},
     "output_type": "execute_result"
    },
    {
     "data": {
      "image/png": "[encoded data removed]",
      "text/plain": [
       "<Figure size 640x480 with 1 Axes>"
      ]
     },
     "metadata": {},
     "output_type": "display_data"
    }
   ],
   "source": [
    "# Radio VS Sales\n",
    "\n",
    "plt.plot(data['Radio'], data['Sales'], 'go') # 'go' es para que el plot sea de puntos verdes\n",
    "plt.title(\"\\'Radio\\' VS \\'Sales\\'\")"
   ]
  },
  {
   "cell_type": "code",
   "execution_count": 31,
   "id": "b047e549-4aa0-4b94-bd3b-27cd340451fb",
   "metadata": {},
   "outputs": [
    {
     "data": {
      "text/plain": [
       "Text(0.5, 1.0, \"'Newspaper' VS 'Sales'\")"
      ]
     },
     "execution_count": 31,
     "metadata": {},
     "output_type": "execute_result"
    },
    {
     "data": {
      "image/png": "[encoded data removed]",
      "text/plain": [
       "<Figure size 640x480 with 1 Axes>"
      ]
     },
     "metadata": {},
     "output_type": "display_data"
    }
   ],
   "source": [
    "# Newspaper VS Sales\n",
    "\n",
    "plt.plot(data['Newspaper'], data['Sales'], 'bo') # 'bo' es para que el plot sea de puntos azules\n",
    "plt.title(\"\\'Newspaper\\' VS \\'Sales\\'\")"
   ]
  },
  {
   "cell_type": "markdown",
   "id": "ed6b0f82-3805-46fb-9a53-cfc631f2dd70",
   "metadata": {},
   "source": [
    "### Calcular la correlación mediante una función propia del paquete pandas"
   ]
  },
  {
   "cell_type": "code",
   "execution_count": 32,
   "id": "c26b7d6f-22cf-4850-a4bb-68caae543d50",
   "metadata": {},
   "outputs": [],
   "source": [
    "data = pd.read_csv(ruta)"
   ]
  },
  {
   "cell_type": "code",
   "execution_count": 33,
   "id": "0a4abbb8-36d3-473d-a4d6-b9a75fefd045",
   "metadata": {},
   "outputs": [
    {
     "data": {
      "text/html": [
       "<div>\n",
       "<style scoped>\n",
       "    .dataframe tbody tr th:only-of-type {\n",
       "        vertical-align: middle;\n",
       "    }\n",
       "\n",
       "    .dataframe tbody tr th {\n",
       "        vertical-align: top;\n",
       "    }\n",
       "\n",
       "    .dataframe thead th {\n",
       "        text-align: right;\n",
       "    }\n",
       "</style>\n",
       "<table border=\"1\" class=\"dataframe\">\n",
       "  <thead>\n",
       "    <tr style=\"text-align: right;\">\n",
       "      <th></th>\n",
       "      <th>TV</th>\n",
       "      <th>Radio</th>\n",
       "      <th>Newspaper</th>\n",
       "      <th>Sales</th>\n",
       "    </tr>\n",
       "  </thead>\n",
       "  <tbody>\n",
       "    <tr>\n",
       "      <th>TV</th>\n",
       "      <td>1.000000</td>\n",
       "      <td>0.054809</td>\n",
       "      <td>0.056648</td>\n",
       "      <td>0.782224</td>\n",
       "    </tr>\n",
       "    <tr>\n",
       "      <th>Radio</th>\n",
       "      <td>0.054809</td>\n",
       "      <td>1.000000</td>\n",
       "      <td>0.354104</td>\n",
       "      <td>0.576223</td>\n",
       "    </tr>\n",
       "    <tr>\n",
       "      <th>Newspaper</th>\n",
       "      <td>0.056648</td>\n",
       "      <td>0.354104</td>\n",
       "      <td>1.000000</td>\n",
       "      <td>0.228299</td>\n",
       "    </tr>\n",
       "    <tr>\n",
       "      <th>Sales</th>\n",
       "      <td>0.782224</td>\n",
       "      <td>0.576223</td>\n",
       "      <td>0.228299</td>\n",
       "      <td>1.000000</td>\n",
       "    </tr>\n",
       "  </tbody>\n",
       "</table>\n",
       "</div>"
      ],
      "text/plain": [
       "                 TV     Radio  Newspaper     Sales\n",
       "TV         1.000000  0.054809   0.056648  0.782224\n",
       "Radio      0.054809  1.000000   0.354104  0.576223\n",
       "Newspaper  0.056648  0.354104   1.000000  0.228299\n",
       "Sales      0.782224  0.576223   0.228299  1.000000"
      ]
     },
     "execution_count": 33,
     "metadata": {},
     "output_type": "execute_result"
    }
   ],
   "source": [
    "# Usar la función para calcular la correlación entre todas las variables del dataframe\n",
    "\n",
    "data.corr()"
   ]
  },
  {
   "cell_type": "markdown",
   "id": "d9fbfbf6-48c6-44e2-a1f2-1ecd55c6bc3f",
   "metadata": {},
   "source": [
    "Como se puede ver, cada varaible consigo misma tiene un coeficiente de 1"
   ]
  },
  {
   "cell_type": "code",
   "execution_count": 34,
   "id": "9037837c-7212-42f0-9daa-9eddecedf015",
   "metadata": {},
   "outputs": [
    {
     "data": {
      "text/plain": [
       "<matplotlib.image.AxesImage at 0x1d75f9fc5f0>"
      ]
     },
     "execution_count": 34,
     "metadata": {},
     "output_type": "execute_result"
    },
    {
     "data": {
      "image/png": "[encoded data removed]",
      "text/plain": [
       "<Figure size 480x480 with 1 Axes>"
      ]
     },
     "metadata": {},
     "output_type": "display_data"
    }
   ],
   "source": [
    "# Visualizarlo mediante un plot de mapa de densidad\n",
    "\n",
    "plt.matshow(data.corr())"
   ]
  },
  {
   "cell_type": "code",
   "execution_count": null,
   "id": "27f2ff57-f902-4c7f-bf46-0e788f6e9ebb",
   "metadata": {},
   "outputs": [],
   "source": []
  }
 ],
 "metadata": {
  "kernelspec": {
   "display_name": "Python 3 (ipykernel)",
   "language": "python",
   "name": "python3"
  },
  "language_info": {
   "codemirror_mode": {
    "name": "ipython",
    "version": 3
   },
   "file_extension": ".py",
   "mimetype": "text/x-python",
   "name": "python",
   "nbconvert_exporter": "python",
   "pygments_lexer": "ipython3",
   "version": "3.12.2"
  }
 },
 "nbformat": 4,
 "nbformat_minor": 5
}
