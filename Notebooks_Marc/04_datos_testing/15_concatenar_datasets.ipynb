{
 "cells": [
  {
   "cell_type": "markdown",
   "id": "d62c183e-a39c-43f9-97f1-e0209f99606e",
   "metadata": {},
   "source": [
    "# 15: CONCATENAR TABLAS"
   ]
  },
  {
   "cell_type": "markdown",
   "id": "270a8bbe-6ca0-46e7-be61-e1715a28aba9",
   "metadata": {},
   "source": [
    "##### A veces nos podemos encontrar con que tenemos distintas tablas que necesitamos juntar, ya sea a través de una columna común en todas las tablas, o añadiendo todas las filas debajo si los datos de ambos datasets tienen las mismas columnas"
   ]
  },
  {
   "cell_type": "code",
   "execution_count": 1,
   "id": "59438e5a-5ebb-407c-b154-16969f9b89dc",
   "metadata": {},
   "outputs": [],
   "source": [
    "import pandas as pd\n",
    "import numpy as np\n",
    "import os"
   ]
  },
  {
   "cell_type": "markdown",
   "id": "5954bfa2-639f-4171-86ed-3588e22a5582",
   "metadata": {},
   "source": [
    "### Concatenar dataframes"
   ]
  },
  {
   "cell_type": "markdown",
   "id": "eafb8bc7-30b5-40d3-a3dc-7e4e489d8880",
   "metadata": {},
   "source": [
    "La concatenación de dataframes se da cuando dos o más dataframes contienen las mismas columnas, és decir, la información que contienen es la misma, pero por razones determinadas, estos dataframes están separados. Por ejemplo, tenemos dos dataframes que contienen las mismas columnas, la diferencia entre estos dos datasets está en que uno tiene información sobre vinos blancos y otro sobre vinos rojos. De este modo, mediante la concatenación, podemos juntar ambos dataframes para crear uno que contenga ambos tipos de vinos."
   ]
  },
  {
   "cell_type": "code",
   "execution_count": 14,
   "id": "9854c6c0-ed45-4e48-98b1-814f74556888",
   "metadata": {},
   "outputs": [],
   "source": [
    "# Cargamos el dataset de vino blanco\n",
    "\n",
    "raiz = r\"C:\\Users\\Usuario\\Documents\\05_Formación_Académica\\Marc\\Data_Science\\machine_learning\\Recursos_curso\\datasets\"\n",
    "white = r\"wine\\winequality-white.csv\"\n",
    "red = r\"wine\\winequality-red.csv\"\n",
    "ruta_white = os.path.join(raiz, white) \n",
    "data_white = pd.read_csv(ruta_white, sep = ';') # ponemos el separador ';' porque estos dataframes vienen separados asi\n",
    "ruta_red = os.path.join(raiz, red) \n",
    "data_red = pd.read_csv(ruta_red, sep = ';')"
   ]
  },
  {
   "cell_type": "code",
   "execution_count": 9,
   "id": "4fc67c2a-5ab5-4970-894a-493aad8d2a83",
   "metadata": {},
   "outputs": [],
   "source": [
    "# Comprobamos las columnas del vino rojo\n",
    "\n",
    "columnas_red = data_red.columns.values.tolist()"
   ]
  },
  {
   "cell_type": "code",
   "execution_count": 12,
   "id": "08edae3b-b80b-4d8b-87c2-3a4f53869b22",
   "metadata": {},
   "outputs": [],
   "source": [
    "# Y las del vino blanco\n",
    "\n",
    "columnas_white = data_white.columns.values.tolist()"
   ]
  },
  {
   "cell_type": "code",
   "execution_count": 13,
   "id": "f04c186b-dfb2-4da9-b5e9-9f686546bb9b",
   "metadata": {},
   "outputs": [
    {
     "data": {
      "text/plain": [
       "True"
      ]
     },
     "execution_count": 13,
     "metadata": {},
     "output_type": "execute_result"
    }
   ],
   "source": [
    "# Comporbamos si son las mismas columnas\n",
    "\n",
    "columnas_red == columnas_white"
   ]
  },
  {
   "cell_type": "markdown",
   "id": "f40cc031-3d29-41c1-a1d5-40e8a52283bc",
   "metadata": {},
   "source": [
    "Como podemos ver, ambos dataframes tienen las mismas columnas, por lo que podemos concatenarlos"
   ]
  },
  {
   "cell_type": "markdown",
   "id": "bbb71959-aa6c-4c00-97dc-6d9b33604def",
   "metadata": {},
   "source": [
    "### Concatenar a través de las columnas (un dataframe encima del otro)"
   ]
  },
  {
   "cell_type": "code",
   "execution_count": 15,
   "id": "bc235879-6b6c-4af2-920f-e84712c03044",
   "metadata": {},
   "outputs": [],
   "source": [
    "# Concatenamos ambos dataframes uno encima del otro\n",
    "\n",
    "wine = pd.concat([data_red, data_white], # se ha de pasar los dataframes que queremos concatenar como lista, arriba va red, debajo white\n",
    "                 axis = 0) # axis = 0 significa que vamos a juntar por columnas, es decir, un dataframe encima del otro"
   ]
  },
  {
   "cell_type": "code",
   "execution_count": 16,
   "id": "12766616-a425-41ff-861f-24af7ec4fd4b",
   "metadata": {},
   "outputs": [
    {
     "data": {
      "text/html": [
       "<div>\n",
       "<style scoped>\n",
       "    .dataframe tbody tr th:only-of-type {\n",
       "        vertical-align: middle;\n",
       "    }\n",
       "\n",
       "    .dataframe tbody tr th {\n",
       "        vertical-align: top;\n",
       "    }\n",
       "\n",
       "    .dataframe thead th {\n",
       "        text-align: right;\n",
       "    }\n",
       "</style>\n",
       "<table border=\"1\" class=\"dataframe\">\n",
       "  <thead>\n",
       "    <tr style=\"text-align: right;\">\n",
       "      <th></th>\n",
       "      <th>fixed acidity</th>\n",
       "      <th>volatile acidity</th>\n",
       "      <th>citric acid</th>\n",
       "      <th>residual sugar</th>\n",
       "      <th>chlorides</th>\n",
       "      <th>free sulfur dioxide</th>\n",
       "      <th>total sulfur dioxide</th>\n",
       "      <th>density</th>\n",
       "      <th>pH</th>\n",
       "      <th>sulphates</th>\n",
       "      <th>alcohol</th>\n",
       "      <th>quality</th>\n",
       "    </tr>\n",
       "  </thead>\n",
       "  <tbody>\n",
       "    <tr>\n",
       "      <th>0</th>\n",
       "      <td>7.4</td>\n",
       "      <td>0.70</td>\n",
       "      <td>0.00</td>\n",
       "      <td>1.9</td>\n",
       "      <td>0.076</td>\n",
       "      <td>11.0</td>\n",
       "      <td>34.0</td>\n",
       "      <td>0.9978</td>\n",
       "      <td>3.51</td>\n",
       "      <td>0.56</td>\n",
       "      <td>9.4</td>\n",
       "      <td>5</td>\n",
       "    </tr>\n",
       "    <tr>\n",
       "      <th>1</th>\n",
       "      <td>7.8</td>\n",
       "      <td>0.88</td>\n",
       "      <td>0.00</td>\n",
       "      <td>2.6</td>\n",
       "      <td>0.098</td>\n",
       "      <td>25.0</td>\n",
       "      <td>67.0</td>\n",
       "      <td>0.9968</td>\n",
       "      <td>3.20</td>\n",
       "      <td>0.68</td>\n",
       "      <td>9.8</td>\n",
       "      <td>5</td>\n",
       "    </tr>\n",
       "    <tr>\n",
       "      <th>2</th>\n",
       "      <td>7.8</td>\n",
       "      <td>0.76</td>\n",
       "      <td>0.04</td>\n",
       "      <td>2.3</td>\n",
       "      <td>0.092</td>\n",
       "      <td>15.0</td>\n",
       "      <td>54.0</td>\n",
       "      <td>0.9970</td>\n",
       "      <td>3.26</td>\n",
       "      <td>0.65</td>\n",
       "      <td>9.8</td>\n",
       "      <td>5</td>\n",
       "    </tr>\n",
       "    <tr>\n",
       "      <th>3</th>\n",
       "      <td>11.2</td>\n",
       "      <td>0.28</td>\n",
       "      <td>0.56</td>\n",
       "      <td>1.9</td>\n",
       "      <td>0.075</td>\n",
       "      <td>17.0</td>\n",
       "      <td>60.0</td>\n",
       "      <td>0.9980</td>\n",
       "      <td>3.16</td>\n",
       "      <td>0.58</td>\n",
       "      <td>9.8</td>\n",
       "      <td>6</td>\n",
       "    </tr>\n",
       "    <tr>\n",
       "      <th>4</th>\n",
       "      <td>7.4</td>\n",
       "      <td>0.70</td>\n",
       "      <td>0.00</td>\n",
       "      <td>1.9</td>\n",
       "      <td>0.076</td>\n",
       "      <td>11.0</td>\n",
       "      <td>34.0</td>\n",
       "      <td>0.9978</td>\n",
       "      <td>3.51</td>\n",
       "      <td>0.56</td>\n",
       "      <td>9.4</td>\n",
       "      <td>5</td>\n",
       "    </tr>\n",
       "  </tbody>\n",
       "</table>\n",
       "</div>"
      ],
      "text/plain": [
       "   fixed acidity  volatile acidity  citric acid  residual sugar  chlorides  \\\n",
       "0            7.4              0.70         0.00             1.9      0.076   \n",
       "1            7.8              0.88         0.00             2.6      0.098   \n",
       "2            7.8              0.76         0.04             2.3      0.092   \n",
       "3           11.2              0.28         0.56             1.9      0.075   \n",
       "4            7.4              0.70         0.00             1.9      0.076   \n",
       "\n",
       "   free sulfur dioxide  total sulfur dioxide  density    pH  sulphates  \\\n",
       "0                 11.0                  34.0   0.9978  3.51       0.56   \n",
       "1                 25.0                  67.0   0.9968  3.20       0.68   \n",
       "2                 15.0                  54.0   0.9970  3.26       0.65   \n",
       "3                 17.0                  60.0   0.9980  3.16       0.58   \n",
       "4                 11.0                  34.0   0.9978  3.51       0.56   \n",
       "\n",
       "   alcohol  quality  \n",
       "0      9.4        5  \n",
       "1      9.8        5  \n",
       "2      9.8        5  \n",
       "3      9.8        6  \n",
       "4      9.4        5  "
      ]
     },
     "execution_count": 16,
     "metadata": {},
     "output_type": "execute_result"
    }
   ],
   "source": [
    "wine.head()"
   ]
  },
  {
   "cell_type": "code",
   "execution_count": 29,
   "id": "aa35bce0-b871-4a1b-94fc-427475ba3a9f",
   "metadata": {},
   "outputs": [
    {
     "name": "stdout",
     "output_type": "stream",
     "text": [
      "Mientras que el dataset de vino rojo tiene 1599 filas y la del vino blanco tiene 4898 filas,el nuevo dataframe concatenado tiene 6497 filas.\n"
     ]
    }
   ],
   "source": [
    "print(f'Mientras que el dataset de vino rojo tiene {data_red.shape[0]} filas y la del vino blanco tiene {data_white.shape[0]} filas,' +\n",
    "f'el nuevo dataframe concatenado tiene {wine.shape[0]} filas.')"
   ]
  },
  {
   "cell_type": "markdown",
   "id": "d497fefd-7987-4002-a344-dad1f52fa2e9",
   "metadata": {},
   "source": [
    "### Concatenar a través de las filas (un datafram al lado del otro)"
   ]
  },
  {
   "cell_type": "code",
   "execution_count": 31,
   "id": "829ed905-6740-451e-8f05-5e073945c3aa",
   "metadata": {},
   "outputs": [],
   "source": [
    "# Concatenar a través de las filas, es decir, un dataframe al lado del otro\n",
    "\n",
    "new_wine = pd.concat([data_red, data_white], \n",
    "                     axis = 1) # esto va a unir los datasets uno al lado del otro"
   ]
  },
  {
   "cell_type": "code",
   "execution_count": 32,
   "id": "aab5a52a-ef17-4aea-8a32-589efe4a6703",
   "metadata": {},
   "outputs": [
    {
     "data": {
      "text/html": [
       "<div>\n",
       "<style scoped>\n",
       "    .dataframe tbody tr th:only-of-type {\n",
       "        vertical-align: middle;\n",
       "    }\n",
       "\n",
       "    .dataframe tbody tr th {\n",
       "        vertical-align: top;\n",
       "    }\n",
       "\n",
       "    .dataframe thead th {\n",
       "        text-align: right;\n",
       "    }\n",
       "</style>\n",
       "<table border=\"1\" class=\"dataframe\">\n",
       "  <thead>\n",
       "    <tr style=\"text-align: right;\">\n",
       "      <th></th>\n",
       "      <th>fixed acidity</th>\n",
       "      <th>volatile acidity</th>\n",
       "      <th>citric acid</th>\n",
       "      <th>residual sugar</th>\n",
       "      <th>chlorides</th>\n",
       "      <th>free sulfur dioxide</th>\n",
       "      <th>total sulfur dioxide</th>\n",
       "      <th>density</th>\n",
       "      <th>pH</th>\n",
       "      <th>sulphates</th>\n",
       "      <th>...</th>\n",
       "      <th>citric acid</th>\n",
       "      <th>residual sugar</th>\n",
       "      <th>chlorides</th>\n",
       "      <th>free sulfur dioxide</th>\n",
       "      <th>total sulfur dioxide</th>\n",
       "      <th>density</th>\n",
       "      <th>pH</th>\n",
       "      <th>sulphates</th>\n",
       "      <th>alcohol</th>\n",
       "      <th>quality</th>\n",
       "    </tr>\n",
       "  </thead>\n",
       "  <tbody>\n",
       "    <tr>\n",
       "      <th>0</th>\n",
       "      <td>7.4</td>\n",
       "      <td>0.70</td>\n",
       "      <td>0.00</td>\n",
       "      <td>1.9</td>\n",
       "      <td>0.076</td>\n",
       "      <td>11.0</td>\n",
       "      <td>34.0</td>\n",
       "      <td>0.9978</td>\n",
       "      <td>3.51</td>\n",
       "      <td>0.56</td>\n",
       "      <td>...</td>\n",
       "      <td>0.36</td>\n",
       "      <td>20.7</td>\n",
       "      <td>0.045</td>\n",
       "      <td>45.0</td>\n",
       "      <td>170.0</td>\n",
       "      <td>1.0010</td>\n",
       "      <td>3.00</td>\n",
       "      <td>0.45</td>\n",
       "      <td>8.8</td>\n",
       "      <td>6</td>\n",
       "    </tr>\n",
       "    <tr>\n",
       "      <th>1</th>\n",
       "      <td>7.8</td>\n",
       "      <td>0.88</td>\n",
       "      <td>0.00</td>\n",
       "      <td>2.6</td>\n",
       "      <td>0.098</td>\n",
       "      <td>25.0</td>\n",
       "      <td>67.0</td>\n",
       "      <td>0.9968</td>\n",
       "      <td>3.20</td>\n",
       "      <td>0.68</td>\n",
       "      <td>...</td>\n",
       "      <td>0.34</td>\n",
       "      <td>1.6</td>\n",
       "      <td>0.049</td>\n",
       "      <td>14.0</td>\n",
       "      <td>132.0</td>\n",
       "      <td>0.9940</td>\n",
       "      <td>3.30</td>\n",
       "      <td>0.49</td>\n",
       "      <td>9.5</td>\n",
       "      <td>6</td>\n",
       "    </tr>\n",
       "    <tr>\n",
       "      <th>2</th>\n",
       "      <td>7.8</td>\n",
       "      <td>0.76</td>\n",
       "      <td>0.04</td>\n",
       "      <td>2.3</td>\n",
       "      <td>0.092</td>\n",
       "      <td>15.0</td>\n",
       "      <td>54.0</td>\n",
       "      <td>0.9970</td>\n",
       "      <td>3.26</td>\n",
       "      <td>0.65</td>\n",
       "      <td>...</td>\n",
       "      <td>0.40</td>\n",
       "      <td>6.9</td>\n",
       "      <td>0.050</td>\n",
       "      <td>30.0</td>\n",
       "      <td>97.0</td>\n",
       "      <td>0.9951</td>\n",
       "      <td>3.26</td>\n",
       "      <td>0.44</td>\n",
       "      <td>10.1</td>\n",
       "      <td>6</td>\n",
       "    </tr>\n",
       "    <tr>\n",
       "      <th>3</th>\n",
       "      <td>11.2</td>\n",
       "      <td>0.28</td>\n",
       "      <td>0.56</td>\n",
       "      <td>1.9</td>\n",
       "      <td>0.075</td>\n",
       "      <td>17.0</td>\n",
       "      <td>60.0</td>\n",
       "      <td>0.9980</td>\n",
       "      <td>3.16</td>\n",
       "      <td>0.58</td>\n",
       "      <td>...</td>\n",
       "      <td>0.32</td>\n",
       "      <td>8.5</td>\n",
       "      <td>0.058</td>\n",
       "      <td>47.0</td>\n",
       "      <td>186.0</td>\n",
       "      <td>0.9956</td>\n",
       "      <td>3.19</td>\n",
       "      <td>0.40</td>\n",
       "      <td>9.9</td>\n",
       "      <td>6</td>\n",
       "    </tr>\n",
       "    <tr>\n",
       "      <th>4</th>\n",
       "      <td>7.4</td>\n",
       "      <td>0.70</td>\n",
       "      <td>0.00</td>\n",
       "      <td>1.9</td>\n",
       "      <td>0.076</td>\n",
       "      <td>11.0</td>\n",
       "      <td>34.0</td>\n",
       "      <td>0.9978</td>\n",
       "      <td>3.51</td>\n",
       "      <td>0.56</td>\n",
       "      <td>...</td>\n",
       "      <td>0.32</td>\n",
       "      <td>8.5</td>\n",
       "      <td>0.058</td>\n",
       "      <td>47.0</td>\n",
       "      <td>186.0</td>\n",
       "      <td>0.9956</td>\n",
       "      <td>3.19</td>\n",
       "      <td>0.40</td>\n",
       "      <td>9.9</td>\n",
       "      <td>6</td>\n",
       "    </tr>\n",
       "  </tbody>\n",
       "</table>\n",
       "<p>5 rows × 24 columns</p>\n",
       "</div>"
      ],
      "text/plain": [
       "   fixed acidity  volatile acidity  citric acid  residual sugar  chlorides  \\\n",
       "0            7.4              0.70         0.00             1.9      0.076   \n",
       "1            7.8              0.88         0.00             2.6      0.098   \n",
       "2            7.8              0.76         0.04             2.3      0.092   \n",
       "3           11.2              0.28         0.56             1.9      0.075   \n",
       "4            7.4              0.70         0.00             1.9      0.076   \n",
       "\n",
       "   free sulfur dioxide  total sulfur dioxide  density    pH  sulphates  ...  \\\n",
       "0                 11.0                  34.0   0.9978  3.51       0.56  ...   \n",
       "1                 25.0                  67.0   0.9968  3.20       0.68  ...   \n",
       "2                 15.0                  54.0   0.9970  3.26       0.65  ...   \n",
       "3                 17.0                  60.0   0.9980  3.16       0.58  ...   \n",
       "4                 11.0                  34.0   0.9978  3.51       0.56  ...   \n",
       "\n",
       "   citric acid  residual sugar  chlorides  free sulfur dioxide  \\\n",
       "0         0.36            20.7      0.045                 45.0   \n",
       "1         0.34             1.6      0.049                 14.0   \n",
       "2         0.40             6.9      0.050                 30.0   \n",
       "3         0.32             8.5      0.058                 47.0   \n",
       "4         0.32             8.5      0.058                 47.0   \n",
       "\n",
       "   total sulfur dioxide  density    pH  sulphates  alcohol  quality  \n",
       "0                 170.0   1.0010  3.00       0.45      8.8        6  \n",
       "1                 132.0   0.9940  3.30       0.49      9.5        6  \n",
       "2                  97.0   0.9951  3.26       0.44     10.1        6  \n",
       "3                 186.0   0.9956  3.19       0.40      9.9        6  \n",
       "4                 186.0   0.9956  3.19       0.40      9.9        6  \n",
       "\n",
       "[5 rows x 24 columns]"
      ]
     },
     "execution_count": 32,
     "metadata": {},
     "output_type": "execute_result"
    }
   ],
   "source": [
    "new_wine.head()"
   ]
  },
  {
   "cell_type": "code",
   "execution_count": 33,
   "id": "fbec1462-b2b8-4e09-9773-81db9f88b006",
   "metadata": {},
   "outputs": [
    {
     "name": "stdout",
     "output_type": "stream",
     "text": [
      "La dimensión del dataframe si concatenamos ambos datasets uno encima de otro es: (6497, 12)\n",
      "La dimensión del dataframe si concatenamos ambos datasets uno al lado del otro es: (4898, 24)\n"
     ]
    }
   ],
   "source": [
    "print(f'La dimensión del dataframe si concatenamos ambos datasets uno encima de otro es: {wine.shape}')\n",
    "print(f'La dimensión del dataframe si concatenamos ambos datasets uno al lado del otro es: {new_wine.shape}')"
   ]
  },
  {
   "cell_type": "markdown",
   "id": "94b443ec-da01-43dc-a6e2-ff50c76f496e",
   "metadata": {},
   "source": [
    "### Concatenar múltiples dataframes"
   ]
  },
  {
   "cell_type": "markdown",
   "id": "e1d239f4-96af-4fce-85f7-4beba870a863",
   "metadata": {},
   "source": [
    "Tenemos un directorio que contiene 300 dataframes diferentes con las mismas columnas que queremos concatenar uno encima del otro. Lo primero que hay que hacer es cargar todos los ficheros que tenemos que concatenar."
   ]
  },
  {
   "cell_type": "code",
   "execution_count": 56,
   "id": "e12c7a9b-e712-46df-adbc-da6ccd17da3f",
   "metadata": {},
   "outputs": [
    {
     "data": {
      "text/plain": [
       "['001.csv',\n",
       " '002.csv',\n",
       " '003.csv',\n",
       " '004.csv',\n",
       " '005.csv',\n",
       " '006.csv',\n",
       " '007.csv',\n",
       " '008.csv',\n",
       " '009.csv',\n",
       " '010.csv',\n",
       " '011.csv']"
      ]
     },
     "execution_count": 56,
     "metadata": {},
     "output_type": "execute_result"
    }
   ],
   "source": [
    "# Comprobamos que ficheros tenemos en el directorio\n",
    "\n",
    "raiz = r\"C:\\Users\\Usuario\\Documents\\05_Formación_Académica\\Marc\\Data_Science\\machine_learning\\Recursos_curso\\datasets\"\n",
    "directorio = r\"distributed-data\"\n",
    "path = os.path.join(raiz, directorio) \n",
    "\n",
    "all_files = (os.listdir(path)) # esa línea devuelve una lista de todos los ficheros de un directorio\n",
    "all_files[0:11]"
   ]
  },
  {
   "cell_type": "code",
   "execution_count": 38,
   "id": "433003ab-74d3-4719-9c94-30ea2c1b1cf9",
   "metadata": {},
   "outputs": [],
   "source": [
    "# Cargamos un dataframe sobre el que iremos concatenando\n",
    "\n",
    "data = pd.read_csv(os.path.join(raiz, directorio, all_files[0]))"
   ]
  },
  {
   "cell_type": "code",
   "execution_count": 39,
   "id": "af9c7bdb-01f4-4f7f-8f77-8e36d4ccdd8e",
   "metadata": {},
   "outputs": [
    {
     "data": {
      "text/html": [
       "<div>\n",
       "<style scoped>\n",
       "    .dataframe tbody tr th:only-of-type {\n",
       "        vertical-align: middle;\n",
       "    }\n",
       "\n",
       "    .dataframe tbody tr th {\n",
       "        vertical-align: top;\n",
       "    }\n",
       "\n",
       "    .dataframe thead th {\n",
       "        text-align: right;\n",
       "    }\n",
       "</style>\n",
       "<table border=\"1\" class=\"dataframe\">\n",
       "  <thead>\n",
       "    <tr style=\"text-align: right;\">\n",
       "      <th></th>\n",
       "      <th>Date</th>\n",
       "      <th>sulfate</th>\n",
       "      <th>nitrate</th>\n",
       "      <th>ID</th>\n",
       "    </tr>\n",
       "  </thead>\n",
       "  <tbody>\n",
       "    <tr>\n",
       "      <th>0</th>\n",
       "      <td>2003-01-01</td>\n",
       "      <td>NaN</td>\n",
       "      <td>NaN</td>\n",
       "      <td>1</td>\n",
       "    </tr>\n",
       "    <tr>\n",
       "      <th>1</th>\n",
       "      <td>2003-01-02</td>\n",
       "      <td>NaN</td>\n",
       "      <td>NaN</td>\n",
       "      <td>1</td>\n",
       "    </tr>\n",
       "    <tr>\n",
       "      <th>2</th>\n",
       "      <td>2003-01-03</td>\n",
       "      <td>NaN</td>\n",
       "      <td>NaN</td>\n",
       "      <td>1</td>\n",
       "    </tr>\n",
       "    <tr>\n",
       "      <th>3</th>\n",
       "      <td>2003-01-04</td>\n",
       "      <td>NaN</td>\n",
       "      <td>NaN</td>\n",
       "      <td>1</td>\n",
       "    </tr>\n",
       "    <tr>\n",
       "      <th>4</th>\n",
       "      <td>2003-01-05</td>\n",
       "      <td>NaN</td>\n",
       "      <td>NaN</td>\n",
       "      <td>1</td>\n",
       "    </tr>\n",
       "  </tbody>\n",
       "</table>\n",
       "</div>"
      ],
      "text/plain": [
       "         Date  sulfate  nitrate  ID\n",
       "0  2003-01-01      NaN      NaN   1\n",
       "1  2003-01-02      NaN      NaN   1\n",
       "2  2003-01-03      NaN      NaN   1\n",
       "3  2003-01-04      NaN      NaN   1\n",
       "4  2003-01-05      NaN      NaN   1"
      ]
     },
     "execution_count": 39,
     "metadata": {},
     "output_type": "execute_result"
    }
   ],
   "source": [
    "data.head()"
   ]
  },
  {
   "cell_type": "code",
   "execution_count": 57,
   "id": "0b95590a-d340-4f0a-bd3e-872e1d6c483d",
   "metadata": {},
   "outputs": [],
   "source": [
    "# eliminamos el primer elemento ya que se ha utilizado para construir el dataframe\n",
    "\n",
    "all_files.remove(all_files[0]) "
   ]
  },
  {
   "cell_type": "code",
   "execution_count": 53,
   "id": "67f323dd-74be-425d-bd30-ee45cd4efeb1",
   "metadata": {},
   "outputs": [],
   "source": [
    "# Iniciamos un bucle para ir concatenando los dataframes\n",
    "\n",
    "for i in all_files:\n",
    "    transient_df = pd.read_csv(os.path.join(raiz, directorio, i))\n",
    "    data = pd.concat([data, transient_df], axis = 0)"
   ]
  },
  {
   "cell_type": "code",
   "execution_count": 58,
   "id": "5df7a1d0-10de-4287-8971-414e1c513dbb",
   "metadata": {},
   "outputs": [
    {
     "data": {
      "text/plain": [
       "(772087, 4)"
      ]
     },
     "execution_count": 58,
     "metadata": {},
     "output_type": "execute_result"
    }
   ],
   "source": [
    "# Comprobamos las dimensiones del nuevo dataframe\n",
    "\n",
    "data.shape"
   ]
  },
  {
   "cell_type": "code",
   "execution_count": 59,
   "id": "37bacd73-00df-405d-8fa3-0814f0949e99",
   "metadata": {},
   "outputs": [
    {
     "data": {
      "text/html": [
       "<div>\n",
       "<style scoped>\n",
       "    .dataframe tbody tr th:only-of-type {\n",
       "        vertical-align: middle;\n",
       "    }\n",
       "\n",
       "    .dataframe tbody tr th {\n",
       "        vertical-align: top;\n",
       "    }\n",
       "\n",
       "    .dataframe thead th {\n",
       "        text-align: right;\n",
       "    }\n",
       "</style>\n",
       "<table border=\"1\" class=\"dataframe\">\n",
       "  <thead>\n",
       "    <tr style=\"text-align: right;\">\n",
       "      <th></th>\n",
       "      <th>Date</th>\n",
       "      <th>sulfate</th>\n",
       "      <th>nitrate</th>\n",
       "      <th>ID</th>\n",
       "    </tr>\n",
       "  </thead>\n",
       "  <tbody>\n",
       "    <tr>\n",
       "      <th>0</th>\n",
       "      <td>2003-01-01</td>\n",
       "      <td>NaN</td>\n",
       "      <td>NaN</td>\n",
       "      <td>1</td>\n",
       "    </tr>\n",
       "    <tr>\n",
       "      <th>1</th>\n",
       "      <td>2003-01-02</td>\n",
       "      <td>NaN</td>\n",
       "      <td>NaN</td>\n",
       "      <td>1</td>\n",
       "    </tr>\n",
       "    <tr>\n",
       "      <th>2</th>\n",
       "      <td>2003-01-03</td>\n",
       "      <td>NaN</td>\n",
       "      <td>NaN</td>\n",
       "      <td>1</td>\n",
       "    </tr>\n",
       "    <tr>\n",
       "      <th>3</th>\n",
       "      <td>2003-01-04</td>\n",
       "      <td>NaN</td>\n",
       "      <td>NaN</td>\n",
       "      <td>1</td>\n",
       "    </tr>\n",
       "    <tr>\n",
       "      <th>4</th>\n",
       "      <td>2003-01-05</td>\n",
       "      <td>NaN</td>\n",
       "      <td>NaN</td>\n",
       "      <td>1</td>\n",
       "    </tr>\n",
       "  </tbody>\n",
       "</table>\n",
       "</div>"
      ],
      "text/plain": [
       "         Date  sulfate  nitrate  ID\n",
       "0  2003-01-01      NaN      NaN   1\n",
       "1  2003-01-02      NaN      NaN   1\n",
       "2  2003-01-03      NaN      NaN   1\n",
       "3  2003-01-04      NaN      NaN   1\n",
       "4  2003-01-05      NaN      NaN   1"
      ]
     },
     "execution_count": 59,
     "metadata": {},
     "output_type": "execute_result"
    }
   ],
   "source": [
    "data.head()"
   ]
  },
  {
   "cell_type": "code",
   "execution_count": 60,
   "id": "6a427ce2-c5a2-471a-a07f-739a840d8d73",
   "metadata": {},
   "outputs": [
    {
     "data": {
      "text/html": [
       "<div>\n",
       "<style scoped>\n",
       "    .dataframe tbody tr th:only-of-type {\n",
       "        vertical-align: middle;\n",
       "    }\n",
       "\n",
       "    .dataframe tbody tr th {\n",
       "        vertical-align: top;\n",
       "    }\n",
       "\n",
       "    .dataframe thead th {\n",
       "        text-align: right;\n",
       "    }\n",
       "</style>\n",
       "<table border=\"1\" class=\"dataframe\">\n",
       "  <thead>\n",
       "    <tr style=\"text-align: right;\">\n",
       "      <th></th>\n",
       "      <th>Date</th>\n",
       "      <th>sulfate</th>\n",
       "      <th>nitrate</th>\n",
       "      <th>ID</th>\n",
       "    </tr>\n",
       "  </thead>\n",
       "  <tbody>\n",
       "    <tr>\n",
       "      <th>726</th>\n",
       "      <td>2004-12-27</td>\n",
       "      <td>NaN</td>\n",
       "      <td>NaN</td>\n",
       "      <td>332</td>\n",
       "    </tr>\n",
       "    <tr>\n",
       "      <th>727</th>\n",
       "      <td>2004-12-28</td>\n",
       "      <td>NaN</td>\n",
       "      <td>NaN</td>\n",
       "      <td>332</td>\n",
       "    </tr>\n",
       "    <tr>\n",
       "      <th>728</th>\n",
       "      <td>2004-12-29</td>\n",
       "      <td>NaN</td>\n",
       "      <td>NaN</td>\n",
       "      <td>332</td>\n",
       "    </tr>\n",
       "    <tr>\n",
       "      <th>729</th>\n",
       "      <td>2004-12-30</td>\n",
       "      <td>NaN</td>\n",
       "      <td>NaN</td>\n",
       "      <td>332</td>\n",
       "    </tr>\n",
       "    <tr>\n",
       "      <th>730</th>\n",
       "      <td>2004-12-31</td>\n",
       "      <td>NaN</td>\n",
       "      <td>NaN</td>\n",
       "      <td>332</td>\n",
       "    </tr>\n",
       "  </tbody>\n",
       "</table>\n",
       "</div>"
      ],
      "text/plain": [
       "           Date  sulfate  nitrate   ID\n",
       "726  2004-12-27      NaN      NaN  332\n",
       "727  2004-12-28      NaN      NaN  332\n",
       "728  2004-12-29      NaN      NaN  332\n",
       "729  2004-12-30      NaN      NaN  332\n",
       "730  2004-12-31      NaN      NaN  332"
      ]
     },
     "execution_count": 60,
     "metadata": {},
     "output_type": "execute_result"
    }
   ],
   "source": [
    "data.tail()"
   ]
  },
  {
   "cell_type": "code",
   "execution_count": null,
   "id": "8b022aa3-d595-4094-a884-6d9d05a9c71a",
   "metadata": {},
   "outputs": [],
   "source": []
  }
 ],
 "metadata": {
  "kernelspec": {
   "display_name": "Python 3 (ipykernel)",
   "language": "python",
   "name": "python3"
  },
  "language_info": {
   "codemirror_mode": {
    "name": "ipython",
    "version": 3
   },
   "file_extension": ".py",
   "mimetype": "text/x-python",
   "name": "python",
   "nbconvert_exporter": "python",
   "pygments_lexer": "ipython3",
   "version": "3.12.2"
  }
 },
 "nbformat": 4,
 "nbformat_minor": 5
}
