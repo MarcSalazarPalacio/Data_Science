{
 "cells": [
  {
   "cell_type": "markdown",
   "id": "bb46e824-0a85-4765-aeb6-8157bb65a3d1",
   "metadata": {},
   "source": [
    "# 14: CONJUNTOS DE ENTRENAMIENTO Y CONJUNTOS DE TESTING"
   ]
  },
  {
   "cell_type": "markdown",
   "id": "b017272d-8505-4f6d-930e-53ea8cde82ce",
   "metadata": {},
   "source": [
    "##### Para construir un modelo se necesita dividir el dataset en 2. Esta division debe de ser al azar para evitar sesgos. De este modo, se ha de dividir el dataset cogiendo filas de diferentes localizaciones dentro el dataset.\n",
    "\n",
    "##### - Conjunto de entrenamiento: (75%-80%) se utiliza para crear el modelo\n",
    "\n",
    "##### - Conjunto de testing: (25%-20%) se utiliza para probar que el modelo funciona correctamente"
   ]
  },
  {
   "cell_type": "code",
   "execution_count": 3,
   "id": "8f7422b2-01e6-4ae7-be8c-d3437e623ed5",
   "metadata": {},
   "outputs": [],
   "source": [
    "# Importar las librerias\n",
    "\n",
    "import pandas as pd\n",
    "import os\n",
    "import numpy as np"
   ]
  },
  {
   "cell_type": "code",
   "execution_count": 2,
   "id": "f120bbef-f116-4ffd-a98a-e048af9c6996",
   "metadata": {},
   "outputs": [],
   "source": [
    "# Cargar el dataset\n",
    "\n",
    "raiz = r\"C:\\Users\\Usuario\\Documents\\05_Formación_Académica\\Marc\\Data_Science\\machine_learning\\Recursos_curso\\datasets\"\n",
    "fichero = r\"customer-churn-model\\Customer Churn Model.txt\"\n",
    "ruta = os.path.join(raiz, fichero) \n",
    "data = pd.read_csv(ruta)"
   ]
  },
  {
   "cell_type": "markdown",
   "id": "e36be5e4-c8a4-4b92-b680-47047e31ec97",
   "metadata": {},
   "source": [
    "### Método 1. Utilizando la distribución NORMAL"
   ]
  },
  {
   "cell_type": "code",
   "execution_count": 20,
   "id": "d0b39536-4bd5-4c6e-9070-3826e7747056",
   "metadata": {},
   "outputs": [],
   "source": [
    "# Generamos una lista de valores (np.array) con distribución NORMAL con tantos valores como filas tiene el dataset\n",
    "\n",
    "np.random.seed(39441890) # si establecemos una semilla será posible replicar este orden\n",
    "\n",
    "array = np.random.randn(len(data))"
   ]
  },
  {
   "cell_type": "code",
   "execution_count": 21,
   "id": "e4fcf2a7-480a-4309-8f16-7558aee957d5",
   "metadata": {},
   "outputs": [
    {
     "data": {
      "text/plain": [
       "array([-0.40550015,  0.02003424,  1.21748048, ..., -1.39048832,\n",
       "       -0.99409245,  0.53313615])"
      ]
     },
     "execution_count": 21,
     "metadata": {},
     "output_type": "execute_result"
    }
   ],
   "source": [
    "array"
   ]
  },
  {
   "cell_type": "code",
   "execution_count": 22,
   "id": "351566bc-a76e-4cff-8b0b-70bce80ba098",
   "metadata": {},
   "outputs": [],
   "source": [
    "# Generamosn un array con valores True o False en función de si el valor es superior o menor del pocentaje que queremos de training\n",
    "\n",
    "true_false = (array < 0.75) # queremos un 75% para training"
   ]
  },
  {
   "cell_type": "code",
   "execution_count": 23,
   "id": "c71e401d-04ab-41f9-bdec-23ae47d90d02",
   "metadata": {},
   "outputs": [
    {
     "data": {
      "text/plain": [
       "array([ True,  True, False, ...,  True,  True,  True])"
      ]
     },
     "execution_count": 23,
     "metadata": {},
     "output_type": "execute_result"
    }
   ],
   "source": [
    "true_false"
   ]
  },
  {
   "cell_type": "code",
   "execution_count": 24,
   "id": "89811bce-f73a-4491-986e-395951f7b297",
   "metadata": {},
   "outputs": [
    {
     "data": {
      "text/plain": [
       "2545"
      ]
     },
     "execution_count": 24,
     "metadata": {},
     "output_type": "execute_result"
    }
   ],
   "source": [
    "# Le pasamos el array de True y False al dataframe para quedarnos con aquellas filas que sean True\n",
    "\n",
    "training = data[true_false]\n",
    "len(training) # El nuevo dataset tiene 2545 filas, es decir, el 75% de las filas"
   ]
  },
  {
   "cell_type": "code",
   "execution_count": 27,
   "id": "b599b10f-4d72-40a0-898c-bff7694900af",
   "metadata": {},
   "outputs": [
    {
     "data": {
      "text/html": [
       "<div>\n",
       "<style scoped>\n",
       "    .dataframe tbody tr th:only-of-type {\n",
       "        vertical-align: middle;\n",
       "    }\n",
       "\n",
       "    .dataframe tbody tr th {\n",
       "        vertical-align: top;\n",
       "    }\n",
       "\n",
       "    .dataframe thead th {\n",
       "        text-align: right;\n",
       "    }\n",
       "</style>\n",
       "<table border=\"1\" class=\"dataframe\">\n",
       "  <thead>\n",
       "    <tr style=\"text-align: right;\">\n",
       "      <th></th>\n",
       "      <th>State</th>\n",
       "      <th>Account Length</th>\n",
       "      <th>Area Code</th>\n",
       "      <th>Phone</th>\n",
       "      <th>Int'l Plan</th>\n",
       "      <th>VMail Plan</th>\n",
       "      <th>VMail Message</th>\n",
       "      <th>Day Mins</th>\n",
       "      <th>Day Calls</th>\n",
       "      <th>Day Charge</th>\n",
       "      <th>...</th>\n",
       "      <th>Eve Calls</th>\n",
       "      <th>Eve Charge</th>\n",
       "      <th>Night Mins</th>\n",
       "      <th>Night Calls</th>\n",
       "      <th>Night Charge</th>\n",
       "      <th>Intl Mins</th>\n",
       "      <th>Intl Calls</th>\n",
       "      <th>Intl Charge</th>\n",
       "      <th>CustServ Calls</th>\n",
       "      <th>Churn?</th>\n",
       "    </tr>\n",
       "  </thead>\n",
       "  <tbody>\n",
       "    <tr>\n",
       "      <th>0</th>\n",
       "      <td>KS</td>\n",
       "      <td>128</td>\n",
       "      <td>415</td>\n",
       "      <td>382-4657</td>\n",
       "      <td>no</td>\n",
       "      <td>yes</td>\n",
       "      <td>25</td>\n",
       "      <td>265.1</td>\n",
       "      <td>110</td>\n",
       "      <td>45.07</td>\n",
       "      <td>...</td>\n",
       "      <td>99</td>\n",
       "      <td>16.78</td>\n",
       "      <td>244.7</td>\n",
       "      <td>91</td>\n",
       "      <td>11.01</td>\n",
       "      <td>10.0</td>\n",
       "      <td>3</td>\n",
       "      <td>2.70</td>\n",
       "      <td>1</td>\n",
       "      <td>False.</td>\n",
       "    </tr>\n",
       "    <tr>\n",
       "      <th>1</th>\n",
       "      <td>OH</td>\n",
       "      <td>107</td>\n",
       "      <td>415</td>\n",
       "      <td>371-7191</td>\n",
       "      <td>no</td>\n",
       "      <td>yes</td>\n",
       "      <td>26</td>\n",
       "      <td>161.6</td>\n",
       "      <td>123</td>\n",
       "      <td>27.47</td>\n",
       "      <td>...</td>\n",
       "      <td>103</td>\n",
       "      <td>16.62</td>\n",
       "      <td>254.4</td>\n",
       "      <td>103</td>\n",
       "      <td>11.45</td>\n",
       "      <td>13.7</td>\n",
       "      <td>3</td>\n",
       "      <td>3.70</td>\n",
       "      <td>1</td>\n",
       "      <td>False.</td>\n",
       "    </tr>\n",
       "    <tr>\n",
       "      <th>4</th>\n",
       "      <td>OK</td>\n",
       "      <td>75</td>\n",
       "      <td>415</td>\n",
       "      <td>330-6626</td>\n",
       "      <td>yes</td>\n",
       "      <td>no</td>\n",
       "      <td>0</td>\n",
       "      <td>166.7</td>\n",
       "      <td>113</td>\n",
       "      <td>28.34</td>\n",
       "      <td>...</td>\n",
       "      <td>122</td>\n",
       "      <td>12.61</td>\n",
       "      <td>186.9</td>\n",
       "      <td>121</td>\n",
       "      <td>8.41</td>\n",
       "      <td>10.1</td>\n",
       "      <td>3</td>\n",
       "      <td>2.73</td>\n",
       "      <td>3</td>\n",
       "      <td>False.</td>\n",
       "    </tr>\n",
       "    <tr>\n",
       "      <th>5</th>\n",
       "      <td>AL</td>\n",
       "      <td>118</td>\n",
       "      <td>510</td>\n",
       "      <td>391-8027</td>\n",
       "      <td>yes</td>\n",
       "      <td>no</td>\n",
       "      <td>0</td>\n",
       "      <td>223.4</td>\n",
       "      <td>98</td>\n",
       "      <td>37.98</td>\n",
       "      <td>...</td>\n",
       "      <td>101</td>\n",
       "      <td>18.75</td>\n",
       "      <td>203.9</td>\n",
       "      <td>118</td>\n",
       "      <td>9.18</td>\n",
       "      <td>6.3</td>\n",
       "      <td>6</td>\n",
       "      <td>1.70</td>\n",
       "      <td>0</td>\n",
       "      <td>False.</td>\n",
       "    </tr>\n",
       "    <tr>\n",
       "      <th>6</th>\n",
       "      <td>MA</td>\n",
       "      <td>121</td>\n",
       "      <td>510</td>\n",
       "      <td>355-9993</td>\n",
       "      <td>no</td>\n",
       "      <td>yes</td>\n",
       "      <td>24</td>\n",
       "      <td>218.2</td>\n",
       "      <td>88</td>\n",
       "      <td>37.09</td>\n",
       "      <td>...</td>\n",
       "      <td>108</td>\n",
       "      <td>29.62</td>\n",
       "      <td>212.6</td>\n",
       "      <td>118</td>\n",
       "      <td>9.57</td>\n",
       "      <td>7.5</td>\n",
       "      <td>7</td>\n",
       "      <td>2.03</td>\n",
       "      <td>3</td>\n",
       "      <td>False.</td>\n",
       "    </tr>\n",
       "  </tbody>\n",
       "</table>\n",
       "<p>5 rows × 21 columns</p>\n",
       "</div>"
      ],
      "text/plain": [
       "  State  Account Length  Area Code     Phone Int'l Plan VMail Plan  \\\n",
       "0    KS             128        415  382-4657         no        yes   \n",
       "1    OH             107        415  371-7191         no        yes   \n",
       "4    OK              75        415  330-6626        yes         no   \n",
       "5    AL             118        510  391-8027        yes         no   \n",
       "6    MA             121        510  355-9993         no        yes   \n",
       "\n",
       "   VMail Message  Day Mins  Day Calls  Day Charge  ...  Eve Calls  Eve Charge  \\\n",
       "0             25     265.1        110       45.07  ...         99       16.78   \n",
       "1             26     161.6        123       27.47  ...        103       16.62   \n",
       "4              0     166.7        113       28.34  ...        122       12.61   \n",
       "5              0     223.4         98       37.98  ...        101       18.75   \n",
       "6             24     218.2         88       37.09  ...        108       29.62   \n",
       "\n",
       "   Night Mins  Night Calls  Night Charge  Intl Mins  Intl Calls  Intl Charge  \\\n",
       "0       244.7           91         11.01       10.0           3         2.70   \n",
       "1       254.4          103         11.45       13.7           3         3.70   \n",
       "4       186.9          121          8.41       10.1           3         2.73   \n",
       "5       203.9          118          9.18        6.3           6         1.70   \n",
       "6       212.6          118          9.57        7.5           7         2.03   \n",
       "\n",
       "   CustServ Calls  Churn?  \n",
       "0               1  False.  \n",
       "1               1  False.  \n",
       "4               3  False.  \n",
       "5               0  False.  \n",
       "6               3  False.  \n",
       "\n",
       "[5 rows x 21 columns]"
      ]
     },
     "execution_count": 27,
     "metadata": {},
     "output_type": "execute_result"
    }
   ],
   "source": [
    "training.head()"
   ]
  },
  {
   "cell_type": "code",
   "execution_count": 25,
   "id": "ad8ae5cc-982d-4b98-8a05-abd7c52f45c2",
   "metadata": {},
   "outputs": [
    {
     "data": {
      "text/plain": [
       "788"
      ]
     },
     "execution_count": 25,
     "metadata": {},
     "output_type": "execute_result"
    }
   ],
   "source": [
    "# Hacemos lo mismo pero al contrario, es decir sacamos el de testing\n",
    "\n",
    "testing = data[~true_false] # si pasamos el '~' lo que nos devuelve es lo contrario\n",
    "len(testing) # esto nos devuelve 788 filas, el 25% de las filas"
   ]
  },
  {
   "cell_type": "code",
   "execution_count": 28,
   "id": "7244d924-f00d-4ab8-a1a3-b27a12f28de3",
   "metadata": {},
   "outputs": [
    {
     "data": {
      "text/html": [
       "<div>\n",
       "<style scoped>\n",
       "    .dataframe tbody tr th:only-of-type {\n",
       "        vertical-align: middle;\n",
       "    }\n",
       "\n",
       "    .dataframe tbody tr th {\n",
       "        vertical-align: top;\n",
       "    }\n",
       "\n",
       "    .dataframe thead th {\n",
       "        text-align: right;\n",
       "    }\n",
       "</style>\n",
       "<table border=\"1\" class=\"dataframe\">\n",
       "  <thead>\n",
       "    <tr style=\"text-align: right;\">\n",
       "      <th></th>\n",
       "      <th>State</th>\n",
       "      <th>Account Length</th>\n",
       "      <th>Area Code</th>\n",
       "      <th>Phone</th>\n",
       "      <th>Int'l Plan</th>\n",
       "      <th>VMail Plan</th>\n",
       "      <th>VMail Message</th>\n",
       "      <th>Day Mins</th>\n",
       "      <th>Day Calls</th>\n",
       "      <th>Day Charge</th>\n",
       "      <th>...</th>\n",
       "      <th>Eve Calls</th>\n",
       "      <th>Eve Charge</th>\n",
       "      <th>Night Mins</th>\n",
       "      <th>Night Calls</th>\n",
       "      <th>Night Charge</th>\n",
       "      <th>Intl Mins</th>\n",
       "      <th>Intl Calls</th>\n",
       "      <th>Intl Charge</th>\n",
       "      <th>CustServ Calls</th>\n",
       "      <th>Churn?</th>\n",
       "    </tr>\n",
       "  </thead>\n",
       "  <tbody>\n",
       "    <tr>\n",
       "      <th>2</th>\n",
       "      <td>NJ</td>\n",
       "      <td>137</td>\n",
       "      <td>415</td>\n",
       "      <td>358-1921</td>\n",
       "      <td>no</td>\n",
       "      <td>no</td>\n",
       "      <td>0</td>\n",
       "      <td>243.4</td>\n",
       "      <td>114</td>\n",
       "      <td>41.38</td>\n",
       "      <td>...</td>\n",
       "      <td>110</td>\n",
       "      <td>10.30</td>\n",
       "      <td>162.6</td>\n",
       "      <td>104</td>\n",
       "      <td>7.32</td>\n",
       "      <td>12.2</td>\n",
       "      <td>5</td>\n",
       "      <td>3.29</td>\n",
       "      <td>0</td>\n",
       "      <td>False.</td>\n",
       "    </tr>\n",
       "    <tr>\n",
       "      <th>3</th>\n",
       "      <td>OH</td>\n",
       "      <td>84</td>\n",
       "      <td>408</td>\n",
       "      <td>375-9999</td>\n",
       "      <td>yes</td>\n",
       "      <td>no</td>\n",
       "      <td>0</td>\n",
       "      <td>299.4</td>\n",
       "      <td>71</td>\n",
       "      <td>50.90</td>\n",
       "      <td>...</td>\n",
       "      <td>88</td>\n",
       "      <td>5.26</td>\n",
       "      <td>196.9</td>\n",
       "      <td>89</td>\n",
       "      <td>8.86</td>\n",
       "      <td>6.6</td>\n",
       "      <td>7</td>\n",
       "      <td>1.78</td>\n",
       "      <td>2</td>\n",
       "      <td>False.</td>\n",
       "    </tr>\n",
       "    <tr>\n",
       "      <th>22</th>\n",
       "      <td>AZ</td>\n",
       "      <td>130</td>\n",
       "      <td>415</td>\n",
       "      <td>358-1958</td>\n",
       "      <td>no</td>\n",
       "      <td>no</td>\n",
       "      <td>0</td>\n",
       "      <td>183.0</td>\n",
       "      <td>112</td>\n",
       "      <td>31.11</td>\n",
       "      <td>...</td>\n",
       "      <td>99</td>\n",
       "      <td>6.20</td>\n",
       "      <td>181.8</td>\n",
       "      <td>78</td>\n",
       "      <td>8.18</td>\n",
       "      <td>9.5</td>\n",
       "      <td>19</td>\n",
       "      <td>2.57</td>\n",
       "      <td>0</td>\n",
       "      <td>False.</td>\n",
       "    </tr>\n",
       "    <tr>\n",
       "      <th>25</th>\n",
       "      <td>NE</td>\n",
       "      <td>174</td>\n",
       "      <td>415</td>\n",
       "      <td>331-3698</td>\n",
       "      <td>no</td>\n",
       "      <td>no</td>\n",
       "      <td>0</td>\n",
       "      <td>124.3</td>\n",
       "      <td>76</td>\n",
       "      <td>21.13</td>\n",
       "      <td>...</td>\n",
       "      <td>112</td>\n",
       "      <td>23.55</td>\n",
       "      <td>250.7</td>\n",
       "      <td>115</td>\n",
       "      <td>11.28</td>\n",
       "      <td>15.5</td>\n",
       "      <td>5</td>\n",
       "      <td>4.19</td>\n",
       "      <td>3</td>\n",
       "      <td>False.</td>\n",
       "    </tr>\n",
       "    <tr>\n",
       "      <th>26</th>\n",
       "      <td>WY</td>\n",
       "      <td>57</td>\n",
       "      <td>408</td>\n",
       "      <td>357-3817</td>\n",
       "      <td>no</td>\n",
       "      <td>yes</td>\n",
       "      <td>39</td>\n",
       "      <td>213.0</td>\n",
       "      <td>115</td>\n",
       "      <td>36.21</td>\n",
       "      <td>...</td>\n",
       "      <td>112</td>\n",
       "      <td>16.24</td>\n",
       "      <td>182.7</td>\n",
       "      <td>115</td>\n",
       "      <td>8.22</td>\n",
       "      <td>9.5</td>\n",
       "      <td>3</td>\n",
       "      <td>2.57</td>\n",
       "      <td>0</td>\n",
       "      <td>False.</td>\n",
       "    </tr>\n",
       "  </tbody>\n",
       "</table>\n",
       "<p>5 rows × 21 columns</p>\n",
       "</div>"
      ],
      "text/plain": [
       "   State  Account Length  Area Code     Phone Int'l Plan VMail Plan  \\\n",
       "2     NJ             137        415  358-1921         no         no   \n",
       "3     OH              84        408  375-9999        yes         no   \n",
       "22    AZ             130        415  358-1958         no         no   \n",
       "25    NE             174        415  331-3698         no         no   \n",
       "26    WY              57        408  357-3817         no        yes   \n",
       "\n",
       "    VMail Message  Day Mins  Day Calls  Day Charge  ...  Eve Calls  \\\n",
       "2               0     243.4        114       41.38  ...        110   \n",
       "3               0     299.4         71       50.90  ...         88   \n",
       "22              0     183.0        112       31.11  ...         99   \n",
       "25              0     124.3         76       21.13  ...        112   \n",
       "26             39     213.0        115       36.21  ...        112   \n",
       "\n",
       "    Eve Charge  Night Mins  Night Calls  Night Charge  Intl Mins  Intl Calls  \\\n",
       "2        10.30       162.6          104          7.32       12.2           5   \n",
       "3         5.26       196.9           89          8.86        6.6           7   \n",
       "22        6.20       181.8           78          8.18        9.5          19   \n",
       "25       23.55       250.7          115         11.28       15.5           5   \n",
       "26       16.24       182.7          115          8.22        9.5           3   \n",
       "\n",
       "    Intl Charge  CustServ Calls  Churn?  \n",
       "2          3.29               0  False.  \n",
       "3          1.78               2  False.  \n",
       "22         2.57               0  False.  \n",
       "25         4.19               3  False.  \n",
       "26         2.57               0  False.  \n",
       "\n",
       "[5 rows x 21 columns]"
      ]
     },
     "execution_count": 28,
     "metadata": {},
     "output_type": "execute_result"
    }
   ],
   "source": [
    "testing.head()"
   ]
  },
  {
   "cell_type": "markdown",
   "id": "ef2722b6-cddd-49d6-8137-8f4b7977b323",
   "metadata": {},
   "source": [
    "### Método 2. Usando la libreria SKLEARN"
   ]
  },
  {
   "cell_type": "code",
   "execution_count": 31,
   "id": "893e4e24-074e-42ec-853b-00529191610f",
   "metadata": {},
   "outputs": [],
   "source": [
    "# Importamos la libreria sklearn.model_selection\n",
    "\n",
    "import sklearn.model_selection as skselection"
   ]
  },
  {
   "cell_type": "code",
   "execution_count": 32,
   "id": "f0e1d72d-b27f-4ee1-b6eb-d7e8c7660810",
   "metadata": {},
   "outputs": [],
   "source": [
    "# Generamos de forma aleatoria la partición. En este caso, NO se puede establecer una semilla\n",
    "\n",
    "entreno, test = skselection.train_test_split(data, # le decimos que dataframe coger\n",
    "                                             test_size = 0.2) # seleccionamos que porcentaje destinar para testing"
   ]
  },
  {
   "cell_type": "code",
   "execution_count": 33,
   "id": "123b727e-d282-4846-a78c-102b05798074",
   "metadata": {},
   "outputs": [
    {
     "data": {
      "text/plain": [
       "2666"
      ]
     },
     "execution_count": 33,
     "metadata": {},
     "output_type": "execute_result"
    }
   ],
   "source": [
    "len(entreno)"
   ]
  },
  {
   "cell_type": "code",
   "execution_count": 34,
   "id": "e51088ee-f3cd-43e4-a9c9-bd5a4696658e",
   "metadata": {},
   "outputs": [
    {
     "data": {
      "text/plain": [
       "667"
      ]
     },
     "execution_count": 34,
     "metadata": {},
     "output_type": "execute_result"
    }
   ],
   "source": [
    "len(test)"
   ]
  },
  {
   "cell_type": "markdown",
   "id": "b19140dd-8400-4188-a50b-bf0716dd6643",
   "metadata": {},
   "source": [
    "### Método 3. Usando la función Shuffle"
   ]
  },
  {
   "cell_type": "markdown",
   "id": "001a6a2e-78f6-4fc6-b992-31ba4d0d7dda",
   "metadata": {},
   "source": [
    "##### Lo que vamos a hacer es mezclar el dataframe utilizando la función Shuffle. Esta función no será del paquete numpy ya que la función Shuffle de Numpy no actua sobre dataframes, solo sobre listas. De este modo, utilizaremos la función Shuffle de la libreria sklear que tenemos que importar"
   ]
  },
  {
   "cell_type": "code",
   "execution_count": 35,
   "id": "9e998fdb-1ff9-40b5-8559-45a595d7eb32",
   "metadata": {},
   "outputs": [],
   "source": [
    "# Importamos sklearn\n",
    "\n",
    "import sklearn"
   ]
  },
  {
   "cell_type": "code",
   "execution_count": 37,
   "id": "24ce7ed0-3dd8-49d9-8efb-06b8665c823c",
   "metadata": {},
   "outputs": [],
   "source": [
    "# mezclamos el dataframe\n",
    "\n",
    "data_mezclada = sklearn.utils.shuffle(data)"
   ]
  },
  {
   "cell_type": "code",
   "execution_count": 38,
   "id": "38d83cf3-21f0-4fca-9709-3b89e7af86a6",
   "metadata": {},
   "outputs": [],
   "source": [
    "# Establecemos el corte\n",
    "\n",
    "corte = int(0.8 * len(data_mezclada)) # no puede ser decimal, asi que redondeamos"
   ]
  },
  {
   "cell_type": "code",
   "execution_count": 39,
   "id": "3bf78f15-e450-4150-a056-7c87314816b1",
   "metadata": {},
   "outputs": [],
   "source": [
    "# Dividimos el nuevo dataset\n",
    "\n",
    "entrenamiento = data_mezclada[: corte]\n",
    "examen = data_mezclada[corte + 1 :]"
   ]
  },
  {
   "cell_type": "code",
   "execution_count": 40,
   "id": "0cc2fd89-b70e-4330-9d04-ad51a35f57f9",
   "metadata": {},
   "outputs": [
    {
     "data": {
      "text/plain": [
       "2666"
      ]
     },
     "execution_count": 40,
     "metadata": {},
     "output_type": "execute_result"
    }
   ],
   "source": [
    "len(entrenamiento)"
   ]
  },
  {
   "cell_type": "code",
   "execution_count": 41,
   "id": "d2f26e97-4bb8-42d6-b8e6-fa09ef4fa6d7",
   "metadata": {},
   "outputs": [
    {
     "data": {
      "text/plain": [
       "666"
      ]
     },
     "execution_count": 41,
     "metadata": {},
     "output_type": "execute_result"
    }
   ],
   "source": [
    "len(examen)"
   ]
  },
  {
   "cell_type": "code",
   "execution_count": null,
   "id": "67a32e34-dc43-4a1c-9c4c-7748d0df52cf",
   "metadata": {},
   "outputs": [],
   "source": []
  }
 ],
 "metadata": {
  "kernelspec": {
   "display_name": "Python 3 (ipykernel)",
   "language": "python",
   "name": "python3"
  },
  "language_info": {
   "codemirror_mode": {
    "name": "ipython",
    "version": 3
   },
   "file_extension": ".py",
   "mimetype": "text/x-python",
   "name": "python",
   "nbconvert_exporter": "python",
   "pygments_lexer": "ipython3",
   "version": "3.12.2"
  }
 },
 "nbformat": 4,
 "nbformat_minor": 5
}
