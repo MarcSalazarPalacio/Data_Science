{
 "cells": [
  {
   "cell_type": "markdown",
   "id": "b0aea072-f7f9-4a3e-811f-04fcf6a071b3",
   "metadata": {},
   "source": [
    "# 11: NÚMEROS ALEATORIOS"
   ]
  },
  {
   "cell_type": "code",
   "execution_count": 1,
   "id": "b063544b-83a6-403b-b2d2-8f9ce10f2e9d",
   "metadata": {},
   "outputs": [],
   "source": [
    "import pandas as pd\n",
    "import os"
   ]
  },
  {
   "cell_type": "code",
   "execution_count": 2,
   "id": "0f33516d-a540-4f92-bc99-710952f51ffc",
   "metadata": {},
   "outputs": [],
   "source": [
    "# importamos datos\n",
    "\n",
    "raiz = r\"C:\\Users\\Usuario\\Documents\\05_Formación_Académica\\Marc\\Data_Science\\machine_learning\\Recursos_curso\\datasets\"\n",
    "fichero = r\"customer-churn-model\\Customer Churn Model.txt\"\n",
    "ruta = os.path.join(raiz, fichero) \n",
    "data = pd.read_csv(ruta)"
   ]
  },
  {
   "cell_type": "markdown",
   "id": "7d3092e8-8187-4e35-9e8c-af0e3852b339",
   "metadata": {},
   "source": [
    "### Establecer una semilla para poder reproducir los números random a generar"
   ]
  },
  {
   "cell_type": "code",
   "execution_count": 3,
   "id": "84c3a491-d5dd-4393-a61b-3b286dc7edb1",
   "metadata": {},
   "outputs": [],
   "source": [
    "# Lo primero será importar la libreria numpy para la generación de estos numeros random\n",
    "\n",
    "import numpy as np"
   ]
  },
  {
   "cell_type": "code",
   "execution_count": 11,
   "id": "54a38d20-b151-4a40-ba6c-35f2ae1b9e30",
   "metadata": {},
   "outputs": [
    {
     "data": {
      "text/plain": [
       "0.5236769627165684"
      ]
     },
     "execution_count": 11,
     "metadata": {},
     "output_type": "execute_result"
    }
   ],
   "source": [
    "# Establecer la semilla con la que trabajaremos para poder replicar los resultados\n",
    "\n",
    "np.random.seed(39441890) # el numero que ponga aqui puede ser cualquiera, en este caso mi dni\n",
    "\n",
    "np.random.random() # por mas veces que ejecute, siempre va a dar 0.5236769627165684 por que hemos fijado la semilla"
   ]
  },
  {
   "cell_type": "markdown",
   "id": "bb92ff6c-b055-49b8-8e52-2e4ddf608c92",
   "metadata": {},
   "source": [
    "### Generación aleatoria de números"
   ]
  },
  {
   "cell_type": "code",
   "execution_count": 6,
   "id": "5a3dd16e-6a98-4899-93e9-f8a5ffa046ee",
   "metadata": {},
   "outputs": [
    {
     "data": {
      "text/plain": [
       "52"
      ]
     },
     "execution_count": 6,
     "metadata": {},
     "output_type": "execute_result"
    }
   ],
   "source": [
    "# Establecer un número aleatorio del tipo integer entre los numeros 1 y 100\n",
    "\n",
    "np.random.randint(1, 100)"
   ]
  },
  {
   "cell_type": "code",
   "execution_count": 7,
   "id": "00d1e78b-621f-4b93-b95c-096f3c941f96",
   "metadata": {},
   "outputs": [
    {
     "data": {
      "text/plain": [
       "0.27595829709826425"
      ]
     },
     "execution_count": 7,
     "metadata": {},
     "output_type": "execute_result"
    }
   ],
   "source": [
    "# Establecer un número aleatorio del tipo float entre los numeros 0 y 1 (con muchos decimales)\n",
    "\n",
    "np.random.random()"
   ]
  },
  {
   "cell_type": "code",
   "execution_count": 12,
   "id": "bba37b09-6be4-407a-a6d7-39dee954bf98",
   "metadata": {},
   "outputs": [],
   "source": [
    "# Crear una función que genere una lista de N valores aleatorios entre A y B\n",
    "\n",
    "def numeros_random(A, B, N):\n",
    "    lista = []\n",
    "    for i in range(N):\n",
    "        lista.append(np.random.randint(A, B))\n",
    "    return lista"
   ]
  },
  {
   "cell_type": "code",
   "execution_count": 15,
   "id": "e4881b0d-def1-4bc5-8a43-66dec2e10312",
   "metadata": {},
   "outputs": [
    {
     "data": {
      "text/plain": [
       "[65, 234, 498, 49, 56, 171, 239, 43, 347, 32]"
      ]
     },
     "execution_count": 15,
     "metadata": {},
     "output_type": "execute_result"
    }
   ],
   "source": [
    "# Probar la función\n",
    "\n",
    "np.random.seed(123456) # al haber fijado la semilla, va a dar [65, 234, 498, 49, 56, 171, 239, 43, 347, 32]\n",
    "numeros_random(0, 500, 10)"
   ]
  },
  {
   "cell_type": "code",
   "execution_count": 16,
   "id": "52614b08-477c-446c-b61e-f231feb6ac6c",
   "metadata": {},
   "outputs": [
    {
     "data": {
      "text/plain": [
       "35"
      ]
     },
     "execution_count": 16,
     "metadata": {},
     "output_type": "execute_result"
    }
   ],
   "source": [
    "# Generar numeros aleatorios entre dos numeros que sean multiplos de algun valor\n",
    "\n",
    "import random\n",
    "\n",
    "random.randrange(0, 100, 5) # generar numeros entre el 0 y el 100 que sean multiplos de 5 partiendo del valor inicial 0"
   ]
  },
  {
   "cell_type": "code",
   "execution_count": 17,
   "id": "df01e039-6022-42b7-9760-491313069691",
   "metadata": {},
   "outputs": [
    {
     "data": {
      "text/plain": [
       "51"
      ]
     },
     "execution_count": 17,
     "metadata": {},
     "output_type": "execute_result"
    }
   ],
   "source": [
    "# generar numeros entre el 0 y el 100 que sean multiplos de 5 partiendo del valor inicial 1, es decir, por ejemplo no seria 50 sino que tendria 51\n",
    "\n",
    "random.randrange(1, 100, 5) "
   ]
  },
  {
   "cell_type": "markdown",
   "id": "bc2f2e1f-4b1a-46ff-be4d-365e3e8a7d6b",
   "metadata": {},
   "source": [
    "### Shufling - Barajar (cambiar el orden de una lista concreta)"
   ]
  },
  {
   "cell_type": "code",
   "execution_count": 20,
   "id": "ec5658ca-569d-434b-b3b0-a97812f66910",
   "metadata": {},
   "outputs": [
    {
     "data": {
      "text/plain": [
       "array([ 0,  1,  2,  3,  4,  5,  6,  7,  8,  9, 10, 11, 12, 13, 14, 15, 16,\n",
       "       17, 18, 19])"
      ]
     },
     "execution_count": 20,
     "metadata": {},
     "output_type": "execute_result"
    }
   ],
   "source": [
    "# Creamos una lista de valores ordenados del 0 al 20\n",
    "\n",
    "lista_ordenada = np.arange(20) # lista con valores del 0 al 20\n",
    "lista_ordenada"
   ]
  },
  {
   "cell_type": "code",
   "execution_count": 21,
   "id": "c2ebddfc-fa4e-4b58-88d5-d3c7363f173a",
   "metadata": {},
   "outputs": [
    {
     "data": {
      "text/plain": [
       "array([ 6,  8, 12, 17,  1,  9, 16, 14, 15, 10,  2,  0,  7, 18,  3, 11,  4,\n",
       "        5, 19, 13])"
      ]
     },
     "execution_count": 21,
     "metadata": {},
     "output_type": "execute_result"
    }
   ],
   "source": [
    "# Mezclar los valores de la lista\n",
    "\n",
    "np.random.shuffle(lista_ordenada)\n",
    "lista_ordenada"
   ]
  },
  {
   "cell_type": "markdown",
   "id": "be34b17d-f3bb-4a29-8621-05616fb81ebf",
   "metadata": {},
   "source": [
    "### Choice - Escoger un valor aleatorio de una lista"
   ]
  },
  {
   "cell_type": "code",
   "execution_count": 24,
   "id": "a9406e58-be02-4f6d-9e49-64f9c11dbebf",
   "metadata": {},
   "outputs": [],
   "source": [
    "# Creamos una lista a partir de los titulos de las columnas del dataset\n",
    "\n",
    "lista_nombres = data.columns.values.tolist()"
   ]
  },
  {
   "cell_type": "code",
   "execution_count": 26,
   "id": "1053a2b2-4238-41cb-b1c2-51de1afcee8f",
   "metadata": {},
   "outputs": [
    {
     "data": {
      "text/plain": [
       "'Night Calls'"
      ]
     },
     "execution_count": 26,
     "metadata": {},
     "output_type": "execute_result"
    }
   ],
   "source": [
    "# Escogemos una de las columnas de forma aleatoria\n",
    "\n",
    "np.random.choice(lista_nombres)"
   ]
  },
  {
   "cell_type": "code",
   "execution_count": null,
   "id": "807c132c-186d-4d46-8034-92f4f8c52cab",
   "metadata": {},
   "outputs": [],
   "source": []
  }
 ],
 "metadata": {
  "kernelspec": {
   "display_name": "Python 3 (ipykernel)",
   "language": "python",
   "name": "python3"
  },
  "language_info": {
   "codemirror_mode": {
    "name": "ipython",
    "version": 3
   },
   "file_extension": ".py",
   "mimetype": "text/x-python",
   "name": "python",
   "nbconvert_exporter": "python",
   "pygments_lexer": "ipython3",
   "version": "3.12.2"
  }
 },
 "nbformat": 4,
 "nbformat_minor": 5
}
