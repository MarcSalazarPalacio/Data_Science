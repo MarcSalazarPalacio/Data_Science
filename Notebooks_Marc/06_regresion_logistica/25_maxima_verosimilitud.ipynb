{
 "cells": [
  {
   "cell_type": "markdown",
   "id": "627c0731-2d2e-40b8-92cd-8ca3b54845c5",
   "metadata": {},
   "source": [
    "# 25: MAXIMA VEROSIMILITUD"
   ]
  },
  {
   "cell_type": "code",
   "execution_count": 1,
   "id": "e23e08fa-54d3-46cb-931b-c260dff2565b",
   "metadata": {},
   "outputs": [],
   "source": [
    "import numpy as np\n",
    "from IPython.display import display, Math"
   ]
  },
  {
   "cell_type": "markdown",
   "id": "24c2af76-f09b-434a-a3e3-2781e9e3a447",
   "metadata": {},
   "source": [
    "### Definir la función de entorno L(B)"
   ]
  },
  {
   "cell_type": "code",
   "execution_count": 2,
   "id": "7950438d-7a65-49de-9801-f6dab728f3c4",
   "metadata": {},
   "outputs": [
    {
     "data": {
      "text/latex": [
       "$\\displaystyle L(\\beta)=\\sum_{i=1}^n P_i^{y_i}(1-Pi)^{1-y_i}$"
      ],
      "text/plain": [
       "<IPython.core.display.Math object>"
      ]
     },
     "metadata": {},
     "output_type": "display_data"
    }
   ],
   "source": [
    "display(Math(r'L(\\beta)=\\sum_{i=1}^n P_i^{y_i}(1-Pi)^{1-y_i}'))"
   ]
  },
  {
   "cell_type": "code",
   "execution_count": 3,
   "id": "ac4e5194-bad3-444b-babc-4909b2575104",
   "metadata": {},
   "outputs": [],
   "source": [
    "def likelihood(y, pi): # y es un vector de 1 y 0 (casos observados) y pi es un vector con las probabilidades de cada observación\n",
    "    \n",
    "    total_sum = 1\n",
    "    sum_in = list(range(1, len(y) + 1)) # crea una lista con el siguiente formato [1,2,3,4,5,...,N]\n",
    "    \n",
    "    for i in range(len(y)):\n",
    "        sum_in[i] = np.where(y[i] == 1, pi[i], 1 - pi[i]) # actualiza la lista con la probabilidad de exito si ha habido exito o la \n",
    "        total_sum = total_sum * sum_in[i]                 # de fracaso (1 - Pi) en caso de fracaso \n",
    "        \n",
    "    return total_sum"
   ]
  },
  {
   "cell_type": "code",
   "execution_count": 4,
   "id": "cb70e906-cab6-443a-a16b-9b4f1ad9e298",
   "metadata": {},
   "outputs": [
    {
     "data": {
      "text/plain": [
       "0.0012599999999999998"
      ]
     },
     "execution_count": 4,
     "metadata": {},
     "output_type": "execute_result"
    }
   ],
   "source": [
    "# Ejemplo de como usar esta función\n",
    "\n",
    "vector_observaciones = [1,1,0,1,0,0,1,0] # un 1 significa exito y un 0 significa fracaso\n",
    "vector_probabilidades = [0.5,0.6,0.3,0.2,0.8,0.5,0.6,0.5] # cada elemento es la posibilidad de exito para esa observación\n",
    "\n",
    "likelihood(vector_observaciones, vector_probabilidades)"
   ]
  },
  {
   "cell_type": "markdown",
   "id": "9bf68fab-7063-4d37-9309-bd6eb3099233",
   "metadata": {},
   "source": [
    "### Definir la probabilidad de cada una de las observaciones"
   ]
  },
  {
   "cell_type": "code",
   "execution_count": 5,
   "id": "96ca8421-ec97-4502-8bec-6d88019a540b",
   "metadata": {},
   "outputs": [
    {
     "data": {
      "text/latex": [
       "$\\displaystyle P_i = P(x_i) = \\frac{1}{1+e^{-\\sum_{j=0}^k\\beta_j\\cdot x_{ij}}} $"
      ],
      "text/plain": [
       "<IPython.core.display.Math object>"
      ]
     },
     "metadata": {},
     "output_type": "display_data"
    }
   ],
   "source": [
    "display(Math(r'P_i = P(x_i) = \\frac{1}{1+e^{-\\sum_{j=0}^k\\beta_j\\cdot x_{ij}}} '))"
   ]
  },
  {
   "cell_type": "code",
   "execution_count": 6,
   "id": "05a2a844-2fca-4bdb-a0e9-2df3727686fb",
   "metadata": {},
   "outputs": [],
   "source": [
    "def logitprobs(X, beta): # X es una matriz donde cada columna representa los distintos parametros de una observación y cada fila\n",
    "                         # representa una única observación con todos sus valores para cada elemento. Beta es un vector\n",
    "                         # con el valor Bi para cada uno de los parametros de la observación\n",
    "    \n",
    "    n_rows = np.shape(X)[0] # obtiene el número de observaciones\n",
    "    n_cols = np.shape(X)[1] # obtiene el número de parametros de cada observación\n",
    "    \n",
    "    pi = list(range(1, n_rows + 1)) # crea una lista con los valores [1,2,3,4,...,N (NÚMERO DE OBSERVACIONES)] \n",
    "    expon = list(range(1, n_rows + 1)) # crea una lista con los valores [1,2,3,4,...,N (NÚMERO DE PARAMETROS)] \n",
    "    \n",
    "    for i in range(n_rows):\n",
    "        expon[i] = 0\n",
    "        for j in range(n_cols):\n",
    "            ex = X[i][j] * beta[j] # multiplicamos un parametro de una observación por su respectiva beta dentro del loop\n",
    "            expon[i] = ex + expon[i]\n",
    "        with np.errstate(divide = \"ignore\", invalid = \"ignore\"):\n",
    "            pi[i] = 1 / (1 + np.exp(-expon[i]))\n",
    "            \n",
    "    return pi # retorna un vector de probabilidades para cada observación"
   ]
  },
  {
   "cell_type": "code",
   "execution_count": null,
   "id": "8770e16b-1c9e-4e7f-b1a9-023177e190a3",
   "metadata": {},
   "outputs": [],
   "source": [
    "# Ejemplo de como usar esta función\n",
    "\n",
    "betas = [2.8,0.9,0.004,1.2,1,0.6,2.8,1.4]\n",
    "observaciones = np.array([[1,1,0,0,1,1,0,1], # matriz de 8 parametros con 3 observaciones\n",
    "                          [1,0,1,1,1,0,0,1],\n",
    "                          [0,0,1,1,0,0,1,0]])\n",
    "\n",
    "logitprobs(observaciones, betas)"
   ]
  },
  {
   "cell_type": "markdown",
   "id": "6e8ead99-3725-47f9-a155-c1e791827b2c",
   "metadata": {},
   "source": [
    "### Definir la matriz diagonal W"
   ]
  },
  {
   "cell_type": "code",
   "execution_count": 8,
   "id": "6aaf85b7-5d09-4d44-aaa5-689ee2da373b",
   "metadata": {},
   "outputs": [
    {
     "data": {
      "text/latex": [
       "$\\displaystyle W= diag(P_i \\cdot (1-P_i))_{i=1}^n$"
      ],
      "text/plain": [
       "<IPython.core.display.Math object>"
      ]
     },
     "metadata": {},
     "output_type": "display_data"
    }
   ],
   "source": [
    "display(Math(r'W= diag(P_i \\cdot (1-P_i))_{i=1}^n'))"
   ]
  },
  {
   "cell_type": "code",
   "execution_count": 9,
   "id": "ac6e5a1c-9b06-4f88-9f63-df97f27e92ee",
   "metadata": {},
   "outputs": [],
   "source": [
    "def findW(pi): # pi es un vector de probabiliadades de exito para cada observación\n",
    "    \n",
    "    n = len(pi)\n",
    "    W = np.zeros(n * n).reshape(n, n) # construye un vector de N^2 elementos 0 y lo convertimos en matriz de N x N de dimensiones\n",
    "    \n",
    "    for i in range(n):\n",
    "        W[i,i] = pi[i] * (1 - pi[i]) # en cada uno de los elementos de la diagonal se pone esa fórmula\n",
    "        W[i,i].astype(float)\n",
    "        \n",
    "    return W # retorna una matriz de ceros con diagonal de izquierda a derecha"
   ]
  },
  {
   "cell_type": "code",
   "execution_count": 15,
   "id": "77ba437d-e339-4c1e-a5f1-827cc3c89e12",
   "metadata": {},
   "outputs": [
    {
     "data": {
      "text/plain": [
       "array([[0.25, 0.  , 0.  , 0.  , 0.  , 0.  , 0.  , 0.  ],\n",
       "       [0.  , 0.24, 0.  , 0.  , 0.  , 0.  , 0.  , 0.  ],\n",
       "       [0.  , 0.  , 0.21, 0.  , 0.  , 0.  , 0.  , 0.  ],\n",
       "       [0.  , 0.  , 0.  , 0.16, 0.  , 0.  , 0.  , 0.  ],\n",
       "       [0.  , 0.  , 0.  , 0.  , 0.16, 0.  , 0.  , 0.  ],\n",
       "       [0.  , 0.  , 0.  , 0.  , 0.  , 0.25, 0.  , 0.  ],\n",
       "       [0.  , 0.  , 0.  , 0.  , 0.  , 0.  , 0.24, 0.  ],\n",
       "       [0.  , 0.  , 0.  , 0.  , 0.  , 0.  , 0.  , 0.25]])"
      ]
     },
     "execution_count": 15,
     "metadata": {},
     "output_type": "execute_result"
    }
   ],
   "source": [
    "# Ejemplo de como usar esta función\n",
    "\n",
    "findW(vector_probabilidades)"
   ]
  },
  {
   "cell_type": "markdown",
   "id": "729da6b8-4f9b-4a2a-b83a-1902ff6afb28",
   "metadata": {},
   "source": [
    "### Definir función para obtener betas"
   ]
  },
  {
   "cell_type": "markdown",
   "id": "a526cba8-14d3-4d26-a988-63f38d4adc8f",
   "metadata": {},
   "source": [
    "Esta función va autilizar el resto de funciones que hemos creado con anterioridad para obtener el valor de las betas de los parametros del modelo."
   ]
  },
  {
   "cell_type": "code",
   "execution_count": 17,
   "id": "104d867f-e2f3-4d99-8feb-3f70b63d7061",
   "metadata": {},
   "outputs": [
    {
     "data": {
      "text/latex": [
       "$\\displaystyle \\beta_{n+1} = \\beta_n -\\frac{f(\\beta_n)}{f'(\\beta_n)}$"
      ],
      "text/plain": [
       "<IPython.core.display.Math object>"
      ]
     },
     "metadata": {},
     "output_type": "display_data"
    },
    {
     "data": {
      "text/latex": [
       "$\\displaystyle f(\\beta) = X(Y-P)$"
      ],
      "text/plain": [
       "<IPython.core.display.Math object>"
      ]
     },
     "metadata": {},
     "output_type": "display_data"
    },
    {
     "data": {
      "text/latex": [
       "$\\displaystyle f'(\\beta) = XWX^T$"
      ],
      "text/plain": [
       "<IPython.core.display.Math object>"
      ]
     },
     "metadata": {},
     "output_type": "display_data"
    }
   ],
   "source": [
    "display(Math(r\"\\beta_{n+1} = \\beta_n -\\frac{f(\\beta_n)}{f'(\\beta_n)}\"))\n",
    "display(Math(r\"f(\\beta) = X(Y-P)\"))\n",
    "display(Math(r\"f'(\\beta) = XWX^T\"))"
   ]
  },
  {
   "cell_type": "code",
   "execution_count": 25,
   "id": "e8754825-2535-4535-8d0e-a4f142c7d8a8",
   "metadata": {},
   "outputs": [],
   "source": [
    "def logistics(X, Y, limit): # X es una matriz donde cada columna representa un parametro de la observación, y cada fila representa una\n",
    "                            # única observación con todos sus parametros. La Y es un vector con cada una de las observaciones, siendo\n",
    "                            # 1 éxito y 0 el fracaso. Por último, limit es un valor númerico que establecemos como threshold para diseñar\n",
    "                            # la mejor estimación posible \n",
    "    \n",
    "    from numpy import linalg\n",
    "    \n",
    "    nrow = np.shape(X)[0] # sacamos el número de observaciones que tenemos. También valdria hacer un len(Y)\n",
    "    bias = np.ones(nrow).reshape(nrow, 1) # hacemos un vector de tantos 1 como observaciones. Luego lo hacemos matriz de dimension N x 1\n",
    "    X_new = np.append(X, bias, axis = 1) # hacemos una nueva matriz que será igual a la X añadiendo la matríz 'BIAS' que hemos creado \n",
    "    ncol = np.shape(X_new)[1] # sacamos el numero de parametros que tenemos para cada observación + 1 (el bias)\n",
    "    beta = np.zeros(ncol).reshape(ncol, 1) # hacemos un vector de tantos 0 como parametros + 1. Luego lo hacemos matriz de dimension N x 1\n",
    "    root_dif = np.array(range(1, ncol + 1)).reshape(ncol, 1) # crea un vector de 1 hasta el número de parametros + 1 y luego lo convierte\n",
    "    iter_i = 10000                                           # en matriz de dimensiones N x 1\n",
    "    \n",
    "    while(iter_i > limit):\n",
    "        print(\"Iter: i \" + str(iter_i) + \", limit: \" + str(limit))\n",
    "        pi = logitprobs(X_new, beta) # utilizamos la función para crear un vector de probabilidades para cada observación\n",
    "        print(\"Pi:\" + str(pi))\n",
    "        W = findW(pi) # utiliamos la función para crear la matrix diagonal\n",
    "        print(\"W:\" + str(W))\n",
    "        num = (np.transpose(np.matrix(X_new)) * np.matrix(Y - np.transpose(pi)).transpose())\n",
    "        den = (np.matrix(np.transpose(X_new)) * np.matrix(W) * np.matrix(X_new))\n",
    "        root_dif = np.array(linalg.inv(den) * num)\n",
    "        beta = beta + root_dif\n",
    "        print(\"Beta: \" + str(beta))\n",
    "        iter_i = np.sum(root_dif * root_dif)\n",
    "        ll = likelihood(Y, pi)\n",
    "        \n",
    "    return beta"
   ]
  },
  {
   "cell_type": "code",
   "execution_count": 26,
   "id": "56e79e39-0c7a-4756-996d-59cc9a108cac",
   "metadata": {},
   "outputs": [
    {
     "name": "stdout",
     "output_type": "stream",
     "text": [
      "Iter: i 10000, limit: 0.005\n",
      "Pi:[array([0.5]), array([0.5]), array([0.5]), array([0.5]), array([0.5]), array([0.5]), array([0.5]), array([0.5]), array([0.5]), array([0.5]), array([0.5]), array([0.5]), array([0.5]), array([0.5]), array([0.5]), array([0.5]), array([0.5])]\n",
      "W:[[0.25 0.   0.   0.   0.   0.   0.   0.   0.   0.   0.   0.   0.   0.\n",
      "  0.   0.   0.  ]\n",
      " [0.   0.25 0.   0.   0.   0.   0.   0.   0.   0.   0.   0.   0.   0.\n",
      "  0.   0.   0.  ]\n",
      " [0.   0.   0.25 0.   0.   0.   0.   0.   0.   0.   0.   0.   0.   0.\n",
      "  0.   0.   0.  ]\n",
      " [0.   0.   0.   0.25 0.   0.   0.   0.   0.   0.   0.   0.   0.   0.\n",
      "  0.   0.   0.  ]\n",
      " [0.   0.   0.   0.   0.25 0.   0.   0.   0.   0.   0.   0.   0.   0.\n",
      "  0.   0.   0.  ]\n",
      " [0.   0.   0.   0.   0.   0.25 0.   0.   0.   0.   0.   0.   0.   0.\n",
      "  0.   0.   0.  ]\n",
      " [0.   0.   0.   0.   0.   0.   0.25 0.   0.   0.   0.   0.   0.   0.\n",
      "  0.   0.   0.  ]\n",
      " [0.   0.   0.   0.   0.   0.   0.   0.25 0.   0.   0.   0.   0.   0.\n",
      "  0.   0.   0.  ]\n",
      " [0.   0.   0.   0.   0.   0.   0.   0.   0.25 0.   0.   0.   0.   0.\n",
      "  0.   0.   0.  ]\n",
      " [0.   0.   0.   0.   0.   0.   0.   0.   0.   0.25 0.   0.   0.   0.\n",
      "  0.   0.   0.  ]\n",
      " [0.   0.   0.   0.   0.   0.   0.   0.   0.   0.   0.25 0.   0.   0.\n",
      "  0.   0.   0.  ]\n",
      " [0.   0.   0.   0.   0.   0.   0.   0.   0.   0.   0.   0.25 0.   0.\n",
      "  0.   0.   0.  ]\n",
      " [0.   0.   0.   0.   0.   0.   0.   0.   0.   0.   0.   0.   0.25 0.\n",
      "  0.   0.   0.  ]\n",
      " [0.   0.   0.   0.   0.   0.   0.   0.   0.   0.   0.   0.   0.   0.25\n",
      "  0.   0.   0.  ]\n",
      " [0.   0.   0.   0.   0.   0.   0.   0.   0.   0.   0.   0.   0.   0.\n",
      "  0.25 0.   0.  ]\n",
      " [0.   0.   0.   0.   0.   0.   0.   0.   0.   0.   0.   0.   0.   0.\n",
      "  0.   0.25 0.  ]\n",
      " [0.   0.   0.   0.   0.   0.   0.   0.   0.   0.   0.   0.   0.   0.\n",
      "  0.   0.   0.25]]\n",
      "Beta: [[-0.37902319]\n",
      " [ 0.24436813]\n",
      " [ 0.31425027]\n",
      " [ 0.45602995]\n",
      " [-0.46119321]\n",
      " [-0.05887042]]\n",
      "Iter: i 0.7262558076290823, limit: 0.005\n",
      "Pi:[array([0.62521597]), array([0.40771746]), array([0.60706104]), array([0.23936517]), array([0.42538844]), array([0.78651684]), array([0.19739226]), array([0.43578204]), array([0.59800502]), array([0.80606281]), array([0.53313238]), array([0.63913032]), array([0.60459507]), array([0.28764151]), array([0.58719575]), array([0.706974]), array([0.49086485])]\n",
      "W:[[0.23432096 0.         0.         0.         0.         0.\n",
      "  0.         0.         0.         0.         0.         0.\n",
      "  0.         0.         0.         0.         0.        ]\n",
      " [0.         0.24148393 0.         0.         0.         0.\n",
      "  0.         0.         0.         0.         0.         0.\n",
      "  0.         0.         0.         0.         0.        ]\n",
      " [0.         0.         0.23853793 0.         0.         0.\n",
      "  0.         0.         0.         0.         0.         0.\n",
      "  0.         0.         0.         0.         0.        ]\n",
      " [0.         0.         0.         0.18206948 0.         0.\n",
      "  0.         0.         0.         0.         0.         0.\n",
      "  0.         0.         0.         0.         0.        ]\n",
      " [0.         0.         0.         0.         0.24443311 0.\n",
      "  0.         0.         0.         0.         0.         0.\n",
      "  0.         0.         0.         0.         0.        ]\n",
      " [0.         0.         0.         0.         0.         0.1679081\n",
      "  0.         0.         0.         0.         0.         0.\n",
      "  0.         0.         0.         0.         0.        ]\n",
      " [0.         0.         0.         0.         0.         0.\n",
      "  0.15842856 0.         0.         0.         0.         0.\n",
      "  0.         0.         0.         0.         0.        ]\n",
      " [0.         0.         0.         0.         0.         0.\n",
      "  0.         0.24587605 0.         0.         0.         0.\n",
      "  0.         0.         0.         0.         0.        ]\n",
      " [0.         0.         0.         0.         0.         0.\n",
      "  0.         0.         0.24039502 0.         0.         0.\n",
      "  0.         0.         0.         0.         0.        ]\n",
      " [0.         0.         0.         0.         0.         0.\n",
      "  0.         0.         0.         0.15632555 0.         0.\n",
      "  0.         0.         0.         0.         0.        ]\n",
      " [0.         0.         0.         0.         0.         0.\n",
      "  0.         0.         0.         0.         0.24890225 0.\n",
      "  0.         0.         0.         0.         0.        ]\n",
      " [0.         0.         0.         0.         0.         0.\n",
      "  0.         0.         0.         0.         0.         0.23064275\n",
      "  0.         0.         0.         0.         0.        ]\n",
      " [0.         0.         0.         0.         0.         0.\n",
      "  0.         0.         0.         0.         0.         0.\n",
      "  0.23905987 0.         0.         0.         0.        ]\n",
      " [0.         0.         0.         0.         0.         0.\n",
      "  0.         0.         0.         0.         0.         0.\n",
      "  0.         0.20490387 0.         0.         0.        ]\n",
      " [0.         0.         0.         0.         0.         0.\n",
      "  0.         0.         0.         0.         0.         0.\n",
      "  0.         0.         0.2423969  0.         0.        ]\n",
      " [0.         0.         0.         0.         0.         0.\n",
      "  0.         0.         0.         0.         0.         0.\n",
      "  0.         0.         0.         0.20716177 0.        ]\n",
      " [0.         0.         0.         0.         0.         0.\n",
      "  0.         0.         0.         0.         0.         0.\n",
      "  0.         0.         0.         0.         0.24991655]]\n",
      "Beta: [[-0.40735862]\n",
      " [ 0.2565555 ]\n",
      " [ 0.37287121]\n",
      " [ 0.53788459]\n",
      " [-0.53255349]\n",
      " [-0.12937221]]\n",
      "Iter: i 0.02115081961130898, limit: 0.005\n",
      "Pi:[array([0.64193321]), array([0.3947444]), array([0.61433401]), array([0.2184278]), array([0.41017027]), array([0.81602013]), array([0.16104995]), array([0.42197702]), array([0.60073112]), array([0.84223959]), array([0.54398751]), array([0.65382868]), array([0.61685708]), array([0.26193105]), array([0.59874512]), array([0.71645701]), array([0.48592267])]\n",
      "W:[[0.22985497 0.         0.         0.         0.         0.\n",
      "  0.         0.         0.         0.         0.         0.\n",
      "  0.         0.         0.         0.         0.        ]\n",
      " [0.         0.23892126 0.         0.         0.         0.\n",
      "  0.         0.         0.         0.         0.         0.\n",
      "  0.         0.         0.         0.         0.        ]\n",
      " [0.         0.         0.23692773 0.         0.         0.\n",
      "  0.         0.         0.         0.         0.         0.\n",
      "  0.         0.         0.         0.         0.        ]\n",
      " [0.         0.         0.         0.17071709 0.         0.\n",
      "  0.         0.         0.         0.         0.         0.\n",
      "  0.         0.         0.         0.         0.        ]\n",
      " [0.         0.         0.         0.         0.24193062 0.\n",
      "  0.         0.         0.         0.         0.         0.\n",
      "  0.         0.         0.         0.         0.        ]\n",
      " [0.         0.         0.         0.         0.         0.15013128\n",
      "  0.         0.         0.         0.         0.         0.\n",
      "  0.         0.         0.         0.         0.        ]\n",
      " [0.         0.         0.         0.         0.         0.\n",
      "  0.13511286 0.         0.         0.         0.         0.\n",
      "  0.         0.         0.         0.         0.        ]\n",
      " [0.         0.         0.         0.         0.         0.\n",
      "  0.         0.24391242 0.         0.         0.         0.\n",
      "  0.         0.         0.         0.         0.        ]\n",
      " [0.         0.         0.         0.         0.         0.\n",
      "  0.         0.         0.23985324 0.         0.         0.\n",
      "  0.         0.         0.         0.         0.        ]\n",
      " [0.         0.         0.         0.         0.         0.\n",
      "  0.         0.         0.         0.13287206 0.         0.\n",
      "  0.         0.         0.         0.         0.        ]\n",
      " [0.         0.         0.         0.         0.         0.\n",
      "  0.         0.         0.         0.         0.2480651  0.\n",
      "  0.         0.         0.         0.         0.        ]\n",
      " [0.         0.         0.         0.         0.         0.\n",
      "  0.         0.         0.         0.         0.         0.22633674\n",
      "  0.         0.         0.         0.         0.        ]\n",
      " [0.         0.         0.         0.         0.         0.\n",
      "  0.         0.         0.         0.         0.         0.\n",
      "  0.23634442 0.         0.         0.         0.        ]\n",
      " [0.         0.         0.         0.         0.         0.\n",
      "  0.         0.         0.         0.         0.         0.\n",
      "  0.         0.19332317 0.         0.         0.        ]\n",
      " [0.         0.         0.         0.         0.         0.\n",
      "  0.         0.         0.         0.         0.         0.\n",
      "  0.         0.         0.2402494  0.         0.        ]\n",
      " [0.         0.         0.         0.         0.         0.\n",
      "  0.         0.         0.         0.         0.         0.\n",
      "  0.         0.         0.         0.20314636 0.        ]\n",
      " [0.         0.         0.         0.         0.         0.\n",
      "  0.         0.         0.         0.         0.         0.\n",
      "  0.         0.         0.         0.         0.24980183]]\n",
      "Beta: [[-0.40751702]\n",
      " [ 0.25582606]\n",
      " [ 0.37705381]\n",
      " [ 0.54289133]\n",
      " [-0.53691236]\n",
      " [-0.13511335]]\n"
     ]
    },
    {
     "name": "stderr",
     "output_type": "stream",
     "text": [
      "C:\\Users\\Usuario\\AppData\\Local\\Temp\\ipykernel_18956\\3768832947.py:6: DeprecationWarning: Conversion of an array with ndim > 0 to a scalar is deprecated, and will error in future. Ensure you extract a single element from your array before performing this operation. (Deprecated NumPy 1.25.)\n",
      "  W[i,i]=pi[i]*(1-pi[i])\n"
     ]
    },
    {
     "data": {
      "text/plain": [
       "array([[-0.40751702],\n",
       "       [ 0.25582606],\n",
       "       [ 0.37705381],\n",
       "       [ 0.54289133],\n",
       "       [-0.53691236],\n",
       "       [-0.13511335]])"
      ]
     },
     "execution_count": 26,
     "metadata": {},
     "output_type": "execute_result"
    }
   ],
   "source": [
    "# Ejemplo de como usar esta función\n",
    "\n",
    "y_observaciones = [0,0,1,0,0,1,0,1,0,1,1,1,0,1,0,1,1] # 17 observaciones\n",
    "x_parametros = np.array([[1,2,3,4,5],\n",
    "                         [0,0,2,4,6],\n",
    "                         [1,1,2,0,0],\n",
    "                         [5,2,1,1,1],\n",
    "                         [3,3,2,1,2],\n",
    "                         [0,0,0,4,1],\n",
    "                         [2,2,1,1,4],\n",
    "                         [2,1,1,0,0],\n",
    "                         [0,0,0,1,0],\n",
    "                         [4,4,5,2,1],\n",
    "                         [2,2,3,4,5],\n",
    "                         [1,1,1,2,1],\n",
    "                         [1,1,2,2,2],\n",
    "                         [4,4,2,3,5],\n",
    "                         [5,5,2,1,0],\n",
    "                         [0,2,0,2,1],\n",
    "                         [1,1,2,2,3]]) # 17 observaciones con 5 parametros por cada observación\n",
    "\n",
    "logistics(x_parametros, y_observaciones, 0.005)"
   ]
  },
  {
   "cell_type": "markdown",
   "id": "318470a7-a1f5-4b55-9658-8b38ae48748b",
   "metadata": {},
   "source": [
    "El mejor modelo para estos datos sería el siguiente:"
   ]
  },
  {
   "cell_type": "code",
   "execution_count": 38,
   "id": "c33d611a-f500-4c3d-be9b-70281ca8a4e8",
   "metadata": {},
   "outputs": [
    {
     "data": {
      "text/latex": [
       "$\\displaystyle  P = \\frac{1}{1+e^{-(-0.40751702+0.25582606 * X_1 + 0.37705381 * X_2 + 0.54289133 * X_3 - 0.53691236 * X_4 - 0.13511335 * X_5)}}$"
      ],
      "text/plain": [
       "<IPython.core.display.Math object>"
      ]
     },
     "metadata": {},
     "output_type": "display_data"
    }
   ],
   "source": [
    "display(Math(r' P = \\frac{1}{1+e^{-(-0.40751702+0.25582606 * X_1 + 0.37705381 * X_2 + 0.54289133 * X_3 - 0.53691236 * X_4 - 0.13511335 * X_5)}}'))"
   ]
  },
  {
   "cell_type": "code",
   "execution_count": null,
   "id": "e5d2af68-886f-412e-804c-a351a931b713",
   "metadata": {},
   "outputs": [],
   "source": []
  },
  {
   "cell_type": "code",
   "execution_count": null,
   "id": "181f1d67-2d79-4fc0-b95e-b6099528e8db",
   "metadata": {},
   "outputs": [],
   "source": []
  },
  {
   "cell_type": "code",
   "execution_count": null,
   "id": "9b980ea0-413c-45ed-b4b9-d28e994e2c7c",
   "metadata": {},
   "outputs": [],
   "source": []
  },
  {
   "cell_type": "code",
   "execution_count": null,
   "id": "92e179bf-17cd-44e6-a1d6-fcc8e14bf297",
   "metadata": {},
   "outputs": [],
   "source": []
  },
  {
   "cell_type": "code",
   "execution_count": null,
   "id": "3ea6af6e-76ed-479f-a473-ecaf933715c1",
   "metadata": {},
   "outputs": [],
   "source": []
  },
  {
   "cell_type": "code",
   "execution_count": null,
   "id": "569e9b87-c2d0-4837-8ae9-992970b59394",
   "metadata": {},
   "outputs": [],
   "source": []
  },
  {
   "cell_type": "code",
   "execution_count": null,
   "id": "93473d9f-8cc8-4b2a-b3f8-ecf3a47a48ce",
   "metadata": {},
   "outputs": [],
   "source": []
  },
  {
   "cell_type": "code",
   "execution_count": null,
   "id": "9d51b221-ed1e-4935-a691-8b6704c10be1",
   "metadata": {},
   "outputs": [],
   "source": []
  },
  {
   "cell_type": "code",
   "execution_count": null,
   "id": "b8cd5659-5427-4772-9f22-527d15d21040",
   "metadata": {},
   "outputs": [],
   "source": []
  }
 ],
 "metadata": {
  "kernelspec": {
   "display_name": "Python 3 (ipykernel)",
   "language": "python",
   "name": "python3"
  },
  "language_info": {
   "codemirror_mode": {
    "name": "ipython",
    "version": 3
   },
   "file_extension": ".py",
   "mimetype": "text/x-python",
   "name": "python",
   "nbconvert_exporter": "python",
   "pygments_lexer": "ipython3",
   "version": "3.12.2"
  }
 },
 "nbformat": 4,
 "nbformat_minor": 5
}
