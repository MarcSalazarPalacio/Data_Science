{
 "cells": [
  {
   "cell_type": "markdown",
   "id": "0f074145-3e51-4401-ad56-dd2fe14fbcdf",
   "metadata": {},
   "source": [
    "# 24: LA REGRESIÓN LOGÍSTICA"
   ]
  },
  {
   "cell_type": "code",
   "execution_count": 1,
   "id": "448aa89d-5bc0-4a4a-be52-23df15a336a7",
   "metadata": {},
   "outputs": [],
   "source": [
    "import pandas as pd\n",
    "import numpy as np\n",
    "from IPython.display import display, Math # esta libreria sirve para mostrar en pantalla fórmulas matemáticas"
   ]
  },
  {
   "cell_type": "markdown",
   "id": "0a3551dd-b233-4b57-bd6b-acbd2332e7d5",
   "metadata": {},
   "source": [
    "La regresion logística es aquella que busca predecir un valor categórico en lugar de un valor numérico utilizando las propiedades del logaritmo neperiano (Ln) ya que se traza una función que va de 0 a 1 pasando por 0'5. Si la función supera el 0'5, se considera que hay más probabilidad de estar en la situación 1, en cmabio si estamos más cerca de 0 se considera que es más probable la condición 0.\n",
    "\n",
    "Fórmula de la regresión logística:"
   ]
  },
  {
   "cell_type": "code",
   "execution_count": 2,
   "id": "7a3d6dfe-5ef7-47e7-800f-f6b796933847",
   "metadata": {},
   "outputs": [
    {
     "data": {
      "text/latex": [
       "$\\displaystyle  P = \\frac{1}{1+e^{-(\\alpha+\\beta\\cdot X)}}$"
      ],
      "text/plain": [
       "<IPython.core.display.Math object>"
      ]
     },
     "metadata": {},
     "output_type": "display_data"
    }
   ],
   "source": [
    "display(Math(r' P = \\frac{1}{1+e^{-(\\alpha+\\beta\\cdot X)}}'))"
   ]
  },
  {
   "cell_type": "code",
   "execution_count": 3,
   "id": "081b5412-4e1f-4a69-a4aa-8fcf5aa07f56",
   "metadata": {},
   "outputs": [],
   "source": [
    "data = pd.read_csv('../../Recursos_curso/datasets/gender-purchase/Gender Purchase.csv')"
   ]
  },
  {
   "cell_type": "code",
   "execution_count": 4,
   "id": "abe40803-be32-49f2-87b8-4991c2782d63",
   "metadata": {},
   "outputs": [
    {
     "data": {
      "text/html": [
       "<div>\n",
       "<style scoped>\n",
       "    .dataframe tbody tr th:only-of-type {\n",
       "        vertical-align: middle;\n",
       "    }\n",
       "\n",
       "    .dataframe tbody tr th {\n",
       "        vertical-align: top;\n",
       "    }\n",
       "\n",
       "    .dataframe thead th {\n",
       "        text-align: right;\n",
       "    }\n",
       "</style>\n",
       "<table border=\"1\" class=\"dataframe\">\n",
       "  <thead>\n",
       "    <tr style=\"text-align: right;\">\n",
       "      <th></th>\n",
       "      <th>Gender</th>\n",
       "      <th>Purchase</th>\n",
       "    </tr>\n",
       "  </thead>\n",
       "  <tbody>\n",
       "    <tr>\n",
       "      <th>0</th>\n",
       "      <td>Female</td>\n",
       "      <td>Yes</td>\n",
       "    </tr>\n",
       "    <tr>\n",
       "      <th>1</th>\n",
       "      <td>Female</td>\n",
       "      <td>Yes</td>\n",
       "    </tr>\n",
       "    <tr>\n",
       "      <th>2</th>\n",
       "      <td>Female</td>\n",
       "      <td>No</td>\n",
       "    </tr>\n",
       "    <tr>\n",
       "      <th>3</th>\n",
       "      <td>Male</td>\n",
       "      <td>No</td>\n",
       "    </tr>\n",
       "    <tr>\n",
       "      <th>4</th>\n",
       "      <td>Male</td>\n",
       "      <td>Yes</td>\n",
       "    </tr>\n",
       "  </tbody>\n",
       "</table>\n",
       "</div>"
      ],
      "text/plain": [
       "   Gender Purchase\n",
       "0  Female      Yes\n",
       "1  Female      Yes\n",
       "2  Female       No\n",
       "3    Male       No\n",
       "4    Male      Yes"
      ]
     },
     "execution_count": 4,
     "metadata": {},
     "output_type": "execute_result"
    }
   ],
   "source": [
    "data.head()"
   ]
  },
  {
   "cell_type": "markdown",
   "id": "38ce03bf-0f29-44de-89b8-33de5db6b93b",
   "metadata": {},
   "source": [
    "### Datos del dataframe"
   ]
  },
  {
   "cell_type": "code",
   "execution_count": 5,
   "id": "e03fd3b0-2be4-471a-8932-bf5de2afd0b6",
   "metadata": {},
   "outputs": [
    {
     "data": {
      "text/html": [
       "<div>\n",
       "<style scoped>\n",
       "    .dataframe tbody tr th:only-of-type {\n",
       "        vertical-align: middle;\n",
       "    }\n",
       "\n",
       "    .dataframe tbody tr th {\n",
       "        vertical-align: top;\n",
       "    }\n",
       "\n",
       "    .dataframe thead th {\n",
       "        text-align: right;\n",
       "    }\n",
       "</style>\n",
       "<table border=\"1\" class=\"dataframe\">\n",
       "  <thead>\n",
       "    <tr style=\"text-align: right;\">\n",
       "      <th>Purchase</th>\n",
       "      <th>No</th>\n",
       "      <th>Yes</th>\n",
       "    </tr>\n",
       "    <tr>\n",
       "      <th>Gender</th>\n",
       "      <th></th>\n",
       "      <th></th>\n",
       "    </tr>\n",
       "  </thead>\n",
       "  <tbody>\n",
       "    <tr>\n",
       "      <th>Female</th>\n",
       "      <td>106</td>\n",
       "      <td>159</td>\n",
       "    </tr>\n",
       "    <tr>\n",
       "      <th>Male</th>\n",
       "      <td>125</td>\n",
       "      <td>121</td>\n",
       "    </tr>\n",
       "  </tbody>\n",
       "</table>\n",
       "</div>"
      ],
      "text/plain": [
       "Purchase   No  Yes\n",
       "Gender            \n",
       "Female    106  159\n",
       "Male      125  121"
      ]
     },
     "execution_count": 5,
     "metadata": {},
     "output_type": "execute_result"
    }
   ],
   "source": [
    "# Visualizamos un resumen de los datos mediante una tabla de contingencia para ver cuantos casos tenemos de cada clase\n",
    "\n",
    "tabla_contingencia = pd.crosstab(data['Gender'], # Ponemos la primera clase\n",
    "                                 data['Purchase']) # Ponemos la segunda clase\n",
    "tabla_contingencia"
   ]
  },
  {
   "cell_type": "code",
   "execution_count": 6,
   "id": "a92213ad-5eab-4930-9e41-92a4d1f6d486",
   "metadata": {},
   "outputs": [],
   "source": [
    "# Podemos sumar los diferentes contajes a partir de la tabla de contingencia\n",
    "\n",
    "females_totales = tabla_contingencia.sum(axis = 1).iloc[0]\n",
    "males_totales = tabla_contingencia.sum(axis = 1).iloc[1]\n",
    "no_totales = tabla_contingencia.sum(axis = 0).iloc[0]\n",
    "yes_totales = tabla_contingencia.sum(axis = 0).iloc[1]"
   ]
  },
  {
   "cell_type": "code",
   "execution_count": 7,
   "id": "3a7733ec-ebe8-4940-b644-be3f3a529813",
   "metadata": {},
   "outputs": [
    {
     "name": "stdout",
     "output_type": "stream",
     "text": [
      "El número de FEMALES es: 265\n",
      "El número de MALES es: 246\n",
      "El número de NO es: 231\n",
      "El número de YES es: 280\n"
     ]
    }
   ],
   "source": [
    "print(f'El número de FEMALES es: {females_totales}')\n",
    "print(f'El número de MALES es: {males_totales}')\n",
    "print(f'El número de NO es: {no_totales}')\n",
    "print(f'El número de YES es: {yes_totales}')"
   ]
  },
  {
   "cell_type": "code",
   "execution_count": 8,
   "id": "75d527d3-5819-4c2a-837a-405c1cb16b88",
   "metadata": {},
   "outputs": [
    {
     "data": {
      "text/html": [
       "<div>\n",
       "<style scoped>\n",
       "    .dataframe tbody tr th:only-of-type {\n",
       "        vertical-align: middle;\n",
       "    }\n",
       "\n",
       "    .dataframe tbody tr th {\n",
       "        vertical-align: top;\n",
       "    }\n",
       "\n",
       "    .dataframe thead th {\n",
       "        text-align: right;\n",
       "    }\n",
       "</style>\n",
       "<table border=\"1\" class=\"dataframe\">\n",
       "  <thead>\n",
       "    <tr style=\"text-align: right;\">\n",
       "      <th>Purchase</th>\n",
       "      <th>No</th>\n",
       "      <th>Yes</th>\n",
       "    </tr>\n",
       "    <tr>\n",
       "      <th>Gender</th>\n",
       "      <th></th>\n",
       "      <th></th>\n",
       "    </tr>\n",
       "  </thead>\n",
       "  <tbody>\n",
       "    <tr>\n",
       "      <th>Female</th>\n",
       "      <td>0.40000</td>\n",
       "      <td>0.60000</td>\n",
       "    </tr>\n",
       "    <tr>\n",
       "      <th>Male</th>\n",
       "      <td>0.50813</td>\n",
       "      <td>0.49187</td>\n",
       "    </tr>\n",
       "  </tbody>\n",
       "</table>\n",
       "</div>"
      ],
      "text/plain": [
       "Purchase       No      Yes\n",
       "Gender                    \n",
       "Female    0.40000  0.60000\n",
       "Male      0.50813  0.49187"
      ]
     },
     "execution_count": 8,
     "metadata": {},
     "output_type": "execute_result"
    }
   ],
   "source": [
    "# Visualizar la proporción de compras en función de cada género\n",
    "\n",
    "tabla_contingencia.astype('float').div(tabla_contingencia.sum(axis = 1), # el primer argumento define el valor que dividie\n",
    "                                       axis = 0) # el segundo argumento define como se hace la division en el dataframe"
   ]
  },
  {
   "cell_type": "code",
   "execution_count": 9,
   "id": "eebdc570-1501-44e6-a324-6e40810d7395",
   "metadata": {},
   "outputs": [
    {
     "data": {
      "text/html": [
       "<div>\n",
       "<style scoped>\n",
       "    .dataframe tbody tr th:only-of-type {\n",
       "        vertical-align: middle;\n",
       "    }\n",
       "\n",
       "    .dataframe tbody tr th {\n",
       "        vertical-align: top;\n",
       "    }\n",
       "\n",
       "    .dataframe thead th {\n",
       "        text-align: right;\n",
       "    }\n",
       "</style>\n",
       "<table border=\"1\" class=\"dataframe\">\n",
       "  <thead>\n",
       "    <tr style=\"text-align: right;\">\n",
       "      <th>Purchase</th>\n",
       "      <th>No</th>\n",
       "      <th>Yes</th>\n",
       "    </tr>\n",
       "    <tr>\n",
       "      <th>Gender</th>\n",
       "      <th></th>\n",
       "      <th></th>\n",
       "    </tr>\n",
       "  </thead>\n",
       "  <tbody>\n",
       "    <tr>\n",
       "      <th>Female</th>\n",
       "      <td>0.458874</td>\n",
       "      <td>0.567857</td>\n",
       "    </tr>\n",
       "    <tr>\n",
       "      <th>Male</th>\n",
       "      <td>0.541126</td>\n",
       "      <td>0.432143</td>\n",
       "    </tr>\n",
       "  </tbody>\n",
       "</table>\n",
       "</div>"
      ],
      "text/plain": [
       "Purchase        No       Yes\n",
       "Gender                      \n",
       "Female    0.458874  0.567857\n",
       "Male      0.541126  0.432143"
      ]
     },
     "execution_count": 9,
     "metadata": {},
     "output_type": "execute_result"
    }
   ],
   "source": [
    "# Hacemos lo mismo pero en función de quien compra mas o menos\n",
    "\n",
    "tabla_contingencia.astype('float').div(tabla_contingencia.sum(axis = 0), axis = 1)"
   ]
  },
  {
   "cell_type": "markdown",
   "id": "3614ad23-7ae8-4f78-b25c-845fb8fa32d9",
   "metadata": {},
   "source": [
    "### Probabilidades condicionales"
   ]
  },
  {
   "cell_type": "markdown",
   "id": "a9ca48c5-4d8d-4c7a-88a6-92736ff1b10d",
   "metadata": {},
   "source": [
    "Las probabilidades condicionales definen cuales son las diferentes probabilidades de que pase un suceso siempre y cuando tambien pase otro suceso. En este caso tenemos las siguientes posibles probabilidades condicionales (las mismas que hemos visto en la tabla de contingencia):\n",
    "\n",
    "- Probabilidad de ser HOMBRE y COMPRAR\n",
    "- Probabilidad de ser HOMBRE y NO COMPRAR\n",
    "\n",
    "- Probabilidad de ser MUJER y COMPRAR\n",
    "- Probabilidad de ser MUJER y NO COMPRAR"
   ]
  },
  {
   "cell_type": "code",
   "execution_count": 21,
   "id": "49c4fbbf-9010-4bfa-bb0f-324628cde218",
   "metadata": {},
   "outputs": [
    {
     "data": {
      "text/latex": [
       "$\\displaystyle P(Purchase|Male) = \\frac{Numero\\ de\\ compras\\ hechas\\ por\\ hombres}{Numero\\ total\\ de\\ hombres\\ del\\ grupo}$"
      ],
      "text/plain": [
       "<IPython.core.display.Math object>"
      ]
     },
     "metadata": {},
     "output_type": "display_data"
    },
    {
     "name": "stdout",
     "output_type": "stream",
     "text": [
      "La probabilidad de ser hombre y comprar es: 0.491869918699187\n"
     ]
    }
   ],
   "source": [
    "# Probabilidad de ser hombre y comprar\n",
    "\n",
    "display(Math(r'P(Purchase|Male) = \\frac{Numero\\ de\\ compras\\ hechas\\ por\\ hombres}{Numero\\ de\\ hombres\\ del\\ grupo}'))\n",
    "compra_hombre = tabla_contingencia.iloc[1, 1]\n",
    "prob_hombre_comprar = compra_hombre / males_totales\n",
    "print(f'La probabilidad de ser hombre y comprar es: {prob_hombre_comprar}')"
   ]
  },
  {
   "cell_type": "code",
   "execution_count": 22,
   "id": "7cb8873e-39c7-44a1-b972-5863d31684ee",
   "metadata": {},
   "outputs": [
    {
     "data": {
      "text/latex": [
       "$\\displaystyle P(Purchase|Male) = \\frac{Numero\\ de\\ compras\\ NO\\ hechas\\ por\\ hombres}{Numero\\ de\\ hombres\\ del\\ grupo}$"
      ],
      "text/plain": [
       "<IPython.core.display.Math object>"
      ]
     },
     "metadata": {},
     "output_type": "display_data"
    },
    {
     "name": "stdout",
     "output_type": "stream",
     "text": [
      "La probabilidad de ser hombre y comprar es: 0.508130081300813\n"
     ]
    }
   ],
   "source": [
    "# Probabilidad de ser hombre y NO comprar\n",
    "\n",
    "display(Math(r'P(Purchase|Male) = \\frac{Numero\\ de\\ compras\\ NO\\ hechas\\ por\\ hombres}{Numero\\ de\\ hombres\\ del\\ grupo}'))\n",
    "no_compra_hombre = tabla_contingencia.iloc[1, 0]\n",
    "prob_hombre_no_comprar = no_compra_hombre / males_totales\n",
    "print(f'La probabilidad de ser hombre y comprar es: {prob_hombre_no_comprar}')"
   ]
  },
  {
   "cell_type": "code",
   "execution_count": 23,
   "id": "618c51ab-e8d3-4395-91ce-ab8627067601",
   "metadata": {},
   "outputs": [
    {
     "data": {
      "text/latex": [
       "$\\displaystyle P(Purchase|Female) = \\frac{Numero\\ de\\ compras\\ hechas\\ por\\ mujer}{Numero\\ de\\ mujer\\ del\\ grupo}$"
      ],
      "text/plain": [
       "<IPython.core.display.Math object>"
      ]
     },
     "metadata": {},
     "output_type": "display_data"
    },
    {
     "name": "stdout",
     "output_type": "stream",
     "text": [
      "La probabilidad de ser mujer y comprar es: 0.6\n"
     ]
    }
   ],
   "source": [
    "# Probabilidad de ser mujer y comprar\n",
    "\n",
    "display(Math(r'P(Purchase|Female) = \\frac{Numero\\ de\\ compras\\ hechas\\ por\\ mujer}{Numero\\ de\\ mujer\\ del\\ grupo}'))\n",
    "compra_mujer = tabla_contingencia.iloc[0, 1]\n",
    "prob_mujer_comprar = compra_mujer / females_totales\n",
    "print(f'La probabilidad de ser mujer y comprar es: {prob_mujer_comprar}')"
   ]
  },
  {
   "cell_type": "code",
   "execution_count": 25,
   "id": "65f422e7-4fc2-4a33-ae8f-825ddb0063f8",
   "metadata": {},
   "outputs": [
    {
     "data": {
      "text/latex": [
       "$\\displaystyle P(Purchase|Female) = \\frac{Numero\\ de\\ compras\\ NO\\ hechas\\ por\\ mujer}{Numero\\ de\\ mujer\\ del\\ grupo}$"
      ],
      "text/plain": [
       "<IPython.core.display.Math object>"
      ]
     },
     "metadata": {},
     "output_type": "display_data"
    },
    {
     "name": "stdout",
     "output_type": "stream",
     "text": [
      "La probabilidad de ser mujer y NO comprar es: 0.4\n"
     ]
    }
   ],
   "source": [
    "# Probabilidad de ser mujer y NO comprar\n",
    "\n",
    "display(Math(r'P(Purchase|Female) = \\frac{Numero\\ de\\ compras\\ NO\\ hechas\\ por\\ mujer}{Numero\\ de\\ mujer\\ del\\ grupo}'))\n",
    "no_compra_mujer = tabla_contingencia.iloc[0, 0]\n",
    "prob_mujer_no_comprar = no_compra_mujer / females_totales\n",
    "print(f'La probabilidad de ser mujer y NO comprar es: {prob_mujer_no_comprar}')"
   ]
  },
  {
   "cell_type": "markdown",
   "id": "297dccb1-e52f-4140-8278-a1a2b734e726",
   "metadata": {},
   "source": [
    "### Ratio de probabilidades"
   ]
  },
  {
   "cell_type": "markdown",
   "id": "29ecabd1-2fee-4a51-956b-45b530d0b1ea",
   "metadata": {},
   "source": [
    "El ratio de probabilidades es el coeficiente entre la probabilidad de casos de éxito sobre los de fracaso para cada uno de los grupos estudiados.\n",
    "\n",
    "* Si el ratio es superior a 1, es más probable el éxito que el fracas. Cuanto mayor es el ratio, más probabilidad de éxito en nuestro suceso.\r\n",
    "* Si el ratio es exactamente igual a 1, éxito y fracaso son equiprobables (p=0.5)\r\n",
    "* Si el ratio es menor que 1, el fracaso es más probable que el éxito. Cuanto menor es el ratio, menor es la probabilidad de éxito del suceso."
   ]
  },
  {
   "cell_type": "code",
   "execution_count": 30,
   "id": "3703edf0-8b46-4c50-a7a4-31a7a77087ed",
   "metadata": {},
   "outputs": [
    {
     "data": {
      "text/latex": [
       "$\\displaystyle RATIO_{compra,\\ mujer} = \\frac{Probabilidad\\ compra\\ mujer}{1 - Probabilidad\\ compra\\ mujer}$"
      ],
      "text/plain": [
       "<IPython.core.display.Math object>"
      ]
     },
     "metadata": {},
     "output_type": "display_data"
    },
    {
     "data": {
      "text/latex": [
       "$\\displaystyle RATIO_{compra,\\ hombre} = \\frac{Probabilidad\\ compra\\ hombre}{1 - Probabilidad\\ compra\\ hombre}$"
      ],
      "text/plain": [
       "<IPython.core.display.Math object>"
      ]
     },
     "metadata": {},
     "output_type": "display_data"
    }
   ],
   "source": [
    "display(Math(r'RATIO_{compra,\\ mujer} = \\frac{Probabilidad\\ compra\\ mujer}{1 - Probabilidad\\ compra\\ mujer}'))\n",
    "\n",
    "display(Math(r'RATIO_{compra,\\ hombre} = \\frac{Probabilidad\\ compra\\ hombre}{1 - Probabilidad\\ compra\\ hombre}'))"
   ]
  },
  {
   "cell_type": "code",
   "execution_count": 31,
   "id": "f6298f35-8669-448b-a455-ff21014d4a9e",
   "metadata": {},
   "outputs": [
    {
     "data": {
      "text/plain": [
       "1.4999999999999998"
      ]
     },
     "execution_count": 31,
     "metadata": {},
     "output_type": "execute_result"
    }
   ],
   "source": [
    "# Coeficiente compra respecto a mujeres\n",
    "\n",
    "coef_mujer = prob_mujer_comprar / (1 - prob_mujer_comprar)\n",
    "coef_mujer"
   ]
  },
  {
   "cell_type": "code",
   "execution_count": 32,
   "id": "1b1a3ebd-f83c-4dff-8df4-c60ea734ca12",
   "metadata": {},
   "outputs": [
    {
     "data": {
      "text/plain": [
       "0.9680000000000002"
      ]
     },
     "execution_count": 32,
     "metadata": {},
     "output_type": "execute_result"
    }
   ],
   "source": [
    "# Coeficiente compra respecto a hombres\n",
    "\n",
    "coef_hombre = prob_hombre_comprar / (1 - prob_hombre_comprar)\n",
    "coef_hombre"
   ]
  },
  {
   "cell_type": "markdown",
   "id": "b2d71eaf-4561-4f66-9492-58bba33eee9a",
   "metadata": {},
   "source": [
    "### Las matemáticas detrás de la regresión Logística partiendo de la regresión Lineal"
   ]
  },
  {
   "cell_type": "code",
   "execution_count": 36,
   "id": "89cfef48-cc3f-457c-9667-9e1be3631999",
   "metadata": {},
   "outputs": [
    {
     "name": "stdout",
     "output_type": "stream",
     "text": [
      "La regresión lineal se define según la siguinte fórmula:\n"
     ]
    },
    {
     "data": {
      "text/latex": [
       "$\\displaystyle y = \\alpha + \\beta \\cdot x$"
      ],
      "text/plain": [
       "<IPython.core.display.Math object>"
      ]
     },
     "metadata": {},
     "output_type": "display_data"
    },
    {
     "name": "stdout",
     "output_type": "stream",
     "text": [
      "Donde:\n"
     ]
    },
    {
     "data": {
      "text/latex": [
       "$\\displaystyle (x,y)\\in[-\\infty, +\\infty]^2$"
      ],
      "text/plain": [
       "<IPython.core.display.Math object>"
      ]
     },
     "metadata": {},
     "output_type": "display_data"
    }
   ],
   "source": [
    "print('La regresión lineal se define según la siguinte fórmula:')\n",
    "display(Math(r'y = \\alpha + \\beta \\cdot x'))\n",
    "print('Donde:')\n",
    "display(Math(r'(x,y)\\in[-\\infty, +\\infty]^2'))"
   ]
  },
  {
   "cell_type": "code",
   "execution_count": 37,
   "id": "2c374e02-9e3d-4ac9-b8a5-38c52edf73a1",
   "metadata": {},
   "outputs": [
    {
     "data": {
      "text/latex": [
       "$\\displaystyle P = \\alpha + \\beta\\cdot X$"
      ],
      "text/plain": [
       "<IPython.core.display.Math object>"
      ]
     },
     "metadata": {},
     "output_type": "display_data"
    },
    {
     "data": {
      "text/latex": [
       "$\\displaystyle \\frac{P}{1-P} = \\alpha + \\beta\\cdot X\\in [0,+\\infty]$"
      ],
      "text/plain": [
       "<IPython.core.display.Math object>"
      ]
     },
     "metadata": {},
     "output_type": "display_data"
    },
    {
     "data": {
      "text/latex": [
       "$\\displaystyle  ln(\\frac{P}{1-P}) = \\alpha + \\beta\\cdot X$"
      ],
      "text/plain": [
       "<IPython.core.display.Math object>"
      ]
     },
     "metadata": {},
     "output_type": "display_data"
    },
    {
     "data": {
      "text/latex": [
       "$\\displaystyle \\begin{cases}\\frac{P}{1-P}\\in[0,1]\\Rightarrow ln(\\frac{P}{1-P})\\in[-\\infty,0]\\\\ \\frac{P}{1-P}\\in[1,+\\infty]\\Rightarrow ln(\\frac{P}{1-P})\\in[0, \\infty]\\end{cases}$"
      ],
      "text/plain": [
       "<IPython.core.display.Math object>"
      ]
     },
     "metadata": {},
     "output_type": "display_data"
    },
    {
     "data": {
      "text/latex": [
       "$\\displaystyle  ln(\\frac{P}{1-P}) = \\alpha + \\beta\\cdot X$"
      ],
      "text/plain": [
       "<IPython.core.display.Math object>"
      ]
     },
     "metadata": {},
     "output_type": "display_data"
    },
    {
     "data": {
      "text/latex": [
       "$\\displaystyle  \\frac{P}{1-P} = e^{\\alpha + \\beta\\cdot X}$"
      ],
      "text/plain": [
       "<IPython.core.display.Math object>"
      ]
     },
     "metadata": {},
     "output_type": "display_data"
    },
    {
     "data": {
      "text/latex": [
       "$\\displaystyle  P = \\frac{e^{\\alpha+\\beta\\cdot X}}{1+e^{\\alpha+\\beta\\cdot X}}$"
      ],
      "text/plain": [
       "<IPython.core.display.Math object>"
      ]
     },
     "metadata": {},
     "output_type": "display_data"
    },
    {
     "data": {
      "text/latex": [
       "$\\displaystyle  P = \\frac{1}{1+e^{-(\\alpha+\\beta\\cdot X)}}$"
      ],
      "text/plain": [
       "<IPython.core.display.Math object>"
      ]
     },
     "metadata": {},
     "output_type": "display_data"
    }
   ],
   "source": [
    "# Transformaciones para pasar de la regresión lineal (que adopta valores de y desde menos infinito a más infinito) a una\n",
    "# regresión logísitica donde y solo adopta valores de 0 a 1\n",
    "\n",
    "display(Math(r'P = \\alpha + \\beta\\cdot X'))\n",
    "display(Math(r'\\frac{P}{1-P} = \\alpha + \\beta\\cdot X\\in [0,+\\infty]'))\n",
    "display(Math(r' ln(\\frac{P}{1-P}) = \\alpha + \\beta\\cdot X'))\n",
    "display(Math(r'\\begin{cases}\\frac{P}{1-P}\\in[0,1]\\Rightarrow ln(\\frac{P}{1-P})\\in[-\\infty,0]\\\\ \\frac{P}{1-P}\\in[1,+\\infty]\\Rightarrow ln(\\frac{P}{1-P})\\in[0, \\infty]\\end{cases}'))\n",
    "display(Math(r' ln(\\frac{P}{1-P}) = \\alpha + \\beta\\cdot X'))\n",
    "display(Math(r' \\frac{P}{1-P} = e^{\\alpha + \\beta\\cdot X}'))\n",
    "display(Math(r' P = \\frac{e^{\\alpha+\\beta\\cdot X}}{1+e^{\\alpha+\\beta\\cdot X}}'))\n",
    "display(Math(r' P = \\frac{1}{1+e^{-(\\alpha+\\beta\\cdot X)}}'))"
   ]
  },
  {
   "cell_type": "markdown",
   "id": "02ef055a-dc06-4b54-8fdb-30d371fff35c",
   "metadata": {},
   "source": [
    "* Si a+bX es muy pequeño (negativo), entonces P tiende a 0\n",
    "* Si a+bX = 0, P = 0.5\n",
    "* Si a+bX es muy grande (positivo), entonces P tiende a 1"
   ]
  },
  {
   "cell_type": "markdown",
   "id": "4b2edfb7-d99c-4b1f-b421-41c84144c2e0",
   "metadata": {},
   "source": [
    "### Regresión logísitica MULTIPLE"
   ]
  },
  {
   "cell_type": "code",
   "execution_count": 40,
   "id": "2de5cb88-57c8-4b9b-b63f-8c823d78718a",
   "metadata": {},
   "outputs": [
    {
     "data": {
      "text/latex": [
       "$\\displaystyle  P = \\frac{1}{1+e^{-(\\alpha+\\sum_{i=1}^n\\beta_i\\cdot x_i)}}$"
      ],
      "text/plain": [
       "<IPython.core.display.Math object>"
      ]
     },
     "metadata": {},
     "output_type": "display_data"
    },
    {
     "data": {
      "text/latex": [
       "$\\displaystyle  \\vec{\\beta} = (\\beta_1,\\beta_2,\\cdots,\\beta_n)$"
      ],
      "text/plain": [
       "<IPython.core.display.Math object>"
      ]
     },
     "metadata": {},
     "output_type": "display_data"
    },
    {
     "data": {
      "text/latex": [
       "$\\displaystyle  \\vec{X} = (x_1,x_2,\\cdots,x_n)$"
      ],
      "text/plain": [
       "<IPython.core.display.Math object>"
      ]
     },
     "metadata": {},
     "output_type": "display_data"
    },
    {
     "data": {
      "text/latex": [
       "$\\displaystyle  P = \\frac{1}{1+e^{-(\\alpha+\\vec{\\beta_i}\\cdot \\vec{X})}}$"
      ],
      "text/plain": [
       "<IPython.core.display.Math object>"
      ]
     },
     "metadata": {},
     "output_type": "display_data"
    }
   ],
   "source": [
    "display(Math(r' P = \\frac{1}{1+e^{-(\\alpha+\\sum_{i=1}^n\\beta_i\\cdot x_i)}}'))\n",
    "display(Math(r' \\vec{\\beta} = (\\beta_1,\\beta_2,\\cdots,\\beta_n)'))\n",
    "display(Math(r' \\vec{X} = (x_1,x_2,\\cdots,x_n)'))\n",
    "display(Math(r' P = \\frac{1}{1+e^{-(\\alpha+\\vec{\\beta_i}\\cdot \\vec{X})}}'))"
   ]
  },
  {
   "cell_type": "code",
   "execution_count": null,
   "id": "0cd10d8c-e13a-475c-a83e-7a16182af734",
   "metadata": {},
   "outputs": [],
   "source": []
  }
 ],
 "metadata": {
  "kernelspec": {
   "display_name": "Python 3 (ipykernel)",
   "language": "python",
   "name": "python3"
  },
  "language_info": {
   "codemirror_mode": {
    "name": "ipython",
    "version": 3
   },
   "file_extension": ".py",
   "mimetype": "text/x-python",
   "name": "python",
   "nbconvert_exporter": "python",
   "pygments_lexer": "ipython3",
   "version": "3.12.2"
  }
 },
 "nbformat": 4,
 "nbformat_minor": 5
}
